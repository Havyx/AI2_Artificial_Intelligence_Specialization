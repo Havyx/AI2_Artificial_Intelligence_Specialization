{
 "cells": [
  {
   "cell_type": "markdown",
   "metadata": {},
   "source": [
    "# Deep Learning Aplicada aos desafios do HUB"
   ]
  },
  {
   "cell_type": "markdown",
   "metadata": {},
   "source": []
  },
  {
   "cell_type": "markdown",
   "metadata": {},
   "source": [
    "Fontes:\n",
    "* https://www.analyticsvidhya.com/blog/2018/05/essentials-of-deep-learning-trudging-into-unsupervised-deep-learning/\n",
    "\n",
    "* Bosch: https://www.kaggle.com/c/bosch-production-line-performance/data\n",
    "  * Kaggle: https://github.com/hcuny/Bosch-Challenge-kaggle\n",
    "  * https://arxiv.org/pdf/1701.00705.pdf\n",
    "\n",
    "* Séries Temporais\n",
    "  * https://machinelearningmastery.com/time-series-forecasting-methods-in-python-cheat-sheet/"
   ]
  },
  {
   "cell_type": "markdown",
   "metadata": {},
   "source": [
    "deeplearning.pdf -> exemplos para NLP"
   ]
  },
  {
   "cell_type": "markdown",
   "metadata": {},
   "source": [
    "### Plano 8 semanas\n",
    "* Semana 1\n",
    "  * HPC GPU Tensorflow\n",
    "    * Exercício usando Tensorlfow  \n",
    "  * Montagem de sistemas usando conteineres \n",
    "    * Criar um conteiner com streamlit\n",
    "  * Deploy de projetos de deep learning\n",
    "    * Modelar projetos dos parceiros para executar em conteineres\n",
    "* Semana 2\n",
    "  * Introdução a Deep Learning\n",
    "    * Conceitos\n",
    "    * Representação de dados\n",
    "    * Exercício montado representações de dados para projetos dos parceiros\n",
    "  * Keras\n",
    "    * Processo de construir\n",
    "  * Construindo redes neurais \n",
    "    * Keras\n",
    "    * Modelando redes para classificação e regressão  \n",
    "    * Alterando paramêtros da rede \n",
    "\n",
    "* Semana 3\n",
    "  * Convolução\n",
    "    * Conceito de convolução , max pooling, filtros etc\n",
    "    * PyTorch (?) - Se tiver coisas para frente que rodem melhor ou mais fácil em pytorch\n",
    "    * Redes de convolução (CNN)\n",
    "    * Construindo uma rede neural convolucional \n",
    "\n",
    "  * Convolução\n",
    "    * Exemplos de Redes Neurais\n",
    "    * Modelando projetos de parceiros como CNN\n",
    "\n",
    "  * Pré-processamento\n",
    "    * Usando geradores do Keras\n",
    "    * Pre-processamento de imagem\n",
    "  * Convolução\n",
    "  \n",
    "* Semana 4\n",
    "  * Convolução\n",
    "    * Região de Interesse \n",
    "    * Detecção de objetos\n",
    "  * Convolução\n",
    "    * Análise facial\n",
    "  * Convolução\n",
    "    * Análise de imagem de satélites\n",
    "    \n",
    "Semana 5\n",
    " * NLP\n",
    " * TRabalhando com textos e sequencias\n",
    " \n",
    "Semana 6\n",
    " \n",
    "Semana 7\n",
    " * \n",
    "Semana 8\n"
   ]
  },
  {
   "cell_type": "markdown",
   "metadata": {},
   "source": [
    "https://github.com/matterport/Mask_RCNN"
   ]
  },
  {
   "cell_type": "code",
   "execution_count": null,
   "metadata": {},
   "outputs": [],
   "source": []
  },
  {
   "cell_type": "code",
   "execution_count": null,
   "metadata": {},
   "outputs": [],
   "source": []
  }
 ],
 "metadata": {
  "kernelspec": {
   "display_name": "Python 3",
   "language": "python",
   "name": "python3"
  },
  "language_info": {
   "codemirror_mode": {
    "name": "ipython",
    "version": 3
   },
   "file_extension": ".py",
   "mimetype": "text/x-python",
   "name": "python",
   "nbconvert_exporter": "python",
   "pygments_lexer": "ipython3",
   "version": "3.6.9"
  }
 },
 "nbformat": 4,
 "nbformat_minor": 2
}
