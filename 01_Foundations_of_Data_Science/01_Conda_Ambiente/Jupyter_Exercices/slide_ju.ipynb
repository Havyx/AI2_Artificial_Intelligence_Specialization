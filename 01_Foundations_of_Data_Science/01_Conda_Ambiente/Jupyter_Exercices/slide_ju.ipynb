{
 "cells": [
  {
   "cell_type": "markdown",
   "metadata": {
    "slideshow": {
     "slide_type": "slide"
    }
   },
   "source": [
    "## Slide Jupyter"
   ]
  },
  {
   "cell_type": "markdown",
   "metadata": {
    "slideshow": {
     "slide_type": "slide"
    }
   },
   "source": [
    "## Bandeira do Pará"
   ]
  },
  {
   "cell_type": "markdown",
   "metadata": {
    "slideshow": {
     "slide_type": "subslide"
    }
   },
   "source": [
    "!wget https://upload.wikimedia.org/wikipedia/commons/thumb/0/02/Bandeira_do_Par%C3%A1.svg/2000px-Bandeira_do_Par%C3%A1.svg.png"
   ]
  },
  {
   "cell_type": "markdown",
   "metadata": {
    "slideshow": {
     "slide_type": "slide"
    }
   },
   "source": [
    "## Ver-o-Peso Belem"
   ]
  },
  {
   "cell_type": "markdown",
   "metadata": {
    "slideshow": {
     "slide_type": "subslide"
    }
   },
   "source": [
    "![ver-o-peso](http://portalamazonia.com/uploads/pics/vero_o_peso_aerea_ag_para.JPG)"
   ]
  },
  {
   "cell_type": "markdown",
   "metadata": {
    "slideshow": {
     "slide_type": "slide"
    }
   },
   "source": [
    "## Carimbó"
   ]
  },
  {
   "cell_type": "markdown",
   "metadata": {
    "slideshow": {
     "slide_type": "subslide"
    }
   },
   "source": [
    "![carimbo](http://s2.glbimg.com/DEAG04eHDJlroU1l6zWeEaogUIA=/s.glbimg.com/jo/g1/f/original/2012/08/01/carimbo.jpg)"
   ]
  },
  {
   "cell_type": "markdown",
   "metadata": {
    "slideshow": {
     "slide_type": "slide"
    }
   },
   "source": [
    "## Teatro da Paz"
   ]
  },
  {
   "cell_type": "markdown",
   "metadata": {
    "slideshow": {
     "slide_type": "subslide"
    }
   },
   "source": [
    "![](https://upload.wikimedia.org/wikipedia/commons/b/b4/Teatro_da_Paz_3.jpg)"
   ]
  },
  {
   "cell_type": "markdown",
   "metadata": {
    "slideshow": {
     "slide_type": "slide"
    }
   },
   "source": [
    "## Tacacá"
   ]
  },
  {
   "cell_type": "markdown",
   "metadata": {
    "slideshow": {
     "slide_type": "subslide"
    }
   },
   "source": [
    "![tacaca](https://t1.rg.ltmcdn.com/pt/images/5/1/9/img_tacaca_paraense_2915_orig.jpg)"
   ]
  },
  {
   "cell_type": "markdown",
   "metadata": {
    "slideshow": {
     "slide_type": "slide"
    }
   },
   "source": [
    "## Pato no tucupi"
   ]
  },
  {
   "cell_type": "markdown",
   "metadata": {
    "slideshow": {
     "slide_type": "subslide"
    }
   },
   "source": [
    "![Pato no tucupi](https://img.cybercook.com.br/imagens/receitas/283/pato-no-tucupi-1.jpg)"
   ]
  },
  {
   "cell_type": "markdown",
   "metadata": {
    "slideshow": {
     "slide_type": "slide"
    }
   },
   "source": [
    "## Maniçoba"
   ]
  },
  {
   "cell_type": "markdown",
   "metadata": {
    "slideshow": {
     "slide_type": "subslide"
    }
   },
   "source": [
    "![Maniçoba](https://s3.amazonaws.com/academiadacarne/content/2641-manicoba-feita-com-folhas-da-mandioca-cozidas-por-uma-semana.jpg)"
   ]
  },
  {
   "cell_type": "markdown",
   "metadata": {
    "slideshow": {
     "slide_type": "slide"
    }
   },
   "source": [
    "## Açai"
   ]
  },
  {
   "cell_type": "markdown",
   "metadata": {
    "slideshow": {
     "slide_type": "subslide"
    }
   },
   "source": [
    "![](https://media-cdn.tripadvisor.com/media/photo-s/09/0a/8f/2d/iaca-acai-na-tigela.jpg)"
   ]
  },
  {
   "cell_type": "markdown",
   "metadata": {
    "slideshow": {
     "slide_type": "slide"
    }
   },
   "source": [
    "## Vatapá"
   ]
  },
  {
   "cell_type": "markdown",
   "metadata": {
    "slideshow": {
     "slide_type": "subslide"
    }
   },
   "source": [
    "![Vatapa](https://media-cdn.tripadvisor.com/media/photo-s/0f/e6/11/c3/vatapa.jpg)"
   ]
  },
  {
   "cell_type": "markdown",
   "metadata": {
    "slideshow": {
     "slide_type": "slide"
    }
   },
   "source": [
    "## Caruru"
   ]
  },
  {
   "cell_type": "markdown",
   "metadata": {
    "slideshow": {
     "slide_type": "subslide"
    }
   },
   "source": [
    "![caruru](https://www.receitasdecomidas.com.br/wp-content/uploads/2017/11/caruru-paraense-420x279.jpg)"
   ]
  },
  {
   "cell_type": "markdown",
   "metadata": {
    "slideshow": {
     "slide_type": "slide"
    }
   },
   "source": [
    "## Filhote no tucupi"
   ]
  },
  {
   "cell_type": "markdown",
   "metadata": {
    "slideshow": {
     "slide_type": "subslide"
    }
   },
   "source": [
    "![filhote](https://media-cdn.tripadvisor.com/media/photo-s/0e/e7/88/d2/file-de-filhote-ao-molho.jpg)"
   ]
  },
  {
   "cell_type": "code",
   "execution_count": 1,
   "metadata": {},
   "outputs": [
    {
     "name": "stdout",
     "output_type": "stream",
     "text": [
      "--2019-10-03 17:26:34--  https://upload.wikimedia.org/wikipedia/commons/thumb/0/02/Bandeira_do_Par%C3%A1.svg/2000px-Bandeira_do_Par%C3%A1.svg.png\n",
      "Resolving upload.wikimedia.org (upload.wikimedia.org)... 2620:0:861:ed1a::2:b, 208.80.154.240\n",
      "Connecting to upload.wikimedia.org (upload.wikimedia.org)|2620:0:861:ed1a::2:b|:443... connected.\n",
      "HTTP request sent, awaiting response... 200 OK\n",
      "Length: 53182 (52K) [image/png]\n",
      "Saving to: ‘2000px-Bandeira_do_Pará.svg.png’\n",
      "\n",
      "2000px-Bandeira_do_ 100%[===================>]  51.94K   240KB/s    in 0.2s    \n",
      "\n",
      "2019-10-03 17:26:35 (240 KB/s) - ‘2000px-Bandeira_do_Pará.svg.png’ saved [53182/53182]\n",
      "\n"
     ]
    }
   ],
   "source": [
    "!wget https://upload.wikimedia.org/wikipedia/commons/thumb/0/02/Bandeira_do_Par%C3%A1.svg/2000px-Bandeira_do_Par%C3%A1.svg.png"
   ]
  },
  {
   "cell_type": "code",
   "execution_count": 2,
   "metadata": {},
   "outputs": [
    {
     "name": "stdout",
     "output_type": "stream",
     "text": [
      "--2019-10-03 17:26:56--  http://portalamazonia.com/uploads/pics/vero_o_peso_aerea_ag_para.JPG\n",
      "Resolving portalamazonia.com (portalamazonia.com)... 54.232.209.10, 54.207.125.169\n",
      "Connecting to portalamazonia.com (portalamazonia.com)|54.232.209.10|:80... connected.\n",
      "HTTP request sent, awaiting response... 200 OK\n",
      "Length: 206564 (202K) [image/jpeg]\n",
      "Saving to: ‘vero_o_peso_aerea_ag_para.JPG’\n",
      "\n",
      "vero_o_peso_aerea_a 100%[===================>] 201.72K  --.-KB/s    in 0.09s   \n",
      "\n",
      "2019-10-03 17:26:56 (2.31 MB/s) - ‘vero_o_peso_aerea_ag_para.JPG’ saved [206564/206564]\n",
      "\n"
     ]
    }
   ],
   "source": [
    "!wget http://portalamazonia.com/uploads/pics/vero_o_peso_aerea_ag_para.JPG"
   ]
  },
  {
   "cell_type": "code",
   "execution_count": 3,
   "metadata": {},
   "outputs": [
    {
     "name": "stdout",
     "output_type": "stream",
     "text": [
      "--2019-10-03 17:27:12--  http://s2.glbimg.com/DEAG04eHDJlroU1l6zWeEaogUIA=/s.glbimg.com/jo/g1/f/original/2012/08/01/carimbo.jpg\n",
      "Resolving s2.glbimg.com (s2.glbimg.com)... 186.192.91.9\n",
      "Connecting to s2.glbimg.com (s2.glbimg.com)|186.192.91.9|:80... connected.\n",
      "HTTP request sent, awaiting response... 200 OK\n",
      "Length: 69164 (68K) [image/jpeg]\n",
      "Saving to: ‘carimbo.jpg’\n",
      "\n",
      "carimbo.jpg         100%[===================>]  67.54K  --.-KB/s    in 0.04s   \n",
      "\n",
      "2019-10-03 17:27:13 (1.68 MB/s) - ‘carimbo.jpg’ saved [69164/69164]\n",
      "\n"
     ]
    }
   ],
   "source": [
    "!wget http://s2.glbimg.com/DEAG04eHDJlroU1l6zWeEaogUIA=/s.glbimg.com/jo/g1/f/original/2012/08/01/carimbo.jpg"
   ]
  },
  {
   "cell_type": "code",
   "execution_count": 4,
   "metadata": {},
   "outputs": [
    {
     "name": "stdout",
     "output_type": "stream",
     "text": [
      "--2019-10-03 17:27:37--  https://upload.wikimedia.org/wikipedia/commons/b/b4/Teatro_da_Paz_3.jpg\n",
      "Resolving upload.wikimedia.org (upload.wikimedia.org)... 2620:0:861:ed1a::2:b, 208.80.154.240\n",
      "Connecting to upload.wikimedia.org (upload.wikimedia.org)|2620:0:861:ed1a::2:b|:443... connected.\n",
      "HTTP request sent, awaiting response... 200 OK\n",
      "Length: 7453782 (7.1M) [image/jpeg]\n",
      "Saving to: ‘Teatro_da_Paz_3.jpg’\n",
      "\n",
      "Teatro_da_Paz_3.jpg 100%[===================>]   7.11M  2.55MB/s    in 2.8s    \n",
      "\n",
      "2019-10-03 17:27:42 (2.55 MB/s) - ‘Teatro_da_Paz_3.jpg’ saved [7453782/7453782]\n",
      "\n"
     ]
    }
   ],
   "source": [
    "!wget https://upload.wikimedia.org/wikipedia/commons/b/b4/Teatro_da_Paz_3.jpg"
   ]
  },
  {
   "cell_type": "code",
   "execution_count": 5,
   "metadata": {},
   "outputs": [
    {
     "name": "stdout",
     "output_type": "stream",
     "text": [
      "--2019-10-03 17:28:06--  https://t1.rg.ltmcdn.com/pt/images/5/1/9/img_tacaca_paraense_2915_orig.jpg\n",
      "Resolving t1.rg.ltmcdn.com (t1.rg.ltmcdn.com)... 189.1.36.36\n",
      "Connecting to t1.rg.ltmcdn.com (t1.rg.ltmcdn.com)|189.1.36.36|:443... connected.\n",
      "HTTP request sent, awaiting response... 200 OK\n",
      "Length: 68962 (67K) [image/jpeg]\n",
      "Saving to: ‘img_tacaca_paraense_2915_orig.jpg’\n",
      "\n",
      "img_tacaca_paraense 100%[===================>]  67.35K  --.-KB/s    in 0.03s   \n",
      "\n",
      "2019-10-03 17:28:06 (1.96 MB/s) - ‘img_tacaca_paraense_2915_orig.jpg’ saved [68962/68962]\n",
      "\n"
     ]
    }
   ],
   "source": [
    "!wget https://t1.rg.ltmcdn.com/pt/images/5/1/9/img_tacaca_paraense_2915_orig.jpg"
   ]
  },
  {
   "cell_type": "code",
   "execution_count": 6,
   "metadata": {},
   "outputs": [
    {
     "name": "stdout",
     "output_type": "stream",
     "text": [
      "--2019-10-03 17:28:21--  https://img.cybercook.com.br/imagens/receitas/283/pato-no-tucupi-1.jpg\n",
      "Resolving img.cybercook.com.br (img.cybercook.com.br)... 35.244.243.166\n",
      "Connecting to img.cybercook.com.br (img.cybercook.com.br)|35.244.243.166|:443... connected.\n",
      "HTTP request sent, awaiting response... 200 OK\n",
      "Length: 56566 (55K) [image/jpeg]\n",
      "Saving to: ‘pato-no-tucupi-1.jpg’\n",
      "\n",
      "pato-no-tucupi-1.jp 100%[===================>]  55.24K  --.-KB/s    in 0.03s   \n",
      "\n",
      "2019-10-03 17:28:22 (1.62 MB/s) - ‘pato-no-tucupi-1.jpg’ saved [56566/56566]\n",
      "\n"
     ]
    }
   ],
   "source": [
    "!wget https://img.cybercook.com.br/imagens/receitas/283/pato-no-tucupi-1.jpg"
   ]
  },
  {
   "cell_type": "code",
   "execution_count": 7,
   "metadata": {},
   "outputs": [
    {
     "name": "stdout",
     "output_type": "stream",
     "text": [
      "--2019-10-03 17:28:38--  https://s3.amazonaws.com/academiadacarne/content/2641-manicoba-feita-com-folhas-da-mandioca-cozidas-por-uma-semana.jpg\n",
      "Resolving s3.amazonaws.com (s3.amazonaws.com)... 52.216.98.237\n",
      "Connecting to s3.amazonaws.com (s3.amazonaws.com)|52.216.98.237|:443... connected.\n",
      "HTTP request sent, awaiting response... 200 OK\n",
      "Length: 65708 (64K) [binary/octet-stream]\n",
      "Saving to: ‘2641-manicoba-feita-com-folhas-da-mandioca-cozidas-por-uma-semana.jpg’\n",
      "\n",
      "2641-manicoba-feita 100%[===================>]  64.17K   222KB/s    in 0.3s    \n",
      "\n",
      "2019-10-03 17:28:39 (222 KB/s) - ‘2641-manicoba-feita-com-folhas-da-mandioca-cozidas-por-uma-semana.jpg’ saved [65708/65708]\n",
      "\n"
     ]
    }
   ],
   "source": [
    "!wget https://s3.amazonaws.com/academiadacarne/content/2641-manicoba-feita-com-folhas-da-mandioca-cozidas-por-uma-semana.jpg"
   ]
  },
  {
   "cell_type": "code",
   "execution_count": 8,
   "metadata": {},
   "outputs": [
    {
     "name": "stdout",
     "output_type": "stream",
     "text": [
      "--2019-10-03 17:29:06--  https://media-cdn.tripadvisor.com/media/photo-s/09/0a/8f/2d/iaca-acai-na-tigela.jpg\n",
      "Resolving media-cdn.tripadvisor.com (media-cdn.tripadvisor.com)... 23.10.53.90\n",
      "Connecting to media-cdn.tripadvisor.com (media-cdn.tripadvisor.com)|23.10.53.90|:443... connected.\n",
      "HTTP request sent, awaiting response... 200 OK\n",
      "Length: 34807 (34K) [image/jpeg]\n",
      "Saving to: ‘iaca-acai-na-tigela.jpg’\n",
      "\n",
      "iaca-acai-na-tigela 100%[===================>]  33.99K  --.-KB/s    in 0.01s   \n",
      "\n",
      "2019-10-03 17:29:07 (3.08 MB/s) - ‘iaca-acai-na-tigela.jpg’ saved [34807/34807]\n",
      "\n"
     ]
    }
   ],
   "source": [
    "!wget https://media-cdn.tripadvisor.com/media/photo-s/09/0a/8f/2d/iaca-acai-na-tigela.jpg"
   ]
  },
  {
   "cell_type": "code",
   "execution_count": 9,
   "metadata": {},
   "outputs": [
    {
     "name": "stdout",
     "output_type": "stream",
     "text": [
      "--2019-10-03 17:29:36--  https://media-cdn.tripadvisor.com/media/photo-s/0f/e6/11/c3/vatapa.jpg\n",
      "Resolving media-cdn.tripadvisor.com (media-cdn.tripadvisor.com)... 23.10.53.90\n",
      "Connecting to media-cdn.tripadvisor.com (media-cdn.tripadvisor.com)|23.10.53.90|:443... connected.\n",
      "HTTP request sent, awaiting response... 200 OK\n",
      "Length: 59481 (58K) [image/jpeg]\n",
      "Saving to: ‘vatapa.jpg’\n",
      "\n",
      "vatapa.jpg          100%[===================>]  58.09K   362KB/s    in 0.2s    \n",
      "\n",
      "2019-10-03 17:29:36 (362 KB/s) - ‘vatapa.jpg’ saved [59481/59481]\n",
      "\n"
     ]
    }
   ],
   "source": [
    "!wget https://media-cdn.tripadvisor.com/media/photo-s/0f/e6/11/c3/vatapa.jpg"
   ]
  },
  {
   "cell_type": "code",
   "execution_count": 10,
   "metadata": {},
   "outputs": [
    {
     "name": "stdout",
     "output_type": "stream",
     "text": [
      "--2019-10-03 17:30:15--  https://www.receitasdecomidas.com.br/wp-content/uploads/2017/11/caruru-paraense-420x279.jpg\n",
      "Resolving www.receitasdecomidas.com.br (www.receitasdecomidas.com.br)... 177.54.144.174\n",
      "Connecting to www.receitasdecomidas.com.br (www.receitasdecomidas.com.br)|177.54.144.174|:443... connected.\n",
      "HTTP request sent, awaiting response... 200 OK\n",
      "Length: 27080 (26K) [image/jpeg]\n",
      "Saving to: ‘caruru-paraense-420x279.jpg’\n",
      "\n",
      "caruru-paraense-420 100%[===================>]  26.45K  --.-KB/s    in 0.005s  \n",
      "\n",
      "2019-10-03 17:30:16 (5.36 MB/s) - ‘caruru-paraense-420x279.jpg’ saved [27080/27080]\n",
      "\n"
     ]
    }
   ],
   "source": [
    "!wget https://www.receitasdecomidas.com.br/wp-content/uploads/2017/11/caruru-paraense-420x279.jpg"
   ]
  },
  {
   "cell_type": "code",
   "execution_count": 11,
   "metadata": {},
   "outputs": [
    {
     "name": "stdout",
     "output_type": "stream",
     "text": [
      "--2019-10-03 17:30:35--  https://media-cdn.tripadvisor.com/media/photo-s/0e/e7/88/d2/file-de-filhote-ao-molho.jpg\n",
      "Resolving media-cdn.tripadvisor.com (media-cdn.tripadvisor.com)... 152.199.53.242\n",
      "Connecting to media-cdn.tripadvisor.com (media-cdn.tripadvisor.com)|152.199.53.242|:443... connected.\n",
      "HTTP request sent, awaiting response... 200 OK\n",
      "Length: 37571 (37K) [image/jpeg]\n",
      "Saving to: ‘file-de-filhote-ao-molho.jpg’\n",
      "\n",
      "file-de-filhote-ao- 100%[===================>]  36.69K  --.-KB/s    in 0.004s  \n",
      "\n",
      "2019-10-03 17:30:35 (8.59 MB/s) - ‘file-de-filhote-ao-molho.jpg’ saved [37571/37571]\n",
      "\n"
     ]
    }
   ],
   "source": [
    "!wget https://media-cdn.tripadvisor.com/media/photo-s/0e/e7/88/d2/file-de-filhote-ao-molho.jpg"
   ]
  },
  {
   "cell_type": "code",
   "execution_count": 12,
   "metadata": {},
   "outputs": [
    {
     "name": "stdout",
     "output_type": "stream",
     "text": [
      "/home/savio\r\n"
     ]
    }
   ],
   "source": [
    "!pwd"
   ]
  },
  {
   "cell_type": "code",
   "execution_count": 13,
   "metadata": {},
   "outputs": [
    {
     "name": "stdout",
     "output_type": "stream",
     "text": [
      "/bin/sh: 1: mkdin: not found\r\n"
     ]
    }
   ],
   "source": [
    "!mkdin img"
   ]
  },
  {
   "cell_type": "code",
   "execution_count": 14,
   "metadata": {},
   "outputs": [],
   "source": [
    "!mkdir img"
   ]
  },
  {
   "cell_type": "code",
   "execution_count": 15,
   "metadata": {},
   "outputs": [
    {
     "name": "stdout",
     "output_type": "stream",
     "text": [
      " 2000px-Bandeira_do_Pará.svg.png\r\n",
      " 2641-manicoba-feita-com-folhas-da-mandioca-cozidas-por-uma-semana.jpg\r\n",
      " abc.jpeg\r\n",
      "'Área de Trabalho'\r\n",
      " carimbo.jpg\r\n",
      " caruru-paraense-420x279.jpg\r\n",
      " Documentos\r\n",
      " Downloads\r\n",
      " env01.yml\r\n",
      " env02.yml\r\n",
      " examples.desktop\r\n",
      " execicio_jup_savio.ipynb\r\n",
      " fiepenv.yml\r\n",
      " file-de-filhote-ao-molho.jpg\r\n",
      " iaca-acai-na-tigela.jpg\r\n",
      " Imagens\r\n",
      " img\r\n",
      " img_tacaca_paraense_2915_orig.jpg\r\n",
      " miniconda3\r\n",
      " Modelos\r\n",
      " Música\r\n",
      " pato-no-tucupi-1.jpg\r\n",
      " Público\r\n",
      " rvNmxuuGbMeY9qsW6\r\n",
      " slide_ju.ipynb\r\n",
      " Teatro_da_Paz_3.jpg\r\n",
      " test_fiep.ipynb\r\n",
      " vatapa.jpg\r\n",
      " vero_o_peso_aerea_ag_para.JPG\r\n",
      " Vídeos\r\n"
     ]
    }
   ],
   "source": [
    "!ls"
   ]
  },
  {
   "cell_type": "code",
   "execution_count": null,
   "metadata": {},
   "outputs": [],
   "source": []
  }
 ],
 "metadata": {
  "celltoolbar": "Slideshow",
  "kernelspec": {
   "display_name": "Python 3",
   "language": "python",
   "name": "python3"
  },
  "language_info": {
   "codemirror_mode": {
    "name": "ipython",
    "version": 3
   },
   "file_extension": ".py",
   "mimetype": "text/x-python",
   "name": "python",
   "nbconvert_exporter": "python",
   "pygments_lexer": "ipython3",
   "version": "3.7.4"
  }
 },
 "nbformat": 4,
 "nbformat_minor": 2
}
