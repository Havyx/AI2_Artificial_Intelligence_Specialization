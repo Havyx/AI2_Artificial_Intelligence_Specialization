{
 "cells": [
  {
   "cell_type": "markdown",
   "metadata": {
    "slideshow": {
     "slide_type": "slide"
    }
   },
   "source": [
    "# Image Processing\n",
    "  \n",
    "  \n",
    "  \n",
    "  \n",
    "Everton Sávio Santos Lucas\n",
    "\n",
    "### Exercicio 02: Montar uma apresentação de 5 slides no Jupyter"
   ]
  },
  {
   "cell_type": "markdown",
   "metadata": {
    "slideshow": {
     "slide_type": "slide"
    }
   },
   "source": [
    "# Image Processing\n",
    "\n",
    "### But what is a image for the computer?\n",
    "\n",
    "![](wiiimg.PNG)"
   ]
  },
  {
   "cell_type": "markdown",
   "metadata": {
    "slideshow": {
     "slide_type": "slide"
    }
   },
   "source": [
    "# Tools required for Image processing \n",
    "- Good data structure for representing Grids/Matrix\n",
    "- Efficient Operations on Matrix \n",
    " - Matrix multiplications\n",
    " - Broadcasting\n",
    " - Inverse... etc\n",
    " - Eigen analysis\n",
    " - SVD\n",
    "- IO\n",
    " - Reading/writing of images and videos\n",
    "- GUI"
   ]
  },
  {
   "cell_type": "markdown",
   "metadata": {
    "slideshow": {
     "slide_type": "subslide"
    }
   },
   "source": [
    "- Machine learning support\n",
    " - Optimization algorithms\n",
    " - Gradient descent etc\n",
    "- Image processing algorithms \n",
    " - Filters/Convolutions\n",
    " - Transforms\n",
    " - Histogram Equalization\n",
    " - Specific CV algorithms - Canny Edge detectors, Flood filling, Scale space, Contours, Features, etc"
   ]
  },
  {
   "cell_type": "markdown",
   "metadata": {
    "slideshow": {
     "slide_type": "slide"
    }
   },
   "source": [
    "# Introduction to OpenCV\n",
    "- OpenCV stands for the Open Source Computer Vision Library. \n",
    "- Founded at Intel in 1999\n",
    "- OpenCV is free for commercial and research use. \n",
    "- It has a BSD license.  The library runs across many platforms and actively supports Linux, Windows and Mac OS. - OpenCV was founded to advance the field of computer vision. \n",
    "- It gives everyone a reliable, real time infrastructure to build on.  It collects the most useful algorithms"
   ]
  },
  {
   "cell_type": "markdown",
   "metadata": {
    "slideshow": {
     "slide_type": "slide"
    }
   },
   "source": [
    "![](opencv.png)"
   ]
  },
  {
   "cell_type": "markdown",
   "metadata": {
    "slideshow": {
     "slide_type": "subslide"
    }
   },
   "source": [
    "# Thank you!"
   ]
  }
 ],
 "metadata": {
  "celltoolbar": "Slideshow",
  "kernelspec": {
   "display_name": "Python 3",
   "language": "python",
   "name": "python3"
  },
  "language_info": {
   "codemirror_mode": {
    "name": "ipython",
    "version": 3
   },
   "file_extension": ".py",
   "mimetype": "text/x-python",
   "name": "python",
   "nbconvert_exporter": "python",
   "pygments_lexer": "ipython3",
   "version": "3.7.3"
  }
 },
 "nbformat": 4,
 "nbformat_minor": 2
}
