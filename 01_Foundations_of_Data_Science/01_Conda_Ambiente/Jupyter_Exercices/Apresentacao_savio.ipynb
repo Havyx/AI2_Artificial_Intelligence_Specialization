{
 "cells": [
  {
   "cell_type": "markdown",
   "metadata": {},
   "source": [
    "# __Everton Sávio Santos Lucas__\n",
    "\n",
    "__Formação Técnica :__ Mecatrônica  \n",
    "__Formação Acadêmica:__ Bacharelado em Ciência e Tecnologia | Engenharia Mecânica  \n",
    "__Principais interesses:__ Manuteção Preditiva, IIoT, Computação Visual aplicada a I4.0    \n",
    "\n",
    "### Conhecimentos e experiências:\n",
    "\n",
    "   - Trabalhei em empresas de TI como Sonda e IBM na area de servidores Windows Server (Active Directory) e Lotus Notes. (MCP, MCSA)\n",
    "   - Experiência em desenvolvimento de aplicações em PHP (CodeIgniter Web Framework padrão MVC) com dados armazenados em MariaDB (conhecimento em SQL e IoT).\n",
    "   - Ministrei oficinas de prototipagem (esp32, arduino) em âmbito acadêmico para alunos recém-egressos nas engenharias.\n",
    "   - Conhecimento em automação de tarefas operacionais rotineiras feitas em excel utlizando de VBA.\n",
    "   - Experiência na criação de dashboards relacionais com dados de produtos de certificação compulsória INMETRO e dados do setor automotivo com a ferramenta POWER BI na empresa Continental.\n",
    "\n",
    "#### Artigos academicos:\n",
    "\n",
    "TCC: Sistema de Coleta e Armazenamento de Dados Aplicado ao Efeito Chaminé em Edificações\n",
    "<br>\n",
    "<br>\n",
    "### Git Hub link:\n",
    "<a href=\"https://github.com/Havyx\">\n",
    "<img border=\"0\" alt=\"GitHub\" src=\"https://cdn.tutsplus.com/net/uploads/2013/08/github-collab-retina-preview.gif\" width=\"100\" height=\"100\"><br>  "
   ]
  },
  {
   "cell_type": "markdown",
   "metadata": {},
   "source": [
    "## [Me] on Hub AI Team:\n",
    "    \n",
    "![](hub_m.jpeg)"
   ]
  }
 ],
 "metadata": {
  "kernelspec": {
   "display_name": "Python 3",
   "language": "python",
   "name": "python3"
  },
  "language_info": {
   "codemirror_mode": {
    "name": "ipython",
    "version": 3
   },
   "file_extension": ".py",
   "mimetype": "text/x-python",
   "name": "python",
   "nbconvert_exporter": "python",
   "pygments_lexer": "ipython3",
   "version": "3.7.3"
  }
 },
 "nbformat": 4,
 "nbformat_minor": 2
}
