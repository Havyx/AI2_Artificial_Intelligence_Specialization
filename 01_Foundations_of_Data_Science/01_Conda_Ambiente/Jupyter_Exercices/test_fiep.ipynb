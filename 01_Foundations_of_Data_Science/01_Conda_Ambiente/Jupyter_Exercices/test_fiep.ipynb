{
 "cells": [
  {
   "cell_type": "markdown",
   "metadata": {
    "slideshow": {
     "slide_type": "slide"
    }
   },
   "source": [
    "# Tutorial"
   ]
  },
  {
   "cell_type": "markdown",
   "metadata": {
    "slideshow": {
     "slide_type": "slide"
    }
   },
   "source": [
    "## exibicao de lista"
   ]
  },
  {
   "cell_type": "code",
   "execution_count": null,
   "metadata": {
    "slideshow": {
     "slide_type": "fragment"
    }
   },
   "outputs": [],
   "source": [
    "lista = [1, 2, 4]\n",
    "print(lista)"
   ]
  },
  {
   "cell_type": "code",
   "execution_count": null,
   "metadata": {},
   "outputs": [],
   "source": [
    "!conda install -c conda-forge RISE -y"
   ]
  },
  {
   "cell_type": "code",
   "execution_count": null,
   "metadata": {},
   "outputs": [],
   "source": [
    "!conda search -c conda-forge jupyterlab"
   ]
  },
  {
   "cell_type": "code",
   "execution_count": null,
   "metadata": {},
   "outputs": [],
   "source": [
    "!conda install -c conda-forge jupyterlab -y"
   ]
  },
  {
   "cell_type": "code",
   "execution_count": null,
   "metadata": {},
   "outputs": [],
   "source": [
    "!ls"
   ]
  },
  {
   "cell_type": "markdown",
   "metadata": {
    "slideshow": {
     "slide_type": "subslide"
    }
   },
   "source": [
    "![Salt Bae](https://thenypost.files.wordpress.com/2019/01/salt-bae-swiped-our-tips-then-fired-us-for-complaining.jpg)"
   ]
  },
  {
   "cell_type": "code",
   "execution_count": 1,
   "metadata": {},
   "outputs": [
    {
     "name": "stdout",
     "output_type": "stream",
     "text": [
      "/home/savio\r\n"
     ]
    }
   ],
   "source": [
    "!pwd"
   ]
  },
  {
   "cell_type": "code",
   "execution_count": 2,
   "metadata": {
    "slideshow": {
     "slide_type": "fragment"
    }
   },
   "outputs": [
    {
     "name": "stdout",
     "output_type": "stream",
     "text": [
      " 15:42:25 up  2:46,  1 user,  load average: 1.25, 1.41, 1.38\r\n"
     ]
    }
   ],
   "source": [
    "!uptime"
   ]
  },
  {
   "cell_type": "code",
   "execution_count": 5,
   "metadata": {},
   "outputs": [
    {
     "name": "stdout",
     "output_type": "stream",
     "text": [
      "total 88\r\n",
      "-rw-r--r--  1 savio savio  8980 Oct  1 16:22  examples.desktop\r\n",
      "drwxr-xr-x  2 savio savio  4096 Oct  1 16:26  Vídeos\r\n",
      "drwxr-xr-x  2 savio savio  4096 Oct  1 16:26  Público\r\n",
      "drwxr-xr-x  2 savio savio  4096 Oct  1 16:26  Música\r\n",
      "drwxr-xr-x  2 savio savio  4096 Oct  1 16:26  Modelos\r\n",
      "drwxr-xr-x  2 savio savio  4096 Oct  1 16:26 'Área de Trabalho'\r\n",
      "drwxrwxr-x 55 savio savio  4096 Oct  2 14:55  miniconda3\r\n",
      "-rw-rw-r--  1 savio savio  1040 Oct  2 16:24  fiepenv.yml\r\n",
      "-rw-rw-r--  1 savio savio   976 Oct  3 10:26  env01.yml\r\n",
      "-rw-rw-r--  1 savio savio   577 Oct  3 10:27  env02.yml\r\n",
      "drwxr-xr-x  2 savio savio  4096 Oct  3 10:31  Imagens\r\n",
      "drwxr-xr-x  2 savio savio  4096 Oct  3 11:02  Downloads\r\n",
      "drwxr-xr-x  4 savio savio  4096 Oct  3 14:12  Documentos\r\n",
      "-rw-rw-r--  1 savio savio 24533 Oct  3 15:26  rvNmxuuGbMeY9qsW6\r\n",
      "-rw-rw-r--  1 savio savio  2560 Oct  3 15:43  test_fiep.ipynb\r\n"
     ]
    }
   ],
   "source": [
    "!ls -lrt"
   ]
  },
  {
   "cell_type": "markdown",
   "metadata": {},
   "source": [
    "Comandos do sistema"
   ]
  },
  {
   "cell_type": "code",
   "execution_count": 6,
   "metadata": {},
   "outputs": [
    {
     "name": "stdout",
     "output_type": "stream",
     "text": [
      "'Área de Trabalho'   env02.yml\t        miniconda3   rvNmxuuGbMeY9qsW6\r\n",
      " Documentos\t     examples.desktop   Modelos      test_fiep.ipynb\r\n",
      " Downloads\t     fiepenv.yml        Música\t     Vídeos\r\n",
      " env01.yml\t     Imagens\t        Público\r\n"
     ]
    }
   ],
   "source": [
    "!ls"
   ]
  },
  {
   "cell_type": "code",
   "execution_count": 7,
   "metadata": {},
   "outputs": [
    {
     "name": "stdout",
     "output_type": "stream",
     "text": [
      "\u001b[?1h\u001b=\u001b[H\u001b[2J\u001b[mtop - 15:53:55 up  2:58,  1 user,  load average: 1.86, 1.54, 1.43\u001b[m\u001b[m\u001b[m\u001b[m\u001b[K\n",
      "Tasks:\u001b[m\u001b[m\u001b[1m 322 \u001b[m\u001b[mtotal,\u001b[m\u001b[m\u001b[1m   2 \u001b[m\u001b[mrunning,\u001b[m\u001b[m\u001b[1m 243 \u001b[m\u001b[msleeping,\u001b[m\u001b[m\u001b[1m   0 \u001b[m\u001b[mstopped,\u001b[m\u001b[m\u001b[1m   0 \u001b[m\u001b[mzombie\u001b[m\u001b[m\u001b[m\u001b[m\u001b[K\n",
      "%Cpu(s):\u001b[m\u001b[m\u001b[1m  7.0 \u001b[m\u001b[mus,\u001b[m\u001b[m\u001b[1m  3.2 \u001b[m\u001b[msy,\u001b[m\u001b[m\u001b[1m  0.0 \u001b[m\u001b[mni,\u001b[m\u001b[m\u001b[1m 87.9 \u001b[m\u001b[mid,\u001b[m\u001b[m\u001b[1m  0.3 \u001b[m\u001b[mwa,\u001b[m\u001b[m\u001b[1m  0.0 \u001b[m\u001b[mhi,\u001b[m\u001b[m\u001b[1m  1.5 \u001b[m\u001b[msi,\u001b[m\u001b[m\u001b[1m  0.0 \u001b[m\u001b[mst\u001b[m\u001b[m\u001b[m\u001b[m\u001b[K\n",
      "KiB Mem :\u001b[m\u001b[m\u001b[1m 16223744 \u001b[m\u001b[mtotal,\u001b[m\u001b[m\u001b[1m 10266932 \u001b[m\u001b[mfree,\u001b[m\u001b[m\u001b[1m  3349168 \u001b[m\u001b[mused,\u001b[m\u001b[m\u001b[1m  2607644 \u001b[m\u001b[mbuff/cache\u001b[m\u001b[m\u001b[m\u001b[m\u001b[K\n",
      "KiB Swap:\u001b[m\u001b[m\u001b[1m  2097148 \u001b[m\u001b[mtotal,\u001b[m\u001b[m\u001b[1m  2097148 \u001b[m\u001b[mfree,\u001b[m\u001b[m\u001b[1m        0 \u001b[m\u001b[mused.\u001b[m\u001b[m\u001b[1m 12361820 \u001b[m\u001b[mavail Mem \u001b[m\u001b[m\u001b[m\u001b[m\u001b[K\n",
      "\u001b[K\n",
      "\u001b[7m  PID USER      PR  NI    VIRT    RES    SHR S  %CPU %MEM     TIME+ COMMAND     \u001b[m\u001b[m\u001b[K\n",
      "\u001b[m 2587 savio     20   0 6442396 969332 202804 S  73.7  6.0 109:39.29 zoom        \u001b[m\u001b[m\u001b[K\n",
      "\u001b[m 1673 savio      9 -11 1958992  14820  11332 S  21.1  0.1  42:33.32 pulseaudio  \u001b[m\u001b[m\u001b[K\n",
      "\u001b[m\u001b[1m11359 savio     20   0   51312   4072   3340 R  21.1  0.0   0:00.06 top         \u001b[m\u001b[m\u001b[K\n",
      "\u001b[m 1664 savio     20   0 4427912 243172 100816 S  10.5  1.5  21:40.29 gnome-shell \u001b[m\u001b[m\u001b[K\n",
      "\u001b[m 6727 savio     20   0 2895436 249784 119240 S  10.5  1.5   3:43.51 file:// Co+ \u001b[m\u001b[m\u001b[K\n",
      "\u001b[m   10 root      20   0       0      0      0 I   5.3  0.0   0:26.11 rcu_sched   \u001b[m\u001b[m\u001b[K\n",
      "\u001b[m\u001b[1m 1111 root     -51   0       0      0      0 R   5.3  0.0  16:55.71 irq/135-nv+ \u001b[m\u001b[m\u001b[K\n",
      "\u001b[m 1476 root      20   0  503812 166364  89088 S   5.3  1.0  13:43.15 Xorg        \u001b[m\u001b[m\u001b[K\n",
      "\u001b[m 2243 savio     20   0 3857036 507944 186136 S   5.3  3.1   6:55.17 firefox     \u001b[m\u001b[m\u001b[K\n",
      "\u001b[m11210 savio     20   0  548344  49456  14644 S   5.3  0.3   0:00.57 ZMQbg/1     \u001b[m\u001b[m\u001b[K\n",
      "\u001b[m    1 root      20   0  225384   8920   6532 S   0.0  0.1   0:08.26 systemd     \u001b[m\u001b[m\u001b[K\n",
      "\u001b[m    2 root      20   0       0      0      0 S   0.0  0.0   0:00.01 kthreadd    \u001b[m\u001b[m\u001b[K\n",
      "\u001b[m    3 root       0 -20       0      0      0 I   0.0  0.0   0:00.00 rcu_gp      \u001b[m\u001b[m\u001b[K\n",
      "\u001b[m    4 root       0 -20       0      0      0 I   0.0  0.0   0:00.00 rcu_par_gp  \u001b[m\u001b[m\u001b[K\n",
      "\u001b[m    5 root      20   0       0      0      0 I   0.0  0.0   0:00.00 kworker/0:+ \u001b[m\u001b[m\u001b[K\n",
      "\u001b[m    6 root       0 -20       0      0      0 I   0.0  0.0   0:00.00 kworker/0:+ \u001b[m\u001b[m\u001b[K\n",
      "\u001b[m    8 root       0 -20       0      0      0 I   0.0  0.0   0:00.00 mm_percpu_+ \u001b[m\u001b[m\u001b[K\u001b[H\u001b[mtop - 15:53:58 up  2:58,  1 user,  load average: 1.71, 1.51, 1.43\u001b[m\u001b[m\u001b[m\u001b[m\u001b[K\n",
      "Tasks:\u001b[m\u001b[m\u001b[1m 322 \u001b[m\u001b[mtotal,\u001b[m\u001b[m\u001b[1m   1 \u001b[m\u001b[mrunning,\u001b[m\u001b[m\u001b[1m 244 \u001b[m\u001b[msleeping,\u001b[m\u001b[m\u001b[1m   0 \u001b[m\u001b[mstopped,\u001b[m\u001b[m\u001b[1m   0 \u001b[m\u001b[mzombie\u001b[m\u001b[m\u001b[m\u001b[m\u001b[K\n",
      "%Cpu(s):\u001b[m\u001b[m\u001b[1m  8.0 \u001b[m\u001b[mus,\u001b[m\u001b[m\u001b[1m  3.4 \u001b[m\u001b[msy,\u001b[m\u001b[m\u001b[1m  0.0 \u001b[m\u001b[mni,\u001b[m\u001b[m\u001b[1m 86.8 \u001b[m\u001b[mid,\u001b[m\u001b[m\u001b[1m  0.2 \u001b[m\u001b[mwa,\u001b[m\u001b[m\u001b[1m  0.0 \u001b[m\u001b[mhi,\u001b[m\u001b[m\u001b[1m  1.6 \u001b[m\u001b[msi,\u001b[m\u001b[m\u001b[1m  0.0 \u001b[m\u001b[mst\u001b[m\u001b[m\u001b[m\u001b[m\u001b[K\n",
      "KiB Mem :\u001b[m\u001b[m\u001b[1m 16223744 \u001b[m\u001b[mtotal,\u001b[m\u001b[m\u001b[1m 10266720 \u001b[m\u001b[mfree,\u001b[m\u001b[m\u001b[1m  3349372 \u001b[m\u001b[mused,\u001b[m\u001b[m\u001b[1m  2607652 \u001b[m\u001b[mbuff/cache\u001b[m\u001b[m\u001b[m\u001b[m\u001b[K\n",
      "KiB Swap:\u001b[m\u001b[m\u001b[1m  2097148 \u001b[m\u001b[mtotal,\u001b[m\u001b[m\u001b[1m  2097148 \u001b[m\u001b[mfree,\u001b[m\u001b[m\u001b[1m        0 \u001b[m\u001b[mused.\u001b[m\u001b[m\u001b[1m 12361628 \u001b[m\u001b[mavail Mem \u001b[m\u001b[m\u001b[m\u001b[m\u001b[K\n",
      "\u001b[K\n",
      "\n",
      "\u001b[m 2587 savio     20   0 6442396 969332 202804 S  54.5  6.0 109:40.94 zoom        \u001b[m\u001b[m\u001b[K\n",
      "\u001b[m 1673 savio      9 -11 1958992  14820  11332 S  24.8  0.1  42:34.07 pulseaudio  \u001b[m\u001b[m\u001b[K\n",
      "\u001b[m 2243 savio     20   0 3857036 507948 186136 S  15.8  3.1   6:55.65 firefox     \u001b[m\u001b[m\u001b[K\n",
      "\u001b[m 6727 savio     20   0 2895140 250440 119120 S  12.5  1.5   3:43.89 file:// Co+ \u001b[m\u001b[m\u001b[K\n",
      "\u001b[m 1664 savio     20   0 4427912 243172 100816 S  12.2  1.5  21:40.66 gnome-shell \u001b[m\u001b[m\u001b[K\n",
      "\u001b[m 1476 root      20   0  503812 166364  89088 S  11.6  1.0  13:43.50 Xorg        \u001b[m\u001b[m\u001b[K\n",
      "\u001b[m 1111 root     -51   0       0      0      0 S   6.9  0.0  16:55.92 irq/135-nv+ \u001b[m\u001b[m\u001b[K\n",
      "\u001b[m11210 savio     20   0  548344  49456  14644 S   4.3  0.3   0:00.70 ZMQbg/1     \u001b[m\u001b[m\u001b[K\n",
      "\u001b[m 1999 savio     20   0 88.175g 392092 129068 S   1.3  2.4  17:46.53 WebKitWebP+ \u001b[m\u001b[m\u001b[K\n",
      "\u001b[m\u001b[1m11359 savio     20   0   51312   4072   3340 R   0.7  0.0   0:00.08 top         \u001b[m\u001b[m\u001b[K\n",
      "\u001b[m    9 root      20   0       0      0      0 S   0.3  0.0   0:03.52 ksoftirqd/0 \u001b[m\u001b[m\u001b[K\n",
      "\u001b[m  111 root      20   0       0      0      0 I   0.3  0.0   0:00.59 kworker/5:+ \u001b[m\u001b[m\u001b[K\n",
      "\u001b[m 1351 gdm       20   0  603404  25388  19940 S   0.3  0.2   0:01.12 gsd-color   \u001b[m\u001b[m\u001b[K\n",
      "\u001b[m 1647 savio     20   0   49924   4244   3736 S   0.3  0.0   0:00.51 dbus-daemon \u001b[m\u001b[m\u001b[K\n",
      "\u001b[m 5135 savio     20   0 2828508 142892  96620 S   0.3  0.9   0:18.87 Web Content \u001b[m\u001b[m\u001b[K\n",
      "\u001b[m10586 savio     20   0 2887084 200680 119360 S   0.3  1.2   0:21.93 Web Content \u001b[m\u001b[m\u001b[K\n",
      "\u001b[m10995 savio     20   0  246492  65232  15384 S   0.3  0.4   0:01.41 ZMQbg/1     \u001b[m\u001b[m\u001b[K\u001b[H\u001b[mtop - 15:54:01 up  2:58,  1 user,  load average: 1.71, 1.51, 1.43\u001b[m\u001b[m\u001b[m\u001b[m\u001b[K\n",
      "\n",
      "%Cpu(s):\u001b[m\u001b[m\u001b[1m  8.8 \u001b[m\u001b[mus,\u001b[m\u001b[m\u001b[1m  3.5 \u001b[m\u001b[msy,\u001b[m\u001b[m\u001b[1m  0.0 \u001b[m\u001b[mni,\u001b[m\u001b[m\u001b[1m 85.9 \u001b[m\u001b[mid,\u001b[m\u001b[m\u001b[1m  0.0 \u001b[m\u001b[mwa,\u001b[m\u001b[m\u001b[1m  0.0 \u001b[m\u001b[mhi,\u001b[m\u001b[m\u001b[1m  1.9 \u001b[m\u001b[msi,\u001b[m\u001b[m\u001b[1m  0.0 \u001b[m\u001b[mst\u001b[m\u001b[m\u001b[m\u001b[m\u001b[K\n",
      "KiB Mem :\u001b[m\u001b[m\u001b[1m 16223744 \u001b[m\u001b[mtotal,\u001b[m\u001b[m\u001b[1m 10263364 \u001b[m\u001b[mfree,\u001b[m\u001b[m\u001b[1m  3352728 \u001b[m\u001b[mused,\u001b[m\u001b[m\u001b[1m  2607652 \u001b[m\u001b[mbuff/cache\u001b[m\u001b[m\u001b[m\u001b[m\u001b[K\n",
      "KiB Swap:\u001b[m\u001b[m\u001b[1m  2097148 \u001b[m\u001b[mtotal,\u001b[m\u001b[m\u001b[1m  2097148 \u001b[m\u001b[mfree,\u001b[m\u001b[m\u001b[1m        0 \u001b[m\u001b[mused.\u001b[m\u001b[m\u001b[1m 12358272 \u001b[m\u001b[mavail Mem \u001b[m\u001b[m\u001b[m\u001b[m\u001b[K\n",
      "\u001b[K\n",
      "\n",
      "\u001b[m 2587 savio     20   0 6442396 969332 202804 S  56.4  6.0 109:42.65 zoom        \u001b[m\u001b[m\u001b[K\n",
      "\u001b[m 1673 savio      9 -11 1958992  14820  11332 S  24.8  0.1  42:34.82 pulseaudio  \u001b[m\u001b[m\u001b[K\n",
      "\u001b[m 1664 savio     20   0 4427912 243172 100816 S  17.8  1.5  21:41.20 gnome-shell \u001b[m\u001b[m\u001b[K\n",
      "\u001b[m 2243 savio     20   0 3857036 509980 186136 S  17.8  3.1   6:56.19 firefox     \u001b[m\u001b[m\u001b[K\n",
      "\u001b[m 6727 savio     20   0 2893972 250632 118560 S  15.8  1.5   3:44.37 file:// Co+ \u001b[m\u001b[m\u001b[K\n",
      "\u001b[m 1476 root      20   0  503812 166364  89088 S  14.9  1.0  13:43.95 Xorg        \u001b[m\u001b[m\u001b[K\n",
      "\u001b[m 1111 root     -51   0       0      0      0 S   7.6  0.0  16:56.15 irq/135-nv+ \u001b[m\u001b[m\u001b[K\n",
      "\u001b[m11210 savio     20   0  548344  49456  14644 S   5.0  0.3   0:00.85 ZMQbg/1     \u001b[m\u001b[m\u001b[K\n",
      "\u001b[m\u001b[1m11359 savio     20   0   51312   4072   3340 R   1.0  0.0   0:00.11 top         \u001b[m\u001b[m\u001b[K\n",
      "\u001b[m 1649 savio     20   0  220772   6880   6168 S   0.7  0.0   0:03.48 at-spi2-re+ \u001b[m\u001b[m\u001b[K\n",
      "\u001b[m 1999 savio     20   0 88.175g 392092 129068 S   0.7  2.4  17:46.55 WebKitWebP+ \u001b[m\u001b[m\u001b[K\n",
      "\u001b[m 3057 savio     20   0 2782204 183180 117536 S   0.7  1.1   0:52.02 Web Content \u001b[m\u001b[m\u001b[K\n",
      "\u001b[m    1 root      20   0  225384   8920   6532 S   0.3  0.1   0:08.27 systemd     \u001b[m\u001b[m\u001b[K\n",
      "\u001b[m   10 root      20   0       0      0      0 I   0.3  0.0   0:26.12 rcu_sched   \u001b[m\u001b[m\u001b[K\n",
      "\u001b[m 1232 gdm       20   0 4167184 199240  98052 S   0.3  1.2   0:09.81 gnome-shell \u001b[m\u001b[m\u001b[K\n",
      "\u001b[m 1291 rtkit     21   1  183500   2964   2696 S   0.3  0.0   0:00.20 rtkit-daem+ \u001b[m\u001b[m\u001b[K\n",
      "\u001b[m 2367 savio     20   0 2597456 107040  82724 S   0.3  0.7   0:03.67 WebExtensi+ \u001b[m\u001b[m\u001b[K\u001b[H\u001b[mtop - 15:54:04 up  2:58,  1 user,  load average: 1.57, 1.48, 1.42\u001b[m\u001b[m\u001b[m\u001b[m\u001b[K\n",
      "Tasks:\u001b[m\u001b[m\u001b[1m 322 \u001b[m\u001b[mtotal,\u001b[m\u001b[m\u001b[1m   2 \u001b[m\u001b[mrunning,\u001b[m\u001b[m\u001b[1m 243 \u001b[m\u001b[msleeping,\u001b[m\u001b[m\u001b[1m   0 \u001b[m\u001b[mstopped,\u001b[m\u001b[m\u001b[1m   0 \u001b[m\u001b[mzombie\u001b[m\u001b[m\u001b[m\u001b[m\u001b[K\n",
      "%Cpu(s):\u001b[m\u001b[m\u001b[1m  5.6 \u001b[m\u001b[mus,\u001b[m\u001b[m\u001b[1m  2.8 \u001b[m\u001b[msy,\u001b[m\u001b[m\u001b[1m  0.0 \u001b[m\u001b[mni,\u001b[m\u001b[m\u001b[1m 90.2 \u001b[m\u001b[mid,\u001b[m\u001b[m\u001b[1m  0.0 \u001b[m\u001b[mwa,\u001b[m\u001b[m\u001b[1m  0.0 \u001b[m\u001b[mhi,\u001b[m\u001b[m\u001b[1m  1.3 \u001b[m\u001b[msi,\u001b[m\u001b[m\u001b[1m  0.0 \u001b[m\u001b[mst\u001b[m\u001b[m\u001b[m\u001b[m\u001b[K\n",
      "KiB Mem :\u001b[m\u001b[m\u001b[1m 16223744 \u001b[m\u001b[mtotal,\u001b[m\u001b[m\u001b[1m 10258416 \u001b[m\u001b[mfree,\u001b[m\u001b[m\u001b[1m  3352624 \u001b[m\u001b[mused,\u001b[m\u001b[m\u001b[1m  2612704 \u001b[m\u001b[mbuff/cache\u001b[m\u001b[m\u001b[m\u001b[m\u001b[K\n",
      "KiB Swap:\u001b[m\u001b[m\u001b[1m  2097148 \u001b[m\u001b[mtotal,\u001b[m\u001b[m\u001b[1m  2097148 \u001b[m\u001b[mfree,\u001b[m\u001b[m\u001b[1m        0 \u001b[m\u001b[mused.\u001b[m\u001b[m\u001b[1m 12353328 \u001b[m\u001b[mavail Mem \u001b[m\u001b[m\u001b[m\u001b[m\u001b[K\n",
      "\u001b[K\n",
      "\n",
      "\u001b[m 2587 savio     20   0 6442396 969332 202804 S  38.0  6.0 109:43.80 zoom        \u001b[m\u001b[m\u001b[K\n",
      "\u001b[m 1673 savio      9 -11 1958992  14820  11332 S  25.1  0.1  42:35.58 pulseaudio  \u001b[m\u001b[m\u001b[K\n",
      "\u001b[m 1664 savio     20   0 4427912 243172 100816 S  11.9  1.5  21:41.56 gnome-shell \u001b[m\u001b[m\u001b[K\n",
      "\u001b[m 2243 savio     20   0 3866676 509980 186136 S   9.6  3.1   6:56.48 firefox     \u001b[m\u001b[m\u001b[K\n",
      "\u001b[m 6727 savio     20   0 2903612 255540 123504 S   9.2  1.6   3:44.65 file:// Co+ \u001b[m\u001b[m\u001b[K\n",
      "\u001b[m\u001b[1m 1476 root      20   0  503812 166364  89088 R   7.9  1.0  13:44.19 Xorg        \u001b[m\u001b[m\u001b[K\n",
      "\u001b[m 1111 root     -51   0       0      0      0 S   5.6  0.0  16:56.32 irq/135-nv+ \u001b[m\u001b[m\u001b[K\n",
      "\u001b[m11210 savio     20   0  548344  49456  14644 S   4.3  0.3   0:00.98 ZMQbg/1     \u001b[m\u001b[m\u001b[K\n",
      "\u001b[m 1999 savio     20   0 88.175g 392092 129068 S   1.0  2.4  17:46.58 WebKitWebP+ \u001b[m\u001b[m\u001b[K\n",
      "\u001b[m\u001b[1m11359 savio     20   0   51312   4072   3340 R   1.0  0.0   0:00.14 top         \u001b[m\u001b[m\u001b[K\n",
      "\u001b[m10586 savio     20   0 2887084 200680 119360 S   0.3  1.2   0:21.95 Web Content \u001b[m\u001b[m\u001b[K\n",
      "\u001b[m    1 root      20   0  225384   8920   6532 S   0.0  0.1   0:08.27 systemd     \u001b[m\u001b[m\u001b[K\n",
      "\u001b[m    2 root      20   0       0      0      0 S   0.0  0.0   0:00.01 kthreadd    \u001b[m\u001b[m\u001b[K\n",
      "\u001b[m    3 root       0 -20       0      0      0 I   0.0  0.0   0:00.00 rcu_gp      \u001b[m\u001b[m\u001b[K\n",
      "\u001b[m    4 root       0 -20       0      0      0 I   0.0  0.0   0:00.00 rcu_par_gp  \u001b[m\u001b[m\u001b[K\n",
      "\u001b[m    5 root      20   0       0      0      0 I   0.0  0.0   0:00.00 kworker/0:+ \u001b[m\u001b[m\u001b[K\n"
     ]
    },
    {
     "name": "stdout",
     "output_type": "stream",
     "text": [
      "\u001b[m    6 root       0 -20       0      0      0 I   0.0  0.0   0:00.00 kworker/0:+ \u001b[m\u001b[m\u001b[K\u001b[H\u001b[mtop - 15:54:07 up  2:58,  1 user,  load average: 1.53, 1.48, 1.42\u001b[m\u001b[m\u001b[m\u001b[m\u001b[K\n",
      "Tasks:\u001b[m\u001b[m\u001b[1m 322 \u001b[m\u001b[mtotal,\u001b[m\u001b[m\u001b[1m   1 \u001b[m\u001b[mrunning,\u001b[m\u001b[m\u001b[1m 244 \u001b[m\u001b[msleeping,\u001b[m\u001b[m\u001b[1m   0 \u001b[m\u001b[mstopped,\u001b[m\u001b[m\u001b[1m   0 \u001b[m\u001b[mzombie\u001b[m\u001b[m\u001b[m\u001b[m\u001b[K\n",
      "%Cpu(s):\u001b[m\u001b[m\u001b[1m  7.0 \u001b[m\u001b[mus,\u001b[m\u001b[m\u001b[1m  3.2 \u001b[m\u001b[msy,\u001b[m\u001b[m\u001b[1m  0.0 \u001b[m\u001b[mni,\u001b[m\u001b[m\u001b[1m 88.1 \u001b[m\u001b[mid,\u001b[m\u001b[m\u001b[1m  0.2 \u001b[m\u001b[mwa,\u001b[m\u001b[m\u001b[1m  0.0 \u001b[m\u001b[mhi,\u001b[m\u001b[m\u001b[1m  1.5 \u001b[m\u001b[msi,\u001b[m\u001b[m\u001b[1m  0.0 \u001b[m\u001b[mst\u001b[m\u001b[m\u001b[m\u001b[m\u001b[K\n",
      "KiB Mem :\u001b[m\u001b[m\u001b[1m 16223744 \u001b[m\u001b[mtotal,\u001b[m\u001b[m\u001b[1m 10253808 \u001b[m\u001b[mfree,\u001b[m\u001b[m\u001b[1m  3352584 \u001b[m\u001b[mused,\u001b[m\u001b[m\u001b[1m  2617352 \u001b[m\u001b[mbuff/cache\u001b[m\u001b[m\u001b[m\u001b[m\u001b[K\n",
      "KiB Swap:\u001b[m\u001b[m\u001b[1m  2097148 \u001b[m\u001b[mtotal,\u001b[m\u001b[m\u001b[1m  2097148 \u001b[m\u001b[mfree,\u001b[m\u001b[m\u001b[1m        0 \u001b[m\u001b[mused.\u001b[m\u001b[m\u001b[1m 12348720 \u001b[m\u001b[mavail Mem \u001b[m\u001b[m\u001b[m\u001b[m\u001b[K\n",
      "\u001b[K\n",
      "\n",
      "\u001b[m 2587 savio     20   0 6442396 969332 202804 S  36.3  6.0 109:44.90 zoom        \u001b[m\u001b[m\u001b[K\n",
      "\u001b[m 1673 savio      9 -11 1958992  14820  11332 S  24.4  0.1  42:36.32 pulseaudio  \u001b[m\u001b[m\u001b[K\n",
      "\u001b[m 2243 savio     20   0 3866724 512216 190380 S  20.1  3.2   6:57.09 firefox     \u001b[m\u001b[m\u001b[K\n",
      "\u001b[m 1664 savio     20   0 4427912 243208 100816 S  16.5  1.5  21:42.06 gnome-shell \u001b[m\u001b[m\u001b[K\n",
      "\u001b[m 6727 savio     20   0 2903660 260284 128356 S  14.5  1.6   3:45.09 file:// Co+ \u001b[m\u001b[m\u001b[K\n",
      "\u001b[m 1476 root      20   0  503812 166364  89088 S   9.6  1.0  13:44.48 Xorg        \u001b[m\u001b[m\u001b[K\n",
      "\u001b[m 1111 root     -51   0       0      0      0 S   7.3  0.0  16:56.54 irq/135-nv+ \u001b[m\u001b[m\u001b[K\n",
      "\u001b[m11210 savio     20   0  548344  49456  14644 S   4.3  0.3   0:01.11 ZMQbg/1     \u001b[m\u001b[m\u001b[K\n",
      "\u001b[m 1999 savio     20   0 88.175g 392092 129068 S   1.0  2.4  17:46.61 WebKitWebP+ \u001b[m\u001b[m\u001b[K\n",
      "\u001b[m\u001b[1m11359 savio     20   0   51312   4072   3340 R   0.7  0.0   0:00.16 top         \u001b[m\u001b[m\u001b[K\n",
      "\u001b[m   10 root      20   0       0      0      0 I   0.3  0.0   0:26.13 rcu_sched   \u001b[m\u001b[m\u001b[K\n",
      "\u001b[m  114 root      20   0       0      0      0 I   0.3  0.0   0:02.21 kworker/2:+ \u001b[m\u001b[m\u001b[K\n",
      "\u001b[m 1649 savio     20   0  220772   6880   6168 S   0.3  0.0   0:03.49 at-spi2-re+ \u001b[m\u001b[m\u001b[K\n",
      "\u001b[m 3057 savio     20   0 2782204 183180 117536 S   0.3  1.1   0:52.03 Web Content \u001b[m\u001b[m\u001b[K\n",
      "\u001b[m10586 savio     20   0 2887084 200680 119360 S   0.3  1.2   0:21.96 Web Content \u001b[m\u001b[m\u001b[K\n",
      "\u001b[m10995 savio     20   0  246492  65232  15384 S   0.3  0.4   0:01.43 ZMQbg/1     \u001b[m\u001b[m\u001b[K\n",
      "\u001b[m    1 root      20   0  225384   8920   6532 S   0.0  0.1   0:08.27 systemd     \u001b[m\u001b[m\u001b[K\u001b[H\u001b[mtop - 15:54:11 up  2:58,  1 user,  load average: 1.53, 1.48, 1.42\u001b[m\u001b[m\u001b[m\u001b[m\u001b[K\n",
      "\n",
      "%Cpu(s):\u001b[m\u001b[m\u001b[1m  7.2 \u001b[m\u001b[mus,\u001b[m\u001b[m\u001b[1m  3.5 \u001b[m\u001b[msy,\u001b[m\u001b[m\u001b[1m  0.0 \u001b[m\u001b[mni,\u001b[m\u001b[m\u001b[1m 87.8 \u001b[m\u001b[mid,\u001b[m\u001b[m\u001b[1m  0.0 \u001b[m\u001b[mwa,\u001b[m\u001b[m\u001b[1m  0.0 \u001b[m\u001b[mhi,\u001b[m\u001b[m\u001b[1m  1.5 \u001b[m\u001b[msi,\u001b[m\u001b[m\u001b[1m  0.0 \u001b[m\u001b[mst\u001b[m\u001b[m\u001b[m\u001b[m\u001b[K\n",
      "KiB Mem :\u001b[m\u001b[m\u001b[1m 16223744 \u001b[m\u001b[mtotal,\u001b[m\u001b[m\u001b[1m 10257600 \u001b[m\u001b[mfree,\u001b[m\u001b[m\u001b[1m  3353428 \u001b[m\u001b[mused,\u001b[m\u001b[m\u001b[1m  2612716 \u001b[m\u001b[mbuff/cache\u001b[m\u001b[m\u001b[m\u001b[m\u001b[K\n",
      "KiB Swap:\u001b[m\u001b[m\u001b[1m  2097148 \u001b[m\u001b[mtotal,\u001b[m\u001b[m\u001b[1m  2097148 \u001b[m\u001b[mfree,\u001b[m\u001b[m\u001b[1m        0 \u001b[m\u001b[mused.\u001b[m\u001b[m\u001b[1m 12352520 \u001b[m\u001b[mavail Mem \u001b[m\u001b[m\u001b[m\u001b[m\u001b[K\n",
      "\u001b[K\n",
      "\n",
      "\u001b[m 2587 savio     20   0 6442396 969332 202804 S  42.9  6.0 109:46.19 zoom        \u001b[m\u001b[m\u001b[K\n",
      "\u001b[m 1673 savio      9 -11 1958992  14820  11332 S  24.6  0.1  42:37.06 pulseaudio  \u001b[m\u001b[m\u001b[K\n",
      "\u001b[m 2243 savio     20   0 3866676 509504 187388 S  20.9  3.1   6:57.72 firefox     \u001b[m\u001b[m\u001b[K\n",
      "\u001b[m 1476 root      20   0  503812 166364  89088 S  14.6  1.0  13:44.92 Xorg        \u001b[m\u001b[m\u001b[K\n",
      "\u001b[m 1664 savio     20   0 4427912 243208 100816 S  14.3  1.5  21:42.49 gnome-shell \u001b[m\u001b[m\u001b[K\n",
      "\u001b[m 6727 savio     20   0 2903612 256128 123620 S  11.6  1.6   3:45.44 file:// Co+ \u001b[m\u001b[m\u001b[K\n",
      "\u001b[m 1111 root     -51   0       0      0      0 S   6.3  0.0  16:56.73 irq/135-nv+ \u001b[m\u001b[m\u001b[K\n",
      "\u001b[m11210 savio     20   0  548344  49456  14644 S   4.3  0.3   0:01.24 ZMQbg/1     \u001b[m\u001b[m\u001b[K\n",
      "\u001b[m 1232 gdm       20   0 4167184 199240  98052 S   1.3  1.2   0:09.85 gnome-shell \u001b[m\u001b[m\u001b[K\n",
      "\u001b[m 1999 savio     20   0 88.175g 392092 129068 S   0.7  2.4  17:46.63 WebKitWebP+ \u001b[m\u001b[m\u001b[K\n",
      "\u001b[m\u001b[1m11359 savio     20   0   51312   4072   3340 R   0.7  0.0   0:00.18 top         \u001b[m\u001b[m\u001b[K\n",
      "\u001b[m    1 root      20   0  225384   8920   6532 S   0.3  0.1   0:08.28 systemd     \u001b[m\u001b[m\u001b[K\n",
      "\u001b[m   10 root      20   0       0      0      0 I   0.3  0.0   0:26.14 rcu_sched   \u001b[m\u001b[m\u001b[K\n",
      "\u001b[m 1649 savio     20   0  220772   6880   6168 S   0.3  0.0   0:03.50 at-spi2-re+ \u001b[m\u001b[m\u001b[K\n",
      "\u001b[m10586 savio     20   0 2887084 200680 119360 S   0.3  1.2   0:21.97 Web Content \u001b[m\u001b[m\u001b[K\n",
      "\u001b[m10883 root      20   0       0      0      0 I   0.3  0.0   0:00.66 kworker/10+ \u001b[m\u001b[m\u001b[K\n",
      "\u001b[m    2 root      20   0       0      0      0 S   0.0  0.0   0:00.01 kthreadd    \u001b[m\u001b[m\u001b[K\u001b[?1l\u001b>\u001b[25;1H\n",
      "\u001b[K"
     ]
    }
   ],
   "source": [
    "!top"
   ]
  },
  {
   "cell_type": "code",
   "execution_count": null,
   "metadata": {},
   "outputs": [],
   "source": []
  }
 ],
 "metadata": {
  "celltoolbar": "Slideshow",
  "kernelspec": {
   "display_name": "Python [conda env:env01] *",
   "language": "python",
   "name": "conda-env-env01-py"
  },
  "language_info": {
   "codemirror_mode": {
    "name": "ipython",
    "version": 3
   },
   "file_extension": ".py",
   "mimetype": "text/x-python",
   "name": "python",
   "nbconvert_exporter": "python",
   "pygments_lexer": "ipython3",
   "version": "3.7.4"
  }
 },
 "nbformat": 4,
 "nbformat_minor": 2
}
