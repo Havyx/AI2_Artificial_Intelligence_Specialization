{
 "cells": [
  {
   "cell_type": "markdown",
   "metadata": {},
   "source": [
    "### Exercicio markdown Jupyter AI2\n",
    "Everton Sávio Santos Lucas"
   ]
  },
  {
   "cell_type": "markdown",
   "metadata": {},
   "source": [
    "# Image processing in Python\n",
    "\n",
    "\n",
    "<table align=\"left\"><tr><td><a href=\"https://forum.image.sc/tags/scikit-image\" target=\"\" ><img src=\"btn01.png\"></td><td> <a href=\"https://stackoverflow.com/questions/tagged/scikit-image\" target=\"\" ><img src=\"btn02.png\"> </td></tr></table><br><br><br>\n",
    "\n",
    "- __Website (including documentation): https://scikit-image.org/__  \n",
    "- __Mailinglist: https://mail.python.org/mailman/listinfo/scikit-image__  \n",
    "- __Benchmarks: https://pandas.pydata.org/speed/scikit-image/__\n",
    "\n",
    "# Installation from binaries\n",
    "\n",
    "- __Debian/Ubuntu:__sudo apt-get install python-skimage\n",
    "- __OSX:__pip install scikit-image\n",
    "- __Anaconda:__conda install -c conda-forge scikit-image\n",
    "- __Windows:__ Download [__Windows binaries__](http://www.lfd.uci.edu/~gohlke/pythonlibs/#scikit-image)  \n",
    "\n",
    "Also see [installing scikit-image]().\n",
    "\n",
    "# Installation from source\n",
    "\n",
    "Install dependencies using:  \n",
    "```pip install -r requirements.txt```  \n",
    "\n",
    "Then, install scikit-image using:  \n",
    "```$ pip install``` .  \n",
    "\n",
    "If you plan to develop the package, you may run it directly from source:  \n",
    "```$ pip install -e . # Do this once to add package to Python path```  \n",
    "\n",
    "Every time you modify Cython files, also run:  \n",
    "```$ python setup.py build_ext -i # Build binary extensions```  \n",
    "\n",
    "# License (Modified BSD)\n",
    "\n",
    "Copyright (C) 2011, the scikit-image team All rights reserved.\n",
    "\n",
    "Redistribution and use in source and binary forms, with or without modification, are permitted provided thatthe following conditions are met:\n",
    "1. Redistributions of source code must retain the above copyright notice, this list of conditions and thefollowing disclaimer.\n",
    "2. Redistributions in binary form must reproduce the above copyright notice, this list of conditions andthe following disclaimer in the documentation and/or other materials provided with the distribution.\n",
    "3. Neither the name of skimage nor the names of its contributors may be used to endorse or promoteproducts derived from this software without specific prior written permission.\n",
    "\n",
    "THIS SOFTWARE IS PROVIDED BY THE AUTHOR ``AS IS'' AND ANY EXPRESS OR IMPLIEDWARRANTIES, INCLUDING, BUT NOT LIMITED TO, THE IMPLIED WARRANTIES OFMERCHANTABILITY AND FITNESS FOR A PARTICULAR PURPOSE ARE DISCLAIMED. IN NOEVENT SHALL THE AUTHOR BE LIABLE FOR ANY DIRECT, INDIRECT, INCIDENTAL, SPECIAL,EXEMPLARY, OR CONSEQUENTIAL DAMAGES (INCLUDING, BUT NOT LIMITED TO,PROCUREMENT OF SUBSTITUTE GOODS OR SERVICES; LOSS OF USE, DATA, OR PROFITS; OR\n",
    "BUSINESS INTERRUPTION) HOWEVER CAUSED AND ON ANY THEORY OF LIABILITY,WHETHER IN CONTRACT, STRICT LIABILITY, OR TORT (INCLUDING NEGLIGENCE OROTHERWISE) ARISING IN ANY WAY OUT OF THE USE OF THIS SOFTWARE, EVEN IF ADVISEDOF THE POSSIBILITY OF SUCH DAMAGE.\n",
    "\n",
    "## Citation \n",
    "If you find this project useful, please cite:\n",
    "> Stéfan van der Walt, Johannes L. Schönberger, Juan Nunez-Iglesias, François Boulogne, JoshuaD. Warner, Neil Yager, Emmanuelle Gouillart, Tony Yu, and the scikit-image contributors.scikit-image: Image processing in Python. PeerJ 2:e453 (2014) https://doi.org/10.7717/peerj.453"
   ]
  }
 ],
 "metadata": {
  "kernelspec": {
   "display_name": "Python 3",
   "language": "python",
   "name": "python3"
  },
  "language_info": {
   "codemirror_mode": {
    "name": "ipython",
    "version": 3
   },
   "file_extension": ".py",
   "mimetype": "text/x-python",
   "name": "python",
   "nbconvert_exporter": "python",
   "pygments_lexer": "ipython3",
   "version": "3.7.3"
  }
 },
 "nbformat": 4,
 "nbformat_minor": 2
}
