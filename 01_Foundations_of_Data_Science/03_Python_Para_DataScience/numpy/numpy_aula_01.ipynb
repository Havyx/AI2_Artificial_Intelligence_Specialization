{
 "cells": [
  {
   "cell_type": "code",
   "execution_count": 6,
   "metadata": {},
   "outputs": [],
   "source": [
    "import numpy as np"
   ]
  },
  {
   "cell_type": "markdown",
   "metadata": {},
   "source": [
    "Criando array"
   ]
  },
  {
   "cell_type": "code",
   "execution_count": 17,
   "metadata": {},
   "outputs": [
    {
     "name": "stdout",
     "output_type": "stream",
     "text": [
      "[[1. 1. 1.]\n",
      " [1. 1. 1.]\n",
      " [1. 1. 1.]\n",
      " [1. 1. 1.]]\n"
     ]
    }
   ],
   "source": [
    "num = np.ones((4, 3))\n",
    "print(num)"
   ]
  },
  {
   "cell_type": "markdown",
   "metadata": {},
   "source": [
    "Criar matriz 3 dimensoes com 4 camadas de profundidate, 3 linhas e 2 colunas"
   ]
  },
  {
   "cell_type": "code",
   "execution_count": 18,
   "metadata": {},
   "outputs": [
    {
     "name": "stdout",
     "output_type": "stream",
     "text": [
      "[[[1. 1.]\n",
      "  [1. 1.]\n",
      "  [1. 1.]]\n",
      "\n",
      " [[1. 1.]\n",
      "  [1. 1.]\n",
      "  [1. 1.]]\n",
      "\n",
      " [[1. 1.]\n",
      "  [1. 1.]\n",
      "  [1. 1.]]\n",
      "\n",
      " [[1. 1.]\n",
      "  [1. 1.]\n",
      "  [1. 1.]]]\n"
     ]
    }
   ],
   "source": [
    "num = np.ones((4, 3, 2))\n",
    "print(num)"
   ]
  },
  {
   "cell_type": "code",
   "execution_count": 19,
   "metadata": {},
   "outputs": [],
   "source": [
    "n = np.zeros((2,3,4), dtype = np.int32)"
   ]
  },
  {
   "cell_type": "code",
   "execution_count": 20,
   "metadata": {},
   "outputs": [
    {
     "name": "stdout",
     "output_type": "stream",
     "text": [
      "[[[0 0 0 0]\n",
      "  [0 0 0 0]\n",
      "  [0 0 0 0]]\n",
      "\n",
      " [[0 0 0 0]\n",
      "  [0 0 0 0]\n",
      "  [0 0 0 0]]]\n"
     ]
    }
   ],
   "source": [
    "print(n)"
   ]
  },
  {
   "cell_type": "code",
   "execution_count": 26,
   "metadata": {},
   "outputs": [
    {
     "name": "stdout",
     "output_type": "stream",
     "text": [
      "[[0.3567027  0.10542325 0.86761331]\n",
      " [0.60691657 0.04074779 0.99292541]]\n"
     ]
    }
   ],
   "source": [
    "n = np.random.random((2,3))\n",
    "print(n)"
   ]
  },
  {
   "cell_type": "code",
   "execution_count": 31,
   "metadata": {},
   "outputs": [
    {
     "name": "stdout",
     "output_type": "stream",
     "text": [
      "[[7 7 7 7]\n",
      " [7 7 7 7]\n",
      " [7 7 7 7]]\n"
     ]
    }
   ],
   "source": [
    "n =np.full((3,4), 7)\n",
    "print(n)"
   ]
  },
  {
   "cell_type": "code",
   "execution_count": 33,
   "metadata": {},
   "outputs": [
    {
     "name": "stdout",
     "output_type": "stream",
     "text": [
      "[10 12 14 16 18 20 22 24]\n"
     ]
    }
   ],
   "source": [
    "n = np.arange(10,25,2)\n",
    "print(n)"
   ]
  },
  {
   "cell_type": "code",
   "execution_count": 45,
   "metadata": {},
   "outputs": [
    {
     "name": "stdout",
     "output_type": "stream",
     "text": [
      "[[10 12 14 16]\n",
      " [18 20 22 24]]\n"
     ]
    }
   ],
   "source": [
    "n = n.reshape(2,4)\n",
    "print(n)"
   ]
  },
  {
   "cell_type": "code",
   "execution_count": 46,
   "metadata": {},
   "outputs": [
    {
     "data": {
      "text/plain": [
       "array([[[10, 12],\n",
       "        [14, 16]],\n",
       "\n",
       "       [[18, 20],\n",
       "        [22, 24]]])"
      ]
     },
     "execution_count": 46,
     "metadata": {},
     "output_type": "execute_result"
    }
   ],
   "source": [
    "n.reshape(2,2,2)"
   ]
  },
  {
   "cell_type": "code",
   "execution_count": 41,
   "metadata": {},
   "outputs": [
    {
     "data": {
      "text/plain": [
       "2"
      ]
     },
     "execution_count": 41,
     "metadata": {},
     "output_type": "execute_result"
    }
   ],
   "source": [
    "n.ndim"
   ]
  },
  {
   "cell_type": "code",
   "execution_count": 42,
   "metadata": {},
   "outputs": [
    {
     "data": {
      "text/plain": [
       "(2, 4)"
      ]
     },
     "execution_count": 42,
     "metadata": {},
     "output_type": "execute_result"
    }
   ],
   "source": [
    "n.shape"
   ]
  },
  {
   "cell_type": "code",
   "execution_count": 43,
   "metadata": {},
   "outputs": [
    {
     "data": {
      "text/plain": [
       "8"
      ]
     },
     "execution_count": 43,
     "metadata": {},
     "output_type": "execute_result"
    }
   ],
   "source": [
    "n.size"
   ]
  },
  {
   "cell_type": "code",
   "execution_count": 44,
   "metadata": {},
   "outputs": [
    {
     "data": {
      "text/plain": [
       "2"
      ]
     },
     "execution_count": 44,
     "metadata": {},
     "output_type": "execute_result"
    }
   ],
   "source": [
    "n.shape[0]"
   ]
  },
  {
   "cell_type": "code",
   "execution_count": 51,
   "metadata": {},
   "outputs": [
    {
     "name": "stdout",
     "output_type": "stream",
     "text": [
      "[[1. 0. 0. 0. 0.]\n",
      " [0. 1. 0. 0. 0.]\n",
      " [0. 0. 1. 0. 0.]\n",
      " [0. 0. 0. 1. 0.]\n",
      " [0. 0. 0. 0. 1.]] [[0.5137267  0.08801087 0.96483016 0.78157275 0.209665  ]\n",
      " [0.16131081 0.31689022 0.36184074 0.01857999 0.27202849]\n",
      " [0.19994974 0.65976775 0.89861632 0.7355853  0.37769125]]\n"
     ]
    }
   ],
   "source": [
    "a = np.identity(5)\n",
    "b = np.random.random((3,5))\n",
    "print(a, b)"
   ]
  },
  {
   "cell_type": "code",
   "execution_count": 52,
   "metadata": {},
   "outputs": [],
   "source": [
    "res = np.dot(b,a)"
   ]
  },
  {
   "cell_type": "code",
   "execution_count": 53,
   "metadata": {},
   "outputs": [
    {
     "name": "stdout",
     "output_type": "stream",
     "text": [
      "[[0.5137267  0.08801087 0.96483016 0.78157275 0.209665  ]\n",
      " [0.16131081 0.31689022 0.36184074 0.01857999 0.27202849]\n",
      " [0.19994974 0.65976775 0.89861632 0.7355853  0.37769125]]\n"
     ]
    }
   ],
   "source": [
    "print(res)"
   ]
  },
  {
   "cell_type": "code",
   "execution_count": 54,
   "metadata": {},
   "outputs": [
    {
     "data": {
      "text/plain": [
       "(3, 5)"
      ]
     },
     "execution_count": 54,
     "metadata": {},
     "output_type": "execute_result"
    }
   ],
   "source": [
    "res.shape"
   ]
  },
  {
   "cell_type": "code",
   "execution_count": 55,
   "metadata": {},
   "outputs": [
    {
     "data": {
      "text/plain": [
       "15"
      ]
     },
     "execution_count": 55,
     "metadata": {},
     "output_type": "execute_result"
    }
   ],
   "source": [
    "res.size"
   ]
  },
  {
   "cell_type": "code",
   "execution_count": 58,
   "metadata": {},
   "outputs": [
    {
     "data": {
      "text/plain": [
       "2"
      ]
     },
     "execution_count": 58,
     "metadata": {},
     "output_type": "execute_result"
    }
   ],
   "source": [
    "res.ndim"
   ]
  },
  {
   "cell_type": "code",
   "execution_count": 60,
   "metadata": {},
   "outputs": [
    {
     "data": {
      "text/plain": [
       "numpy.ndarray"
      ]
     },
     "execution_count": 60,
     "metadata": {},
     "output_type": "execute_result"
    }
   ],
   "source": [
    "type(res)"
   ]
  },
  {
   "cell_type": "code",
   "execution_count": 57,
   "metadata": {},
   "outputs": [
    {
     "data": {
      "text/plain": [
       "array([[0.5137267 , 0.16131081, 0.19994974],\n",
       "       [0.08801087, 0.31689022, 0.65976775],\n",
       "       [0.96483016, 0.36184074, 0.89861632],\n",
       "       [0.78157275, 0.01857999, 0.7355853 ],\n",
       "       [0.209665  , 0.27202849, 0.37769125]])"
      ]
     },
     "execution_count": 57,
     "metadata": {},
     "output_type": "execute_result"
    }
   ],
   "source": [
    "b.transpose()"
   ]
  },
  {
   "cell_type": "markdown",
   "metadata": {},
   "source": [
    "#### sum(axis = 0) somatorio de todas as linhas  \n",
    "#### sum(axis = 1) somatorio de todas as colunas  \n",
    "#### sum(axis = none) somatorio na forma snakegame  "
   ]
  },
  {
   "cell_type": "code",
   "execution_count": 62,
   "metadata": {},
   "outputs": [],
   "source": [
    "lista = [[1,2,3],[2,0,0]]"
   ]
  },
  {
   "cell_type": "code",
   "execution_count": 66,
   "metadata": {},
   "outputs": [],
   "source": [
    "lista_a = np.asarray(lista)"
   ]
  },
  {
   "cell_type": "code",
   "execution_count": 79,
   "metadata": {},
   "outputs": [
    {
     "name": "stdout",
     "output_type": "stream",
     "text": [
      "<class 'numpy.ndarray'> (2, 3)\n"
     ]
    }
   ],
   "source": [
    "print(type(lista_a),lista_a.shape)"
   ]
  },
  {
   "cell_type": "code",
   "execution_count": 82,
   "metadata": {},
   "outputs": [],
   "source": [
    "soma_das_linhas = lista_a.sum(axis=0)\n",
    "soma_das_colunas = lista_a.sum(axis=1)"
   ]
  },
  {
   "cell_type": "code",
   "execution_count": 83,
   "metadata": {},
   "outputs": [
    {
     "name": "stdout",
     "output_type": "stream",
     "text": [
      "[3 2 3] [6 2]\n"
     ]
    }
   ],
   "source": [
    "print(soma_das_linhas, soma_das_colunas)"
   ]
  },
  {
   "cell_type": "code",
   "execution_count": 86,
   "metadata": {},
   "outputs": [
    {
     "name": "stdout",
     "output_type": "stream",
     "text": [
      "[[1 2]\n",
      " [3 2]\n",
      " [0 0]]\n"
     ]
    }
   ],
   "source": [
    "lista_b = lista_a.reshape(3,2)\n",
    "print(lista_b)"
   ]
  },
  {
   "cell_type": "code",
   "execution_count": 85,
   "metadata": {},
   "outputs": [
    {
     "name": "stdout",
     "output_type": "stream",
     "text": [
      "[4 4]\n"
     ]
    }
   ],
   "source": [
    "resul_b = lista_b.sum(axis=0)\n",
    "print(resul_b)"
   ]
  },
  {
   "cell_type": "code",
   "execution_count": 90,
   "metadata": {},
   "outputs": [
    {
     "name": "stdout",
     "output_type": "stream",
     "text": [
      "<class 'list'>\n"
     ]
    }
   ],
   "source": [
    "print(type(list(resul_b)))"
   ]
  },
  {
   "cell_type": "code",
   "execution_count": 91,
   "metadata": {},
   "outputs": [],
   "source": [
    "asd = np.eye(500)"
   ]
  },
  {
   "cell_type": "code",
   "execution_count": 92,
   "metadata": {},
   "outputs": [
    {
     "name": "stdout",
     "output_type": "stream",
     "text": [
      "[[1. 0. 0. ... 0. 0. 0.]\n",
      " [0. 1. 0. ... 0. 0. 0.]\n",
      " [0. 0. 1. ... 0. 0. 0.]\n",
      " ...\n",
      " [0. 0. 0. ... 1. 0. 0.]\n",
      " [0. 0. 0. ... 0. 1. 0.]\n",
      " [0. 0. 0. ... 0. 0. 1.]]\n"
     ]
    }
   ],
   "source": [
    "print(asd)"
   ]
  },
  {
   "cell_type": "code",
   "execution_count": 93,
   "metadata": {},
   "outputs": [],
   "source": [
    "lista = [['Sem Informacoes', 'teste'],['Sem informacoes','Sem informacoes']]"
   ]
  },
  {
   "cell_type": "code",
   "execution_count": 94,
   "metadata": {},
   "outputs": [
    {
     "data": {
      "text/plain": [
       "[['Sem Informacoes', 'teste'], ['Sem informacoes', 'Sem informacoes']]"
      ]
     },
     "execution_count": 94,
     "metadata": {},
     "output_type": "execute_result"
    }
   ],
   "source": [
    "lista"
   ]
  },
  {
   "cell_type": "code",
   "execution_count": 95,
   "metadata": {},
   "outputs": [],
   "source": [
    "arr = np.asarray(lista)"
   ]
  },
  {
   "cell_type": "code",
   "execution_count": 99,
   "metadata": {},
   "outputs": [
    {
     "data": {
      "text/plain": [
       "array([['Sem Informacoes', 'teste'],\n",
       "       ['Sem informacoes', 'Sem informacoes']], dtype='<U15')"
      ]
     },
     "execution_count": 99,
     "metadata": {},
     "output_type": "execute_result"
    }
   ],
   "source": [
    "arr"
   ]
  },
  {
   "cell_type": "markdown",
   "metadata": {},
   "source": [
    "# Exercicios NUMPY"
   ]
  },
  {
   "cell_type": "code",
   "execution_count": 104,
   "metadata": {},
   "outputs": [
    {
     "name": "stdout",
     "output_type": "stream",
     "text": [
      "[ 1  3  5  7  9 11 13 15 17 19]\n"
     ]
    }
   ],
   "source": [
    "array10 = np.arange(1,21,2)\n",
    "print(array10)"
   ]
  },
  {
   "cell_type": "code",
   "execution_count": 105,
   "metadata": {},
   "outputs": [
    {
     "data": {
      "text/plain": [
       "10"
      ]
     },
     "execution_count": 105,
     "metadata": {},
     "output_type": "execute_result"
    }
   ],
   "source": [
    "array10.size"
   ]
  },
  {
   "cell_type": "code",
   "execution_count": 107,
   "metadata": {},
   "outputs": [
    {
     "name": "stdout",
     "output_type": "stream",
     "text": [
      "[[ 1  3  5  7  9]\n",
      " [11 13 15 17 19]]\n"
     ]
    }
   ],
   "source": [
    "array10 = array10.reshape(2,5)\n",
    "print(array10)"
   ]
  },
  {
   "cell_type": "code",
   "execution_count": 125,
   "metadata": {},
   "outputs": [
    {
     "name": "stdout",
     "output_type": "stream",
     "text": [
      "[[[0.82551145 0.06594912 0.06031687 0.70734317]\n",
      "  [0.10619492 0.80207753 0.53083228 0.39075805]\n",
      "  [0.07084524 0.92795872 0.46272771 0.08108519]\n",
      "  [0.7124669  0.98180599 0.83349487 0.09190924]]\n",
      "\n",
      " [[0.75702447 0.78533284 0.83109745 0.1119558 ]\n",
      "  [0.56239781 0.88640062 0.87001532 0.29470137]\n",
      "  [0.78151744 0.99877733 0.11871717 0.91430094]\n",
      "  [0.99765798 0.7288297  0.45507218 0.27992281]]\n",
      "\n",
      " [[0.35496962 0.76846832 0.52203325 0.57836048]\n",
      "  [0.4862526  0.01475294 0.50609739 0.93716861]\n",
      "  [0.63110711 0.97681767 0.77389332 0.47907545]\n",
      "  [0.56526989 0.98367796 0.17820333 0.39872234]]\n",
      "\n",
      " [[0.71070702 0.7971604  0.81260405 0.64039519]\n",
      "  [0.20868981 0.0513841  0.08802734 0.61424239]\n",
      "  [0.7082305  0.05142895 0.10317148 0.00601467]\n",
      "  [0.60582155 0.49385031 0.37473742 0.69359128]]]\n"
     ]
    }
   ],
   "source": [
    "matriz_bi1 = np.random.random((4,4,4))\n",
    "print(matriz_bi1)"
   ]
  },
  {
   "cell_type": "code",
   "execution_count": 126,
   "metadata": {},
   "outputs": [
    {
     "data": {
      "text/plain": [
       "3"
      ]
     },
     "execution_count": 126,
     "metadata": {},
     "output_type": "execute_result"
    }
   ],
   "source": [
    "matriz_bi1.ndim"
   ]
  },
  {
   "cell_type": "code",
   "execution_count": 128,
   "metadata": {},
   "outputs": [
    {
     "data": {
      "text/plain": [
       "3"
      ]
     },
     "execution_count": 128,
     "metadata": {},
     "output_type": "execute_result"
    }
   ],
   "source": [
    "matriz_bi2 = np.random.random((4,4,4))\n",
    "matriz_bi2.ndim"
   ]
  },
  {
   "cell_type": "code",
   "execution_count": 129,
   "metadata": {},
   "outputs": [
    {
     "data": {
      "text/plain": [
       "array([[[0.82551145, 0.75702447, 0.35496962, 0.71070702],\n",
       "        [0.10619492, 0.56239781, 0.4862526 , 0.20868981],\n",
       "        [0.07084524, 0.78151744, 0.63110711, 0.7082305 ],\n",
       "        [0.7124669 , 0.99765798, 0.56526989, 0.60582155]],\n",
       "\n",
       "       [[0.06594912, 0.78533284, 0.76846832, 0.7971604 ],\n",
       "        [0.80207753, 0.88640062, 0.01475294, 0.0513841 ],\n",
       "        [0.92795872, 0.99877733, 0.97681767, 0.05142895],\n",
       "        [0.98180599, 0.7288297 , 0.98367796, 0.49385031]],\n",
       "\n",
       "       [[0.06031687, 0.83109745, 0.52203325, 0.81260405],\n",
       "        [0.53083228, 0.87001532, 0.50609739, 0.08802734],\n",
       "        [0.46272771, 0.11871717, 0.77389332, 0.10317148],\n",
       "        [0.83349487, 0.45507218, 0.17820333, 0.37473742]],\n",
       "\n",
       "       [[0.70734317, 0.1119558 , 0.57836048, 0.64039519],\n",
       "        [0.39075805, 0.29470137, 0.93716861, 0.61424239],\n",
       "        [0.08108519, 0.91430094, 0.47907545, 0.00601467],\n",
       "        [0.09190924, 0.27992281, 0.39872234, 0.69359128]]])"
      ]
     },
     "execution_count": 129,
     "metadata": {},
     "output_type": "execute_result"
    }
   ],
   "source": [
    "matriz_bi1.transpose()"
   ]
  },
  {
   "cell_type": "code",
   "execution_count": 130,
   "metadata": {},
   "outputs": [
    {
     "data": {
      "text/plain": [
       "array([[[0.5920384 , 0.97129453, 0.09150862, 0.63403948],\n",
       "        [0.52481475, 0.51544119, 0.76866111, 0.28251124],\n",
       "        [0.73362252, 0.68293011, 0.88983006, 0.75134843],\n",
       "        [0.78373774, 0.47995269, 0.13353773, 0.76305314]],\n",
       "\n",
       "       [[0.3768301 , 0.89212453, 0.19596037, 0.44139576],\n",
       "        [0.04689628, 0.41860958, 0.84576555, 0.79219622],\n",
       "        [0.26899616, 0.43641706, 0.49668461, 0.11958473],\n",
       "        [0.37637093, 0.40981134, 0.56968946, 0.49554498]],\n",
       "\n",
       "       [[0.926403  , 0.1672731 , 0.32438955, 0.8556459 ],\n",
       "        [0.52825449, 0.11014377, 0.93324077, 0.02474199],\n",
       "        [0.2266108 , 0.54008321, 0.05636701, 0.5260437 ],\n",
       "        [0.94912962, 0.98359266, 0.42859268, 0.52748164]],\n",
       "\n",
       "       [[0.72859919, 0.16280831, 0.61300394, 0.9765795 ],\n",
       "        [0.29148505, 0.97220101, 0.65447819, 0.93981838],\n",
       "        [0.10780091, 0.88783849, 0.41946488, 0.34030542],\n",
       "        [0.84702986, 0.50331438, 0.10441788, 0.9609407 ]]])"
      ]
     },
     "execution_count": 130,
     "metadata": {},
     "output_type": "execute_result"
    }
   ],
   "source": [
    "matriz_bi2.transpose()"
   ]
  },
  {
   "cell_type": "code",
   "execution_count": 132,
   "metadata": {},
   "outputs": [
    {
     "name": "stdout",
     "output_type": "stream",
     "text": [
      "[[[[1.1219669  0.59661874 1.48462301 1.22633315]\n",
      "   [1.21649111 1.08026651 0.87366342 0.60808355]\n",
      "   [0.2743627  0.65046943 0.63589568 0.64836411]\n",
      "   [1.12709764 0.77435523 1.11281704 1.56839875]]\n",
      "\n",
      "  [[1.17949593 0.36749371 1.01325272 0.69937508]\n",
      "   [1.06663707 0.82229778 0.77714775 1.46503748]\n",
      "   [1.15077502 1.18544651 0.98037744 0.85350778]\n",
      "   [0.99093685 0.9393944  0.59606892 1.41365541]]\n",
      "\n",
      "  [[0.93196651 0.22520451 0.73764906 0.44066792]\n",
      "   [0.90204748 0.68682708 0.44372564 1.36533541]\n",
      "   [1.14234569 1.07474149 0.94982546 0.85332192]\n",
      "   [0.71661949 0.86191271 0.36976393 1.17668547]]\n",
      "\n",
      "  [[1.62057737 0.5733209  1.45478762 0.97298595]\n",
      "   [1.81140929 1.44801942 0.7678742  1.85677638]\n",
      "   [1.5738151  1.43633677 1.23375144 1.43853443]\n",
      "   [1.42548007 1.23748129 1.12084638 1.99046204]]]\n",
      "\n",
      "\n",
      " [[[1.55779759 0.58779772 1.41076155 0.96490315]\n",
      "   [1.76140157 1.4126938  0.77211003 1.68098052]\n",
      "   [1.42741489 1.28912761 1.07330536 1.33834857]\n",
      "   [1.41172074 1.11115079 1.16342378 1.86777466]]\n",
      "\n",
      "  [[1.66738863 0.59844512 1.4661168  1.01154442]\n",
      "   [1.73874368 1.37324616 0.95145231 1.87408314]\n",
      "   [1.54632547 1.45990628 1.18500818 1.32059491]\n",
      "   [1.485558   1.20052157 1.11626033 1.96154324]]\n",
      "\n",
      "  [[1.79052714 0.71738899 2.1463014  1.64777964]\n",
      "   [1.79379131 1.54180972 1.20415279 1.66383235]\n",
      "   [1.06696865 1.57771051 1.58417023 1.27801829]\n",
      "   [1.56453689 1.60346011 1.2381413  2.62087228]]\n",
      "\n",
      "  [[1.52638967 0.63789443 1.67804821 1.22549592]\n",
      "   [1.78982079 1.50844705 0.76826426 1.41591576]\n",
      "   [1.09383452 1.19741691 1.14942734 1.30868716]\n",
      "   [1.39397088 1.21087216 1.25871665 2.08311263]]]\n",
      "\n",
      "\n",
      " [[[1.44971743 0.52790455 1.4020292  1.02879185]\n",
      "   [1.37497817 1.1032082  0.99483138 1.55947604]\n",
      "   [1.16492832 1.30827576 1.10962091 0.99990932]\n",
      "   [1.27571433 1.11449062 0.90242857 1.80229757]]\n",
      "\n",
      "  [[1.40140162 0.67278775 1.4624408  1.20695106]\n",
      "   [1.2753245  1.04490545 1.27808879 1.01453197]\n",
      "   [0.63132436 0.89302963 0.60169411 0.61787748]\n",
      "   [1.40783615 0.75124778 1.17699363 1.56152055]]\n",
      "\n",
      "  [[1.82950304 0.67211367 1.73074513 1.23376949]\n",
      "   [1.87493155 1.50600217 1.10233951 1.98063045]\n",
      "   [1.56120169 1.60713586 1.3652809  1.40082212]\n",
      "   [1.62313236 1.38234853 1.22397783 2.25808066]]\n",
      "\n",
      "  [[1.2941379  0.45714505 1.46212201 1.05552281]\n",
      "   [1.36913998 1.15724006 0.69132544 1.4072618 ]\n",
      "   [1.01965722 1.2583902  1.28231029 1.10669222]\n",
      "   [1.07444263 1.24766895 0.81207047 1.9203017 ]]]\n",
      "\n",
      "\n",
      " [[[1.93717389 0.76481315 1.87146758 1.3802142 ]\n",
      "   [1.96350632 1.58481363 1.27544623 1.93449042]\n",
      "   [1.48637845 1.58191554 1.29476127 1.36511787]\n",
      "   [1.77502743 1.35973018 1.39309883 2.33516327]]\n",
      "\n",
      "  [[0.6965033  0.33591232 0.82341835 0.6968    ]\n",
      "   [0.58410857 0.49782731 0.69227423 0.47124321]\n",
      "   [0.21894779 0.47800308 0.38387216 0.26261972]\n",
      "   [0.68167296 0.44773255 0.55014374 0.87230061]]\n",
      "\n",
      "  [[0.52669316 0.29931087 0.7123629  0.54722352]\n",
      "   [0.78775467 0.70084912 0.18576966 0.25993197]\n",
      "   [0.1969489  0.23695212 0.28613147 0.51171207]\n",
      "   [0.5456826  0.36867003 0.66471231 0.78086681]]\n",
      "\n",
      "  [[1.43635901 0.61330205 1.56534112 1.21324062]\n",
      "   [1.43179241 1.1949821  1.04033286 1.26055532]\n",
      "   [0.86111465 1.11765655 0.97579439 0.92419777]\n",
      "   [1.33443842 1.04715196 1.09357248 1.84978776]]]]\n"
     ]
    }
   ],
   "source": [
    "resultado = np.dot(matriz_bi1, matriz_bi2)\n",
    "print(resultado)"
   ]
  },
  {
   "cell_type": "code",
   "execution_count": 140,
   "metadata": {},
   "outputs": [],
   "source": [
    "np.save('Matriz01.txt', matriz_bi1)\n",
    "np.save('Matriz02.txt', matriz_bi2)\n",
    "np.save('Resultado.txt', resultado)"
   ]
  },
  {
   "cell_type": "code",
   "execution_count": 142,
   "metadata": {},
   "outputs": [
    {
     "data": {
      "text/plain": [
       "775"
      ]
     },
     "execution_count": 142,
     "metadata": {},
     "output_type": "execute_result"
    }
   ],
   "source": [
    "file = open('matriz_old.txt', 'w')\n",
    "file.write(str(matriz_bi1))"
   ]
  },
  {
   "cell_type": "code",
   "execution_count": 144,
   "metadata": {},
   "outputs": [
    {
     "data": {
      "text/plain": [
       "775"
      ]
     },
     "execution_count": 144,
     "metadata": {},
     "output_type": "execute_result"
    }
   ],
   "source": [
    "file = open('matriz_old_02.txt', 'w')\n",
    "file.write(str(matriz_bi2))"
   ]
  },
  {
   "cell_type": "code",
   "execution_count": 146,
   "metadata": {},
   "outputs": [
    {
     "data": {
      "text/plain": [
       "3174"
      ]
     },
     "execution_count": 146,
     "metadata": {},
     "output_type": "execute_result"
    }
   ],
   "source": [
    "file = open('resultado.txt', 'w')\n",
    "file.write(str(resultado))"
   ]
  },
  {
   "cell_type": "markdown",
   "metadata": {},
   "source": [
    "## Melhorias e funcionalidades pendentes  \n",
    "  \n",
    "  \n",
    "Exercicio 1: Atualemte retorna uma lista com os valores vazios e media.\n",
    "Sugestao de melhoria:  Ao inves de retornar uma lista somente com os valores vazios, retornar uma lista com os valores vazios e o nome cientifico, dessa forma quando a lista fosse plotada no grafico apareceria os labels correspondentes de cada especie.  \n",
    "  \n",
    "Documentacao do exercicio 1. Descrever em detalhes testes, dificuldades, bugs, etc.  \n",
    "### Assign Taks: \"Leticia\" - Work in Progress\n",
    "   \n",
    "--------------------------------------------------------------------------------------  \n",
    "Exercicio 2: Esta com um bug na funcao, esta sendo passado uma lista pela variavel path, entretanto a lista passada parece nao esta no formato correto, e esta retornando uma lista com o dobro de valores de linhas. Por enquanto existe tres funcoes \"if\" provisorias para a aplicacao nao falhar.  \n",
    "  \n",
    "Documentacao do exercicio 2.  \n",
    "### Assign Task:\" Lucas \" Status: Work in Progress \n",
    "  \n",
    "--------------------------------------------------------------------------------------  \n",
    "Exercicio 3: A logica dos filtros do exercicio 3 esta incompleta, e os unicos filtros aplicaveis ate o momento sao Municipios e Familias, fazer o restante dos filtros.  \n",
    "\n",
    "Documentar os filtros do exercicio 3\n",
    "### Assign Task: \"Savio\" - Status: Work in Progress \n",
    "  \n",
    "--------------------------------------------------------------------------------------  \n",
    "Exercicio 4: Importar de outro grupo a classe que verifica se os dados estao corretos e implementar no codigo principal. Fazer o metodo funcionar e escrever a lista de resposta.\n",
    "  \n",
    "Documentacao do exercicio 4.\n",
    "### Assign Task:\" Jessica \" - Status: Work in Progress \n",
    " "
   ]
  },
  {
   "cell_type": "code",
   "execution_count": null,
   "metadata": {},
   "outputs": [],
   "source": []
  }
 ],
 "metadata": {
  "kernelspec": {
   "display_name": "Python [conda env:env01] *",
   "language": "python",
   "name": "conda-env-env01-py"
  },
  "language_info": {
   "codemirror_mode": {
    "name": "ipython",
    "version": 3
   },
   "file_extension": ".py",
   "mimetype": "text/x-python",
   "name": "python",
   "nbconvert_exporter": "python",
   "pygments_lexer": "ipython3",
   "version": "3.7.4"
  }
 },
 "nbformat": 4,
 "nbformat_minor": 4
}
