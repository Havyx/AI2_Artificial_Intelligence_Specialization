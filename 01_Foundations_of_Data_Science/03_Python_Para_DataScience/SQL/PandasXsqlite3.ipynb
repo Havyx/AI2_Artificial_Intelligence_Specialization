{
 "cells": [
  {
   "cell_type": "code",
   "execution_count": 7,
   "metadata": {},
   "outputs": [],
   "source": [
    "import sqlite3\n",
    "import pandas as pd\n",
    "\n",
    "cnx = sqlite3.connect('survey.db')"
   ]
  },
  {
   "cell_type": "code",
   "execution_count": 12,
   "metadata": {},
   "outputs": [
    {
     "name": "stdout",
     "output_type": "stream",
     "text": [
      "<class 'pandas.core.frame.DataFrame'>\n",
      "RangeIndex: 5 entries, 0 to 4\n",
      "Data columns (total 3 columns):\n",
      "id          5 non-null object\n",
      "personal    5 non-null object\n",
      "family      5 non-null object\n",
      "dtypes: object(3)\n",
      "memory usage: 248.0+ bytes\n",
      "         id   personal    family\n",
      "0      dyer    William      Dyer\n",
      "1        pb      Frank   Pabodie\n",
      "2      lake   Anderson      Lake\n",
      "3       roe  Valentina   Roerich\n",
      "4  danforth      Frank  Danforth\n"
     ]
    },
    {
     "data": {
      "text/html": [
       "<div>\n",
       "<style scoped>\n",
       "    .dataframe tbody tr th:only-of-type {\n",
       "        vertical-align: middle;\n",
       "    }\n",
       "\n",
       "    .dataframe tbody tr th {\n",
       "        vertical-align: top;\n",
       "    }\n",
       "\n",
       "    .dataframe thead th {\n",
       "        text-align: right;\n",
       "    }\n",
       "</style>\n",
       "<table border=\"1\" class=\"dataframe\">\n",
       "  <thead>\n",
       "    <tr style=\"text-align: right;\">\n",
       "      <th></th>\n",
       "      <th>id</th>\n",
       "      <th>personal</th>\n",
       "      <th>family</th>\n",
       "    </tr>\n",
       "  </thead>\n",
       "  <tbody>\n",
       "    <tr>\n",
       "      <td>0</td>\n",
       "      <td>dyer</td>\n",
       "      <td>William</td>\n",
       "      <td>Dyer</td>\n",
       "    </tr>\n",
       "    <tr>\n",
       "      <td>1</td>\n",
       "      <td>pb</td>\n",
       "      <td>Frank</td>\n",
       "      <td>Pabodie</td>\n",
       "    </tr>\n",
       "    <tr>\n",
       "      <td>2</td>\n",
       "      <td>lake</td>\n",
       "      <td>Anderson</td>\n",
       "      <td>Lake</td>\n",
       "    </tr>\n",
       "    <tr>\n",
       "      <td>3</td>\n",
       "      <td>roe</td>\n",
       "      <td>Valentina</td>\n",
       "      <td>Roerich</td>\n",
       "    </tr>\n",
       "    <tr>\n",
       "      <td>4</td>\n",
       "      <td>danforth</td>\n",
       "      <td>Frank</td>\n",
       "      <td>Danforth</td>\n",
       "    </tr>\n",
       "  </tbody>\n",
       "</table>\n",
       "</div>"
      ],
      "text/plain": [
       "         id   personal    family\n",
       "0      dyer    William      Dyer\n",
       "1        pb      Frank   Pabodie\n",
       "2      lake   Anderson      Lake\n",
       "3       roe  Valentina   Roerich\n",
       "4  danforth      Frank  Danforth"
      ]
     },
     "execution_count": 12,
     "metadata": {},
     "output_type": "execute_result"
    }
   ],
   "source": [
    "dfPerson = pd.read_sql_query(\"SELECT * FROM person\", cnx)\n",
    "dfPerson.info()\n",
    "dfPerson.describe()\n",
    "print(dfPerson)\n",
    "dfPerson.head()"
   ]
  },
  {
   "cell_type": "code",
   "execution_count": 16,
   "metadata": {},
   "outputs": [
    {
     "data": {
      "text/html": [
       "<div>\n",
       "<style scoped>\n",
       "    .dataframe tbody tr th:only-of-type {\n",
       "        vertical-align: middle;\n",
       "    }\n",
       "\n",
       "    .dataframe tbody tr th {\n",
       "        vertical-align: top;\n",
       "    }\n",
       "\n",
       "    .dataframe thead th {\n",
       "        text-align: right;\n",
       "    }\n",
       "</style>\n",
       "<table border=\"1\" class=\"dataframe\">\n",
       "  <thead>\n",
       "    <tr style=\"text-align: right;\">\n",
       "      <th></th>\n",
       "      <th>name</th>\n",
       "      <th>lat</th>\n",
       "      <th>long</th>\n",
       "    </tr>\n",
       "  </thead>\n",
       "  <tbody>\n",
       "    <tr>\n",
       "      <td>0</td>\n",
       "      <td>DR-1</td>\n",
       "      <td>-49.85</td>\n",
       "      <td>-128.57</td>\n",
       "    </tr>\n",
       "    <tr>\n",
       "      <td>1</td>\n",
       "      <td>DR-3</td>\n",
       "      <td>-47.15</td>\n",
       "      <td>-126.72</td>\n",
       "    </tr>\n",
       "    <tr>\n",
       "      <td>2</td>\n",
       "      <td>MSK-4</td>\n",
       "      <td>-48.87</td>\n",
       "      <td>-123.40</td>\n",
       "    </tr>\n",
       "  </tbody>\n",
       "</table>\n",
       "</div>"
      ],
      "text/plain": [
       "    name    lat    long\n",
       "0   DR-1 -49.85 -128.57\n",
       "1   DR-3 -47.15 -126.72\n",
       "2  MSK-4 -48.87 -123.40"
      ]
     },
     "execution_count": 16,
     "metadata": {},
     "output_type": "execute_result"
    }
   ],
   "source": [
    "dfsite = pd.read_sql_query('SELECT * from Site', cnx)\n",
    "dfsite.describe()"
   ]
  },
  {
   "cell_type": "code",
   "execution_count": 17,
   "metadata": {},
   "outputs": [
    {
     "name": "stdout",
     "output_type": "stream",
     "text": [
      "   max(id)\n",
      "0      844\n",
      "844\n"
     ]
    }
   ],
   "source": [
    "dfvisited=pd.read_sql_query(\"SELECT max(id) FROM Visited;\", cnx)\n",
    "print(dfvisited)\n",
    "\n",
    "dfvisited=pd.read_sql_query(\"SELECT * FROM Visited;\", cnx)\n",
    "print(dfvisited['id'].max())"
   ]
  },
  {
   "cell_type": "code",
   "execution_count": 18,
   "metadata": {},
   "outputs": [
    {
     "name": "stdout",
     "output_type": "stream",
     "text": [
      "     family   personal\n",
      "0      Dyer    William\n",
      "1   Pabodie      Frank\n",
      "2      Lake   Anderson\n",
      "3   Roerich  Valentina\n",
      "4  Danforth      Frank\n",
      "    taken person quant  reading\n",
      "0     619   dyer   rad     9.82\n",
      "1     619   dyer   sal     0.13\n",
      "2     622   dyer   rad     7.80\n",
      "3     622   dyer   sal     0.09\n",
      "4     734     pb   rad     8.41\n",
      "5     734   lake   sal     0.05\n",
      "6     734     pb  temp   -21.50\n",
      "7     735     pb   rad     7.22\n",
      "8     735   None   sal     0.06\n",
      "9     735   None  temp   -26.00\n",
      "10    751     pb   rad     4.35\n",
      "11    751     pb  temp   -18.50\n",
      "12    751   lake   sal     0.10\n",
      "13    752   lake   rad     2.19\n",
      "14    752   lake   sal     0.09\n",
      "15    752   lake  temp   -16.00\n",
      "16    752    roe   sal    41.60\n",
      "17    837   lake   rad     1.46\n",
      "18    837   lake   sal     0.21\n",
      "19    837    roe   sal    22.50\n",
      "20    844    roe   rad    11.25\n",
      "0        Dyer\n",
      "1     Pabodie\n",
      "2        Lake\n",
      "3     Roerich\n",
      "4    Danforth\n",
      "Name: family, dtype: object\n"
     ]
    }
   ],
   "source": [
    "dfPerson = pd.read_sql_query(\"SELECT family, personal FROM Person;\", cnx)\n",
    "print(dfPerson)\n",
    "dfSurvey = pd.read_sql_query(\"SELECT * FROM Survey;\", cnx)\n",
    "print(dfSurvey)\n",
    "print(dfPerson['family'])"
   ]
  },
  {
   "cell_type": "code",
   "execution_count": 19,
   "metadata": {},
   "outputs": [
    {
     "name": "stdout",
     "output_type": "stream",
     "text": [
      "   quant\n",
      "0    rad\n",
      "1    sal\n",
      "2    rad\n",
      "3    sal\n",
      "4    rad\n",
      "5    sal\n",
      "6   temp\n",
      "7    rad\n",
      "8    sal\n",
      "9   temp\n",
      "10   rad\n",
      "11  temp\n",
      "12   sal\n",
      "13   rad\n",
      "14   sal\n",
      "15  temp\n",
      "16   sal\n",
      "17   rad\n",
      "18   sal\n",
      "19   sal\n",
      "20   rad\n"
     ]
    }
   ],
   "source": [
    "dfSurvey = pd.read_sql_query(\"SELECT quant FROM Survey\", cnx)\n",
    "print(dfSurvey)"
   ]
  },
  {
   "cell_type": "code",
   "execution_count": 20,
   "metadata": {},
   "outputs": [
    {
     "name": "stdout",
     "output_type": "stream",
     "text": [
      "  quant\n",
      "0   rad\n",
      "1   sal\n",
      "2  temp\n",
      "0      rad\n",
      "1      sal\n",
      "2      rad\n",
      "3      sal\n",
      "4      rad\n",
      "5      sal\n",
      "6     temp\n",
      "7      rad\n",
      "8      sal\n",
      "9     temp\n",
      "10     rad\n",
      "11    temp\n",
      "12     sal\n",
      "13     rad\n",
      "14     sal\n",
      "15    temp\n",
      "16     sal\n",
      "17     rad\n",
      "18     sal\n",
      "19     sal\n",
      "20     rad\n",
      "Name: quant, dtype: object\n",
      "['rad' 'sal' 'temp']\n"
     ]
    }
   ],
   "source": [
    "#distinct - opção para remover registros com valores repetidos de uma coluna específica\n",
    "dfSurvey = pd.read_sql_query(\"SELECT DISTINCT quant FROM Survey;\", cnx)\n",
    "print(dfSurvey)\n",
    "\n",
    "dfSurvey = pd.read_sql_query(\"SELECT * FROM Survey;\", cnx)\n",
    "print(dfSurvey['quant'])\n",
    "print(dfSurvey['quant'].unique())"
   ]
  },
  {
   "cell_type": "code",
   "execution_count": 21,
   "metadata": {},
   "outputs": [
    {
     "name": "stdout",
     "output_type": "stream",
     "text": [
      "    taken quant\n",
      "0     619   rad\n",
      "1     619   sal\n",
      "2     622   rad\n",
      "3     622   sal\n",
      "4     734   rad\n",
      "5     734   sal\n",
      "6     734  temp\n",
      "7     735   rad\n",
      "8     735   sal\n",
      "9     735  temp\n",
      "10    751   rad\n",
      "11    751  temp\n",
      "12    751   sal\n",
      "13    752   rad\n",
      "14    752   sal\n",
      "15    752  temp\n",
      "16    837   rad\n",
      "17    837   sal\n",
      "18    844   rad\n"
     ]
    }
   ],
   "source": [
    "dfSurvey = pd.read_sql_query(\"SELECT DISTINCT taken, quant FROM Survey;\", cnx)\n",
    "print(dfSurvey)"
   ]
  },
  {
   "cell_type": "code",
   "execution_count": 23,
   "metadata": {},
   "outputs": [
    {
     "name": "stdout",
     "output_type": "stream",
     "text": [
      "         id   personal    family\n",
      "0  danforth      Frank  Danforth\n",
      "1      dyer    William      Dyer\n",
      "2      lake   Anderson      Lake\n",
      "3        pb      Frank   Pabodie\n",
      "4       roe  Valentina   Roerich\n"
     ]
    }
   ],
   "source": [
    "#ordenando\n",
    "dfPerson = pd.read_sql_query(\"SELECT * FROM person ORDER BY id  ASC;\", cnx)\n",
    "print(dfPerson)"
   ]
  },
  {
   "cell_type": "code",
   "execution_count": 24,
   "metadata": {},
   "outputs": [
    {
     "name": "stdout",
     "output_type": "stream",
     "text": [
      "         id   personal    family\n",
      "0      dyer    William      Dyer\n",
      "1        pb      Frank   Pabodie\n",
      "2      lake   Anderson      Lake\n",
      "3       roe  Valentina   Roerich\n",
      "4  danforth      Frank  Danforth\n",
      "         id   personal    family\n",
      "4  danforth      Frank  Danforth\n",
      "0      dyer    William      Dyer\n",
      "2      lake   Anderson      Lake\n",
      "1        pb      Frank   Pabodie\n",
      "3       roe  Valentina   Roerich\n"
     ]
    }
   ],
   "source": [
    "#ordenando com Pandas\n",
    "dfPerson = pd.read_sql_query(\"SELECT * FROM person\", cnx)\n",
    "print(dfPerson)\n",
    "print(dfPerson.sort_values(by=['id']))"
   ]
  },
  {
   "cell_type": "code",
   "execution_count": 26,
   "metadata": {},
   "outputs": [
    {
     "name": "stdout",
     "output_type": "stream",
     "text": [
      "    id  site       dated\n",
      "0  619  DR-1  1927-02-08\n",
      "1  622  DR-1  1927-02-10\n",
      "2  844  DR-1  1932-03-22\n",
      "    id  site       dated\n",
      "0  619  DR-1  1927-02-08\n",
      "1  622  DR-1  1927-02-10\n",
      "   taken person quant  reading\n",
      "0    734   lake   sal     0.05\n",
      "1    751   lake   sal     0.10\n",
      "2    752   lake   rad     2.19\n",
      "3    752   lake   sal     0.09\n",
      "4    752   lake  temp   -16.00\n",
      "5    752    roe   sal    41.60\n",
      "6    837   lake   rad     1.46\n",
      "7    837   lake   sal     0.21\n",
      "8    837    roe   sal    22.50\n",
      "9    844    roe   rad    11.25\n"
     ]
    }
   ],
   "source": [
    "#Filtro por linhas\n",
    "\n",
    "dfSite = pd.read_sql_query(\"SELECT * FROM Visited WHERE site = 'DR-1';\", cnx)\n",
    "print(dfSite)\n",
    "\n",
    "dfSite = pd.read_sql_query(\"SELECT * FROM Visited WHERE site = 'DR-1' AND dated < '1930-01-01';\", cnx)\n",
    "print(dfSite)\n",
    "\n",
    "dfSurvey= pd.read_sql_query(\"SELECT * FROM Survey WHERE person IN ('lake', 'roe');\", cnx)\n",
    "print(dfSurvey)"
   ]
  },
  {
   "cell_type": "code",
   "execution_count": 47,
   "metadata": {},
   "outputs": [
    {
     "data": {
      "text/html": [
       "<div>\n",
       "<style scoped>\n",
       "    .dataframe tbody tr th:only-of-type {\n",
       "        vertical-align: middle;\n",
       "    }\n",
       "\n",
       "    .dataframe tbody tr th {\n",
       "        vertical-align: top;\n",
       "    }\n",
       "\n",
       "    .dataframe thead th {\n",
       "        text-align: right;\n",
       "    }\n",
       "</style>\n",
       "<table border=\"1\" class=\"dataframe\">\n",
       "  <thead>\n",
       "    <tr style=\"text-align: right;\">\n",
       "      <th></th>\n",
       "      <th>name</th>\n",
       "      <th>lat</th>\n",
       "      <th>long</th>\n",
       "    </tr>\n",
       "  </thead>\n",
       "  <tbody>\n",
       "    <tr>\n",
       "      <td>0</td>\n",
       "      <td>DR-1</td>\n",
       "      <td>-49.85</td>\n",
       "      <td>-128.57</td>\n",
       "    </tr>\n",
       "    <tr>\n",
       "      <td>1</td>\n",
       "      <td>DR-3</td>\n",
       "      <td>-47.15</td>\n",
       "      <td>-126.72</td>\n",
       "    </tr>\n",
       "    <tr>\n",
       "      <td>2</td>\n",
       "      <td>MSK-4</td>\n",
       "      <td>-48.87</td>\n",
       "      <td>-123.40</td>\n",
       "    </tr>\n",
       "  </tbody>\n",
       "</table>\n",
       "</div>"
      ],
      "text/plain": [
       "    name    lat    long\n",
       "0   DR-1 -49.85 -128.57\n",
       "1   DR-3 -47.15 -126.72\n",
       "2  MSK-4 -48.87 -123.40"
      ]
     },
     "execution_count": 47,
     "metadata": {},
     "output_type": "execute_result"
    }
   ],
   "source": [
    "df2= pd.read_sql_query('SELECT * from Site', cnx)\n",
    "df2.head()"
   ]
  },
  {
   "cell_type": "code",
   "execution_count": 50,
   "metadata": {},
   "outputs": [
    {
     "data": {
      "text/html": [
       "<div>\n",
       "<style scoped>\n",
       "    .dataframe tbody tr th:only-of-type {\n",
       "        vertical-align: middle;\n",
       "    }\n",
       "\n",
       "    .dataframe tbody tr th {\n",
       "        vertical-align: top;\n",
       "    }\n",
       "\n",
       "    .dataframe thead th {\n",
       "        text-align: right;\n",
       "    }\n",
       "</style>\n",
       "<table border=\"1\" class=\"dataframe\">\n",
       "  <thead>\n",
       "    <tr style=\"text-align: right;\">\n",
       "      <th></th>\n",
       "      <th>name</th>\n",
       "      <th>lat</th>\n",
       "      <th>long</th>\n",
       "    </tr>\n",
       "  </thead>\n",
       "  <tbody>\n",
       "    <tr>\n",
       "      <td>1</td>\n",
       "      <td>DR-3</td>\n",
       "      <td>-47.15</td>\n",
       "      <td>-126.72</td>\n",
       "    </tr>\n",
       "  </tbody>\n",
       "</table>\n",
       "</div>"
      ],
      "text/plain": [
       "   name    lat    long\n",
       "1  DR-3 -47.15 -126.72"
      ]
     },
     "execution_count": 50,
     "metadata": {},
     "output_type": "execute_result"
    }
   ],
   "source": [
    "dfs2 = df2[df2['name'] == 'DR-3']\n",
    "dfs2.head()"
   ]
  },
  {
   "cell_type": "code",
   "execution_count": 53,
   "metadata": {},
   "outputs": [
    {
     "data": {
      "text/html": [
       "<div>\n",
       "<style scoped>\n",
       "    .dataframe tbody tr th:only-of-type {\n",
       "        vertical-align: middle;\n",
       "    }\n",
       "\n",
       "    .dataframe tbody tr th {\n",
       "        vertical-align: top;\n",
       "    }\n",
       "\n",
       "    .dataframe thead th {\n",
       "        text-align: right;\n",
       "    }\n",
       "</style>\n",
       "<table border=\"1\" class=\"dataframe\">\n",
       "  <thead>\n",
       "    <tr style=\"text-align: right;\">\n",
       "      <th></th>\n",
       "      <th>name</th>\n",
       "      <th>lat</th>\n",
       "      <th>long</th>\n",
       "    </tr>\n",
       "  </thead>\n",
       "  <tbody>\n",
       "    <tr>\n",
       "      <td>0</td>\n",
       "      <td>DR-1</td>\n",
       "      <td>-49.85</td>\n",
       "      <td>-128.57</td>\n",
       "    </tr>\n",
       "    <tr>\n",
       "      <td>1</td>\n",
       "      <td>DR-3</td>\n",
       "      <td>-47.15</td>\n",
       "      <td>-126.72</td>\n",
       "    </tr>\n",
       "    <tr>\n",
       "      <td>2</td>\n",
       "      <td>MSK-4</td>\n",
       "      <td>-48.87</td>\n",
       "      <td>-123.40</td>\n",
       "    </tr>\n",
       "  </tbody>\n",
       "</table>\n",
       "</div>"
      ],
      "text/plain": [
       "    name    lat    long\n",
       "0   DR-1 -49.85 -128.57\n",
       "1   DR-3 -47.15 -126.72\n",
       "2  MSK-4 -48.87 -123.40"
      ]
     },
     "execution_count": 53,
     "metadata": {},
     "output_type": "execute_result"
    }
   ],
   "source": [
    "base = pd.read_sql_query('SELECT * from Site', cnx)\n",
    "base"
   ]
  },
  {
   "cell_type": "code",
   "execution_count": 54,
   "metadata": {},
   "outputs": [
    {
     "data": {
      "text/html": [
       "<div>\n",
       "<style scoped>\n",
       "    .dataframe tbody tr th:only-of-type {\n",
       "        vertical-align: middle;\n",
       "    }\n",
       "\n",
       "    .dataframe tbody tr th {\n",
       "        vertical-align: top;\n",
       "    }\n",
       "\n",
       "    .dataframe thead th {\n",
       "        text-align: right;\n",
       "    }\n",
       "</style>\n",
       "<table border=\"1\" class=\"dataframe\">\n",
       "  <thead>\n",
       "    <tr style=\"text-align: right;\">\n",
       "      <th></th>\n",
       "      <th>id</th>\n",
       "      <th>site</th>\n",
       "      <th>dated</th>\n",
       "    </tr>\n",
       "  </thead>\n",
       "  <tbody>\n",
       "    <tr>\n",
       "      <td>0</td>\n",
       "      <td>619</td>\n",
       "      <td>DR-1</td>\n",
       "      <td>1927-02-08</td>\n",
       "    </tr>\n",
       "    <tr>\n",
       "      <td>1</td>\n",
       "      <td>622</td>\n",
       "      <td>DR-1</td>\n",
       "      <td>1927-02-10</td>\n",
       "    </tr>\n",
       "    <tr>\n",
       "      <td>2</td>\n",
       "      <td>734</td>\n",
       "      <td>DR-3</td>\n",
       "      <td>1930-01-07</td>\n",
       "    </tr>\n",
       "    <tr>\n",
       "      <td>3</td>\n",
       "      <td>735</td>\n",
       "      <td>DR-3</td>\n",
       "      <td>1930-01-12</td>\n",
       "    </tr>\n",
       "    <tr>\n",
       "      <td>4</td>\n",
       "      <td>751</td>\n",
       "      <td>DR-3</td>\n",
       "      <td>1930-02-26</td>\n",
       "    </tr>\n",
       "    <tr>\n",
       "      <td>5</td>\n",
       "      <td>752</td>\n",
       "      <td>DR-3</td>\n",
       "      <td>None</td>\n",
       "    </tr>\n",
       "    <tr>\n",
       "      <td>6</td>\n",
       "      <td>837</td>\n",
       "      <td>MSK-4</td>\n",
       "      <td>1932-01-14</td>\n",
       "    </tr>\n",
       "    <tr>\n",
       "      <td>7</td>\n",
       "      <td>844</td>\n",
       "      <td>DR-1</td>\n",
       "      <td>1932-03-22</td>\n",
       "    </tr>\n",
       "  </tbody>\n",
       "</table>\n",
       "</div>"
      ],
      "text/plain": [
       "    id   site       dated\n",
       "0  619   DR-1  1927-02-08\n",
       "1  622   DR-1  1927-02-10\n",
       "2  734   DR-3  1930-01-07\n",
       "3  735   DR-3  1930-01-12\n",
       "4  751   DR-3  1930-02-26\n",
       "5  752   DR-3        None\n",
       "6  837  MSK-4  1932-01-14\n",
       "7  844   DR-1  1932-03-22"
      ]
     },
     "execution_count": 54,
     "metadata": {},
     "output_type": "execute_result"
    }
   ],
   "source": [
    "base02 = pd.read_sql_query('SELECT * from Visited', cnx)\n",
    "base02"
   ]
  },
  {
   "cell_type": "code",
   "execution_count": 60,
   "metadata": {},
   "outputs": [
    {
     "name": "stdout",
     "output_type": "stream",
     "text": [
      "    id  site       dated\n",
      "2  734  DR-3  1930-01-07\n",
      "3  735  DR-3  1930-01-12\n",
      "4  751  DR-3  1930-02-26\n",
      "5  752  DR-3        None\n"
     ]
    }
   ],
   "source": [
    "testefinal = base02[base02['site'] == 'DR-3']\n",
    "print(testefinal)"
   ]
  },
  {
   "cell_type": "code",
   "execution_count": 73,
   "metadata": {},
   "outputs": [
    {
     "name": "stdout",
     "output_type": "stream",
     "text": [
      "    id  site       dated\n",
      "2  734  DR-3  1930-01-07\n"
     ]
    }
   ],
   "source": [
    "testefinal = base02[(base02['site'] == 'DR-3') &  (base02['dated'] <= '1930-01-07')]\n",
    "print(testefinal)"
   ]
  },
  {
   "cell_type": "code",
   "execution_count": 74,
   "metadata": {},
   "outputs": [
    {
     "name": "stdout",
     "output_type": "stream",
     "text": [
      "    name    lat    long   id   site       dated\n",
      "0   DR-1 -49.85 -128.57  619   DR-1  1927-02-08\n",
      "1   DR-1 -49.85 -128.57  622   DR-1  1927-02-10\n",
      "2   DR-1 -49.85 -128.57  844   DR-1  1932-03-22\n",
      "3   DR-3 -47.15 -126.72  734   DR-3  1930-01-07\n",
      "4   DR-3 -47.15 -126.72  735   DR-3  1930-01-12\n",
      "5   DR-3 -47.15 -126.72  751   DR-3  1930-02-26\n",
      "6   DR-3 -47.15 -126.72  752   DR-3        None\n",
      "7  MSK-4 -48.87 -123.40  837  MSK-4  1932-01-14\n",
      "    name    lat    long   id   site       dated\n",
      "0   DR-1 -49.85 -128.57  619   DR-1  1927-02-08\n",
      "1   DR-1 -49.85 -128.57  622   DR-1  1927-02-10\n",
      "2   DR-1 -49.85 -128.57  844   DR-1  1932-03-22\n",
      "3   DR-3 -47.15 -126.72  734   DR-3  1930-01-07\n",
      "4   DR-3 -47.15 -126.72  735   DR-3  1930-01-12\n",
      "5   DR-3 -47.15 -126.72  751   DR-3  1930-02-26\n",
      "6   DR-3 -47.15 -126.72  752   DR-3        None\n",
      "7  MSK-4 -48.87 -123.40  837  MSK-4  1932-01-14\n"
     ]
    }
   ],
   "source": [
    "#Exemplos com merge\n",
    "dfVisitedSiteMerged = pd.read_sql_query(\"SELECT * FROM Site s INNER JOIN Visited v ON s.name = v.site\", cnx)\n",
    "print(dfVisitedSiteMerged)\n",
    "\n",
    "dfVisitedSiteMerged = pd.read_sql_query(\"SELECT * FROM Site s LEFT JOIN Visited v ON s.name = v.site\", cnx)\n",
    "print(dfVisitedSiteMerged)"
   ]
  },
  {
   "cell_type": "code",
   "execution_count": 75,
   "metadata": {},
   "outputs": [
    {
     "ename": "NameError",
     "evalue": "name 'dfVisited' is not defined",
     "output_type": "error",
     "traceback": [
      "\u001b[0;31m---------------------------------------------------------------------------\u001b[0m",
      "\u001b[0;31mNameError\u001b[0m                                 Traceback (most recent call last)",
      "\u001b[0;32m<ipython-input-75-e93065b53aff>\u001b[0m in \u001b[0;36m<module>\u001b[0;34m\u001b[0m\n\u001b[1;32m      2\u001b[0m \u001b[0;31m#print(dfMerge)\u001b[0m\u001b[0;34m\u001b[0m\u001b[0;34m\u001b[0m\u001b[0;34m\u001b[0m\u001b[0m\n\u001b[1;32m      3\u001b[0m \u001b[0;34m\u001b[0m\u001b[0m\n\u001b[0;32m----> 4\u001b[0;31m \u001b[0mdfMerge\u001b[0m \u001b[0;34m=\u001b[0m \u001b[0mpd\u001b[0m\u001b[0;34m.\u001b[0m\u001b[0mmerge\u001b[0m\u001b[0;34m(\u001b[0m\u001b[0mdfsite\u001b[0m\u001b[0;34m,\u001b[0m \u001b[0mdfVisited\u001b[0m\u001b[0;34m,\u001b[0m \u001b[0mleft_on\u001b[0m\u001b[0;34m=\u001b[0m\u001b[0;34m'name'\u001b[0m\u001b[0;34m,\u001b[0m\u001b[0mright_on\u001b[0m\u001b[0;34m=\u001b[0m\u001b[0;34m'site'\u001b[0m\u001b[0;34m)\u001b[0m\u001b[0;34m\u001b[0m\u001b[0;34m\u001b[0m\u001b[0m\n\u001b[0m\u001b[1;32m      5\u001b[0m \u001b[0mprint\u001b[0m\u001b[0;34m(\u001b[0m\u001b[0mdfMerge\u001b[0m\u001b[0;34m)\u001b[0m\u001b[0;34m\u001b[0m\u001b[0;34m\u001b[0m\u001b[0m\n\u001b[1;32m      6\u001b[0m \u001b[0;34m\u001b[0m\u001b[0m\n",
      "\u001b[0;31mNameError\u001b[0m: name 'dfVisited' is not defined"
     ]
    }
   ],
   "source": [
    "#dfMerge = pd.merge(dfsite, dfVisited)\n",
    "#print(dfMerge)\n",
    "\n",
    "dfMerge = pd.merge(dfsite, dfVisited, left_on='name',right_on='site')\n",
    "print(dfMerge)\n",
    "\n",
    "dfMerge = pd.merge(dfsite, dfVisited, left_on='name',right_on='site').drop('site', axis=1)\n",
    "print(dfMerge)"
   ]
  },
  {
   "cell_type": "code",
   "execution_count": null,
   "metadata": {},
   "outputs": [],
   "source": []
  }
 ],
 "metadata": {
  "kernelspec": {
   "display_name": "Python 3",
   "language": "python",
   "name": "python3"
  },
  "language_info": {
   "codemirror_mode": {
    "name": "ipython",
    "version": 3
   },
   "file_extension": ".py",
   "mimetype": "text/x-python",
   "name": "python",
   "nbconvert_exporter": "python",
   "pygments_lexer": "ipython3",
   "version": "3.7.4"
  }
 },
 "nbformat": 4,
 "nbformat_minor": 2
}
