{
 "cells": [
  {
   "cell_type": "code",
   "execution_count": 1,
   "metadata": {},
   "outputs": [],
   "source": [
    "from sklearn.model_selection import train_test_split\n",
    "from sklearn.model_selection import StratifiedKFold\n",
    "from sklearn.linear_model import LogisticRegression\n",
    "from sklearn.metrics import classification_report\n",
    "from sklearn.linear_model import SGDClassifier\n",
    "from sklearn.metrics import confusion_matrix\n",
    "from sklearn.naive_bayes import GaussianNB\n",
    "from sklearn.metrics import f1_score\n",
    "from matplotlib.pyplot import figure\n",
    "from sklearn import preprocessing\n",
    "import matplotlib.pyplot as plt\n",
    "import pandas as pd\n",
    "import numpy as np\n",
    "import math"
   ]
  },
  {
   "cell_type": "markdown",
   "metadata": {},
   "source": [
    "# Comparação de Métricas SGD, Naive Bayes e Logistic Regression "
   ]
  },
  {
   "cell_type": "markdown",
   "metadata": {},
   "source": [
    "### Classificadores"
   ]
  },
  {
   "cell_type": "code",
   "execution_count": 2,
   "metadata": {},
   "outputs": [],
   "source": [
    "# SGD\n",
    "sgd = SGDClassifier(random_state=42)\n",
    "# Logistic REgression\n",
    "lr = LogisticRegression(max_iter=3000, solver='lbfgs')\n",
    "# Naive Bayes\n",
    "nb = GaussianNB()"
   ]
  },
  {
   "cell_type": "markdown",
   "metadata": {},
   "source": [
    "### Dicionário de resultados (precision, recall e fscore)"
   ]
  },
  {
   "cell_type": "code",
   "execution_count": 3,
   "metadata": {},
   "outputs": [],
   "source": [
    "sgd_info = {'prec':list(), 'recall':list(), 'fscore':list()}\n",
    "lr_info = {'prec':list(),'recall':list(), 'fscore':list()}\n",
    "nb_info = {'prec':list(),'recall':list(), 'fscore':list()}"
   ]
  },
  {
   "cell_type": "markdown",
   "metadata": {},
   "source": [
    "### Stratified K-Folds cross-validator\n",
    "\n",
    " Amostragens de teste e treino balanceadas"
   ]
  },
  {
   "cell_type": "code",
   "execution_count": 4,
   "metadata": {},
   "outputs": [],
   "source": [
    "K = 10"
   ]
  },
  {
   "cell_type": "code",
   "execution_count": 5,
   "metadata": {},
   "outputs": [
    {
     "data": {
      "text/plain": [
       "StratifiedKFold(n_splits=10, random_state=None, shuffle=True)"
      ]
     },
     "execution_count": 5,
     "metadata": {},
     "output_type": "execute_result"
    }
   ],
   "source": [
    "skf = StratifiedKFold(n_splits=K, shuffle=True)\n",
    "skf"
   ]
  },
  {
   "cell_type": "code",
   "execution_count": 6,
   "metadata": {},
   "outputs": [],
   "source": [
    "def teste_resultados(X_train, X_test, y_train, y_test, model_name, model, model_dict):\n",
    "    \n",
    "    mdict = None\n",
    "    mtrained = None\n",
    "    \n",
    "    if model_name == \"sgd\":\n",
    "        mtrained = model.fit(X_train, y_train)\n",
    "        mdict = model_dict\n",
    "        \n",
    "    elif model_name == \"lr\":\n",
    "        mtrained = model.fit(X_train, y_train)\n",
    "        mdict = model_dict\n",
    "        \n",
    "    elif model_name == \"nb\":\n",
    "        mtrained = model.fit(X_train, y_train)\n",
    "        mdict = model_dict\n",
    "        \n",
    "        \n",
    "    mpred = mtrained.predict(X_test)    \n",
    "    report = classification_report(y_test, mpred, output_dict=True)\n",
    "    mdict[\"prec\"].append(report[\"macro avg\"][\"precision\"])\n",
    "    mdict[\"recall\"].append(report[\"macro avg\"][\"recall\"])\n",
    "    mdict[\"fscore\"].append(report[\"macro avg\"][\"f1-score\"])"
   ]
  },
  {
   "cell_type": "markdown",
   "metadata": {},
   "source": [
    "## SA Heart"
   ]
  },
  {
   "cell_type": "code",
   "execution_count": 7,
   "metadata": {},
   "outputs": [
    {
     "data": {
      "text/plain": [
       "Index(['sbp', 'tobacco', 'ldl', 'adiposity', 'famhist', 'typea', 'obesity',\n",
       "       'alcohol', 'age', 'chd'],\n",
       "      dtype='object')"
      ]
     },
     "execution_count": 7,
     "metadata": {},
     "output_type": "execute_result"
    }
   ],
   "source": [
    "df1 = pd.read_csv(\"./../SAheart.data\", sep=',') \n",
    "df1.columns"
   ]
  },
  {
   "cell_type": "code",
   "execution_count": 8,
   "metadata": {},
   "outputs": [
    {
     "data": {
      "text/html": [
       "<div>\n",
       "<style scoped>\n",
       "    .dataframe tbody tr th:only-of-type {\n",
       "        vertical-align: middle;\n",
       "    }\n",
       "\n",
       "    .dataframe tbody tr th {\n",
       "        vertical-align: top;\n",
       "    }\n",
       "\n",
       "    .dataframe thead th {\n",
       "        text-align: right;\n",
       "    }\n",
       "</style>\n",
       "<table border=\"1\" class=\"dataframe\">\n",
       "  <thead>\n",
       "    <tr style=\"text-align: right;\">\n",
       "      <th></th>\n",
       "      <th>sbp</th>\n",
       "      <th>tobacco</th>\n",
       "      <th>ldl</th>\n",
       "      <th>adiposity</th>\n",
       "      <th>famhist</th>\n",
       "      <th>typea</th>\n",
       "      <th>obesity</th>\n",
       "      <th>alcohol</th>\n",
       "      <th>age</th>\n",
       "      <th>chd</th>\n",
       "    </tr>\n",
       "  </thead>\n",
       "  <tbody>\n",
       "    <tr>\n",
       "      <th>1</th>\n",
       "      <td>160</td>\n",
       "      <td>12.00</td>\n",
       "      <td>5.73</td>\n",
       "      <td>23.11</td>\n",
       "      <td>1</td>\n",
       "      <td>49</td>\n",
       "      <td>25.30</td>\n",
       "      <td>97.20</td>\n",
       "      <td>52</td>\n",
       "      <td>1</td>\n",
       "    </tr>\n",
       "    <tr>\n",
       "      <th>2</th>\n",
       "      <td>144</td>\n",
       "      <td>0.01</td>\n",
       "      <td>4.41</td>\n",
       "      <td>28.61</td>\n",
       "      <td>0</td>\n",
       "      <td>55</td>\n",
       "      <td>28.87</td>\n",
       "      <td>2.06</td>\n",
       "      <td>63</td>\n",
       "      <td>1</td>\n",
       "    </tr>\n",
       "    <tr>\n",
       "      <th>3</th>\n",
       "      <td>118</td>\n",
       "      <td>0.08</td>\n",
       "      <td>3.48</td>\n",
       "      <td>32.28</td>\n",
       "      <td>1</td>\n",
       "      <td>52</td>\n",
       "      <td>29.14</td>\n",
       "      <td>3.81</td>\n",
       "      <td>46</td>\n",
       "      <td>0</td>\n",
       "    </tr>\n",
       "    <tr>\n",
       "      <th>4</th>\n",
       "      <td>170</td>\n",
       "      <td>7.50</td>\n",
       "      <td>6.41</td>\n",
       "      <td>38.03</td>\n",
       "      <td>1</td>\n",
       "      <td>51</td>\n",
       "      <td>31.99</td>\n",
       "      <td>24.26</td>\n",
       "      <td>58</td>\n",
       "      <td>1</td>\n",
       "    </tr>\n",
       "    <tr>\n",
       "      <th>5</th>\n",
       "      <td>134</td>\n",
       "      <td>13.60</td>\n",
       "      <td>3.50</td>\n",
       "      <td>27.78</td>\n",
       "      <td>1</td>\n",
       "      <td>60</td>\n",
       "      <td>25.99</td>\n",
       "      <td>57.34</td>\n",
       "      <td>49</td>\n",
       "      <td>1</td>\n",
       "    </tr>\n",
       "  </tbody>\n",
       "</table>\n",
       "</div>"
      ],
      "text/plain": [
       "   sbp  tobacco   ldl  adiposity  famhist  typea  obesity  alcohol  age  chd\n",
       "1  160    12.00  5.73      23.11        1     49    25.30    97.20   52    1\n",
       "2  144     0.01  4.41      28.61        0     55    28.87     2.06   63    1\n",
       "3  118     0.08  3.48      32.28        1     52    29.14     3.81   46    0\n",
       "4  170     7.50  6.41      38.03        1     51    31.99    24.26   58    1\n",
       "5  134    13.60  3.50      27.78        1     60    25.99    57.34   49    1"
      ]
     },
     "execution_count": 8,
     "metadata": {},
     "output_type": "execute_result"
    }
   ],
   "source": [
    "le = preprocessing.LabelEncoder()\n",
    "df1.famhist = le.fit_transform(df1.famhist)\n",
    "df1.head()"
   ]
  },
  {
   "cell_type": "code",
   "execution_count": 9,
   "metadata": {},
   "outputs": [],
   "source": [
    "X = df1.drop([\"chd\"],axis=1)\n",
    "y = df1[\"chd\"]"
   ]
  },
  {
   "cell_type": "code",
   "execution_count": 10,
   "metadata": {},
   "outputs": [
    {
     "name": "stderr",
     "output_type": "stream",
     "text": [
      "/home/gykimura/miniconda3/envs/boticario/lib/python3.7/site-packages/sklearn/metrics/classification.py:1437: UndefinedMetricWarning: Precision and F-score are ill-defined and being set to 0.0 in labels with no predicted samples.\n",
      "  'precision', 'predicted', average, warn_for)\n",
      "/home/gykimura/miniconda3/envs/boticario/lib/python3.7/site-packages/sklearn/metrics/classification.py:1437: UndefinedMetricWarning: Precision and F-score are ill-defined and being set to 0.0 in labels with no predicted samples.\n",
      "  'precision', 'predicted', average, warn_for)\n"
     ]
    }
   ],
   "source": [
    "for train_ind, test_ind in skf.split(X, y):\n",
    "    X_train, X_test = X.iloc[train_ind], X.iloc[test_ind]\n",
    "    y_train, y_test = y.iloc[train_ind], y.iloc[test_ind]\n",
    "    \n",
    "    teste_resultados(X_train, X_test, y_train, y_test, 'sgd', sgd, sgd_info)\n",
    "    teste_resultados(X_train, X_test, y_train, y_test, 'lr', lr, lr_info)\n",
    "    teste_resultados(X_train, X_test, y_train, y_test, 'nb', nb, nb_info)"
   ]
  },
  {
   "cell_type": "markdown",
   "metadata": {},
   "source": [
    "### Média dos resultados dos folds "
   ]
  },
  {
   "cell_type": "code",
   "execution_count": 11,
   "metadata": {},
   "outputs": [],
   "source": [
    "# prec, recall, fscore\n",
    "sgd_res = [np.mean(sgd_info['prec']), np.mean(sgd_info['recall']), np.mean(sgd_info['fscore'])]\n",
    "lr_res = [np.mean(lr_info['prec']), np.mean(lr_info['recall']), np.mean(lr_info['fscore'])]\n",
    "nb_res = [np.mean(nb_info['prec']), np.mean(nb_info['recall']), np.mean(nb_info['fscore'])]"
   ]
  },
  {
   "cell_type": "code",
   "execution_count": 12,
   "metadata": {},
   "outputs": [
    {
     "name": "stdout",
     "output_type": "stream",
     "text": [
      "[0.5456879203776612, 0.5640255376344087, 0.47275365423372306] [0.6942312575549056, 0.6720497311827958, 0.6773455099080226] [0.677866332023811, 0.679301075268817, 0.6763420079874155]\n"
     ]
    }
   ],
   "source": [
    "print(sgd_res, lr_res, nb_res)"
   ]
  },
  {
   "cell_type": "code",
   "execution_count": 13,
   "metadata": {},
   "outputs": [
    {
     "data": {
      "text/plain": [
       "<matplotlib.legend.Legend at 0x7fe1f120cdd0>"
      ]
     },
     "execution_count": 13,
     "metadata": {},
     "output_type": "execute_result"
    },
    {
     "data": {
      "image/png": "[encoded data removed]",
      "text/plain": [
       "<Figure size 1440x720 with 1 Axes>"
      ]
     },
     "metadata": {
      "needs_background": "light"
     },
     "output_type": "display_data"
    }
   ],
   "source": [
    "#fig, ax = plt.subplots()\n",
    "plt.figure(figsize = (20,10))\n",
    "\n",
    "labels = ['precision','recall','f1score']\n",
    "index = np.arange(len(labels))\n",
    "width = 0.2\n",
    "\n",
    "rec1 = plt.bar(index-width, [sgd_res[0],lr_res[0],nb_res[0]], width, label = 'Precision')\n",
    "rec2 = plt.bar(index, [sgd_res[1],lr_res[1],nb_res[1]], width, label = 'Recall')\n",
    "rec3 = plt.bar(index+width, [sgd_res[2],lr_res[2],nb_res[2]], width, label = 'F1score')\n",
    "\n",
    "plt.title(\"SA Heart\", fontsize=20)\n",
    "plt.xlabel('Métricas', fontsize=20)\n",
    "plt.xticks(index, ('SGD', 'LR', 'F1score'),fontsize=20)\n",
    "plt.legend(fontsize=20)"
   ]
  },
  {
   "cell_type": "markdown",
   "metadata": {},
   "source": [
    "# PIMA Indians Diabetes "
   ]
  },
  {
   "cell_type": "code",
   "execution_count": 14,
   "metadata": {},
   "outputs": [
    {
     "data": {
      "text/plain": [
       "Index(['Pregnancies', 'Glucose', 'BloodPressure', 'SkinThickness', 'Insulin',\n",
       "       'BMI', 'DiabetesPedigreeFunction', 'Age', 'Class'],\n",
       "      dtype='object')"
      ]
     },
     "execution_count": 14,
     "metadata": {},
     "output_type": "execute_result"
    }
   ],
   "source": [
    "df2 = pd.read_csv(\"./../pima-indians-diabetes.data.csv\", sep=',') \n",
    "df2.columns"
   ]
  },
  {
   "cell_type": "code",
   "execution_count": 15,
   "metadata": {},
   "outputs": [],
   "source": [
    "X = df2.drop([\"Class\"],axis=1)\n",
    "y = df2[\"Class\"]"
   ]
  },
  {
   "cell_type": "code",
   "execution_count": 16,
   "metadata": {},
   "outputs": [],
   "source": [
    "for train_ind, test_ind in skf.split(X, y):\n",
    "    X_train, X_test = X.iloc[train_ind], X.iloc[test_ind]\n",
    "    y_train, y_test = y.iloc[train_ind], y.iloc[test_ind]\n",
    "    \n",
    "    teste_resultados(X_train, X_test, y_train, y_test, 'sgd', sgd, sgd_info)\n",
    "    teste_resultados(X_train, X_test, y_train, y_test, 'lr', lr, lr_info)\n",
    "    teste_resultados(X_train, X_test, y_train, y_test, 'nb', nb, nb_info)"
   ]
  },
  {
   "cell_type": "markdown",
   "metadata": {},
   "source": [
    "### Média dos resultados dos folds "
   ]
  },
  {
   "cell_type": "code",
   "execution_count": 17,
   "metadata": {},
   "outputs": [],
   "source": [
    "sgd_res = [np.mean(sgd_info['prec']), np.mean(sgd_info['recall']), np.mean(sgd_info['fscore'])]\n",
    "lr_res = [np.mean(lr_info['prec']), np.mean(lr_info['recall']), np.mean(lr_info['fscore'])]\n",
    "nb_res = [np.mean(nb_info['prec']), np.mean(nb_info['recall']), np.mean(nb_info['fscore'])]"
   ]
  },
  {
   "cell_type": "code",
   "execution_count": 18,
   "metadata": {},
   "outputs": [
    {
     "data": {
      "text/plain": [
       "<matplotlib.legend.Legend at 0x7fe1f1180950>"
      ]
     },
     "execution_count": 18,
     "metadata": {},
     "output_type": "execute_result"
    },
    {
     "data": {
      "image/png": "[encoded data removed]",
      "text/plain": [
       "<Figure size 1440x720 with 1 Axes>"
      ]
     },
     "metadata": {
      "needs_background": "light"
     },
     "output_type": "display_data"
    }
   ],
   "source": [
    "#fig, ax = plt.subplots()\n",
    "plt.figure(figsize = (20,10))\n",
    "\n",
    "labels = ['precision','recall','f1score']\n",
    "index = np.arange(len(labels))\n",
    "width = 0.2\n",
    "\n",
    "rec1 = plt.bar(index-width, [sgd_res[0],lr_res[0],nb_res[0]], width, label = 'Precision')\n",
    "rec2 = plt.bar(index, [sgd_res[1],lr_res[1],nb_res[1]], width, label = 'Recall')\n",
    "rec3 = plt.bar(index+width, [sgd_res[2],lr_res[2],nb_res[2]], width, label = 'F1score')\n",
    "\n",
    "plt.title(\"PIMA Indians Diabetes\", fontsize=20)\n",
    "plt.xlabel('Métricas', fontsize=20)\n",
    "plt.xticks(index, ('SGD', 'LR', 'F1score'),fontsize=20)\n",
    "plt.legend(fontsize=20)"
   ]
  }
 ],
 "metadata": {
  "kernelspec": {
   "display_name": "Python [conda env:boticario] *",
   "language": "python",
   "name": "conda-env-boticario-py"
  },
  "language_info": {
   "codemirror_mode": {
    "name": "ipython",
    "version": 3
   },
   "file_extension": ".py",
   "mimetype": "text/x-python",
   "name": "python",
   "nbconvert_exporter": "python",
   "pygments_lexer": "ipython3",
   "version": "3.7.4"
  }
 },
 "nbformat": 4,
 "nbformat_minor": 2
}
