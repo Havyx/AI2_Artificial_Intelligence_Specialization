{
 "cells": [
  {
   "cell_type": "code",
   "execution_count": 8,
   "metadata": {},
   "outputs": [],
   "source": [
    "# Manipulacao de dados e operacoes\n",
    "import pandas as pd \n",
    "import numpy as np \n",
    "from numpy import median\n",
    "from itertools import combinations\n",
    "from sklearn.model_selection import train_test_split\n",
    "import math\n",
    "\n",
    "# Visualizacao\n",
    "import matplotlib.pyplot as plt \n",
    "import seaborn as sns; sns.set()\n",
    "\n",
    "# Estatistica\n",
    "from statistics import mean \n",
    "from sklearn.metrics import mean_squared_error\n",
    "from sklearn.metrics import mean_absolute_error\n",
    "from sklearn.metrics import r2_score\n",
    "from sklearn.metrics import accuracy_score\n",
    "from sklearn.metrics import roc_curve, roc_auc_score\n",
    "from sklearn.metrics import classification_report    # output: accuracy, f1-score, recall e precision\n",
    "from sklearn.metrics import confusion_matrix\n",
    "\n",
    "# Modelos de Regressao\n",
    "from sklearn.linear_model import LinearRegression, SGDRegressor, Ridge, RidgeCV, Lasso, LassoCV\n",
    "from sklearn.model_selection import train_test_split, cross_val_score \n",
    "from sklearn.tree import DecisionTreeRegressor  \n",
    "from sklearn.neighbors import KNeighborsRegressor\n",
    "\n",
    "# Modelos de Classificacao\n",
    "from sklearn.tree import DecisionTreeClassifier\n",
    "from sklearn.linear_model import SGDClassifier\n",
    "from sklearn.linear_model import RidgeClassifier\n",
    "from sklearn.linear_model import LogisticRegression\n",
    "from sklearn.naive_bayes import GaussianNB\n",
    "\n",
    "# Pre-processamento\n",
    "from sklearn.preprocessing import scale, LabelEncoder\n",
    "from sklearn.preprocessing import MinMaxScaler\n",
    "from sklearn.preprocessing import StandardScaler\n",
    "\n",
    "# Outros\n",
    "from datetime import datetime, timedelta"
   ]
  },
  {
   "cell_type": "markdown",
   "metadata": {},
   "source": [
    "# CLASSIFICACAO:\n",
    "---"
   ]
  },
  {
   "cell_type": "code",
   "execution_count": 9,
   "metadata": {},
   "outputs": [],
   "source": [
    "# Criando objeto dos modelos de classificacao\n",
    "regLog = LogisticRegression(max_iter=1000)\n",
    "nb = GaussianNB()\n",
    "sgd = SGDClassifier()"
   ]
  },
  {
   "cell_type": "markdown",
   "metadata": {},
   "source": [
    "## BASE SAHeart.csv - Logistic Regression, SGD e Naive Bayes"
   ]
  },
  {
   "cell_type": "code",
   "execution_count": 10,
   "metadata": {},
   "outputs": [],
   "source": [
    "# Lendo a base de dados\n",
    "dados = pd.read_csv(\"SAheart.csv\")"
   ]
  },
  {
   "cell_type": "code",
   "execution_count": 11,
   "metadata": {},
   "outputs": [],
   "source": [
    "# Separando caracteristicas e coluna a ser prevista\n",
    "X = dados.drop(['chd'], axis=1)\n",
    "y = dados.chd"
   ]
  },
  {
   "cell_type": "code",
   "execution_count": 12,
   "metadata": {},
   "outputs": [],
   "source": [
    "# Codificando colunas categoricas\n",
    "le = LabelEncoder()\n",
    "X['famhist'] = le.fit_transform(X['famhist'])"
   ]
  },
  {
   "cell_type": "code",
   "execution_count": 13,
   "metadata": {},
   "outputs": [],
   "source": [
    "# Separando dados de treino e de teste\n",
    "X_train, X_test, y_train, y_test = train_test_split(X, y, test_size=0.2)"
   ]
  },
  {
   "cell_type": "code",
   "execution_count": 14,
   "metadata": {
    "scrolled": true
   },
   "outputs": [
    {
     "name": "stdout",
     "output_type": "stream",
     "text": [
      "Matriz de confusao - Logistic Regression:\n",
      " [[47 11]\n",
      " [20 15]]\n",
      "\n",
      "Classification Report (LR):\n",
      "               precision    recall  f1-score   support\n",
      "\n",
      "           0       0.70      0.81      0.75        58\n",
      "           1       0.58      0.43      0.49        35\n",
      "\n",
      "    accuracy                           0.67        93\n",
      "   macro avg       0.64      0.62      0.62        93\n",
      "weighted avg       0.65      0.67      0.65        93\n",
      "\n",
      "\n",
      "\n",
      "Matriz de confusao - Naive Bayes:\n",
      " [[47 11]\n",
      " [14 21]]\n",
      "\n",
      "Classification Report (NB):\n",
      "               precision    recall  f1-score   support\n",
      "\n",
      "           0       0.77      0.81      0.79        58\n",
      "           1       0.66      0.60      0.63        35\n",
      "\n",
      "    accuracy                           0.73        93\n",
      "   macro avg       0.71      0.71      0.71        93\n",
      "weighted avg       0.73      0.73      0.73        93\n",
      "\n",
      "\n",
      "\n",
      "Matriz de confusao - SGDClassifier:\n",
      " [[40 18]\n",
      " [18 17]]\n",
      "\n",
      "Classification Report (SGD):\n",
      "               precision    recall  f1-score   support\n",
      "\n",
      "           0       0.69      0.69      0.69        58\n",
      "           1       0.49      0.49      0.49        35\n",
      "\n",
      "    accuracy                           0.61        93\n",
      "   macro avg       0.59      0.59      0.59        93\n",
      "weighted avg       0.61      0.61      0.61        93\n",
      "\n"
     ]
    }
   ],
   "source": [
    "# Treinando dados no modelo de classificacao\n",
    "treino_LR  = regLog.fit(X_train, y_train)\n",
    "treino_NB  = nb.fit(X_train, y_train)\n",
    "treino_SGD = sgd.fit(X_train, y_train) \n",
    "\n",
    "# Calculando score do treino\n",
    "score_train_LR  = treino_LR.score(X_train, y_train)\n",
    "score_train_NB  = treino_NB.score(X_train, y_train)\n",
    "score_train_SGD = treino_SGD.score(X_train, y_train)\n",
    "\n",
    "# Predicao\n",
    "ypred_LR  = treino_LR.predict(X_test)\n",
    "ypred_NB  = treino_NB.predict(X_test)\n",
    "ypred_SGD = treino_SGD.predict(X_test)\n",
    "\n",
    "\n",
    "# Matriz de Confusao\n",
    "confusionMtxLR = confusion_matrix(y_test, ypred_LR)\n",
    "confusionMtxNB = confusion_matrix(y_test, ypred_NB)\n",
    "confusionMtxSGD = confusion_matrix(y_test, ypred_SGD)\n",
    "\n",
    "# Classification Report\n",
    "clfReportLR    = classification_report(y_test, ypred_LR)\n",
    "clfReportNB    = classification_report(y_test, ypred_NB)\n",
    "clfReportSGD   = classification_report(y_test, ypred_SGD)\n",
    "\n",
    "# Printando tudo\n",
    "print(\"Matriz de confusao - Logistic Regression:\\n\", confusionMtxLR)\n",
    "print(\"\\nClassification Report (LR):\\n\", clfReportLR)\n",
    "print(\"\\n\\nMatriz de confusao - Naive Bayes:\\n\", confusionMtxNB)\n",
    "print(\"\\nClassification Report (NB):\\n\", clfReportNB)\n",
    "print(\"\\n\\nMatriz de confusao - SGDClassifier:\\n\", confusionMtxSGD)\n",
    "print(\"\\nClassification Report (SGD):\\n\", clfReportSGD)\n",
    "\n",
    "# Salvando reports em forma de dicionario apos o print, para posteriores comparacoes\n",
    "clfReportLR    = classification_report(y_test, ypred_LR, output_dict=True)\n",
    "clfReportNB    = classification_report(y_test, ypred_NB, output_dict=True)\n",
    "clfReportSGD   = classification_report(y_test, ypred_SGD, output_dict=True)"
   ]
  },
  {
   "cell_type": "markdown",
   "metadata": {},
   "source": [
    "## Conclusão: SAheart.csv\n",
    "---\n",
    "**Matriz de Confusão:** analisando somente a matriz de confusão de cada um dos classificadores, o resultado com *Naive Bayes* possui menor erro nas predições (menos falsos positivos e menos falsos negativos);\n",
    "\n",
    "**Acurácia:** da mesma forma, a acurácia obtida no *Classification Report* aponta o classificador *Naive Bayes* como sendo o mais acurado dentre os três analisados;\n",
    "\n",
    "**Recall:** como a coluna a ser predita se trata de *Coronary Heart Disease* (Doença arterial coronária), deseja-se evitar que pessoas que de fato têm a doença deixem de ser diagnosticadas com a tal. Dessa forma, analisar o recall da classe 1 para Chd traz essa noção de quantas pessoas com a doença passaram despercebidas pelo modelo. Assim como nos indicadores anteriores, o classificador *Naive Bayes* se saiu melhor, uma vez que o recall para o rótulo 1 da coluna *Chd* está em 0.6.\n",
    "\n",
    "**De modo geral, o classificador *Naive Bayes* apresenta melhores resultados comparados aos demais.**"
   ]
  },
  {
   "cell_type": "markdown",
   "metadata": {},
   "source": [
    "## BASE indians-[...].csv - Logistic Regression, SGD e Naive Bayes"
   ]
  },
  {
   "cell_type": "code",
   "execution_count": 19,
   "metadata": {},
   "outputs": [],
   "source": [
    "# Lendo a base de dados\n",
    "url = 'https://raw.githubusercontent.com/advinstai/Aprendizagem-estatistica-classificacao/master/pima-indians-diabetes.data.csv'\n",
    "indians = pd.read_csv(url)"
   ]
  },
  {
   "cell_type": "code",
   "execution_count": 20,
   "metadata": {},
   "outputs": [],
   "source": [
    "# Separando caracteristicas e coluna a ser prevista\n",
    "X_indians = indians.drop(['Class'], axis=1)\n",
    "y_indians = indians.Class"
   ]
  },
  {
   "cell_type": "code",
   "execution_count": 21,
   "metadata": {},
   "outputs": [],
   "source": [
    "# Separando dados de treino e de teste\n",
    "X_train_indians, X_test_indians, y_train_indians, y_test_indians = train_test_split(X_indians, y_indians, test_size=0.2)"
   ]
  },
  {
   "cell_type": "code",
   "execution_count": 22,
   "metadata": {
    "scrolled": false
   },
   "outputs": [
    {
     "name": "stdout",
     "output_type": "stream",
     "text": [
      "Matriz de confusao - Logistic Regression:\n",
      " [[89 12]\n",
      " [16 37]]\n",
      "\n",
      "Classification Report (LR):\n",
      "               precision    recall  f1-score   support\n",
      "\n",
      "           0       0.85      0.88      0.86       101\n",
      "           1       0.76      0.70      0.73        53\n",
      "\n",
      "    accuracy                           0.82       154\n",
      "   macro avg       0.80      0.79      0.79       154\n",
      "weighted avg       0.82      0.82      0.82       154\n",
      "\n",
      "\n",
      "\n",
      "Matriz de confusao - Naive Bayes:\n",
      " [[86 15]\n",
      " [17 36]]\n",
      "\n",
      "Classification Report (NB):\n",
      "               precision    recall  f1-score   support\n",
      "\n",
      "           0       0.83      0.85      0.84       101\n",
      "           1       0.71      0.68      0.69        53\n",
      "\n",
      "    accuracy                           0.79       154\n",
      "   macro avg       0.77      0.77      0.77       154\n",
      "weighted avg       0.79      0.79      0.79       154\n",
      "\n",
      "\n",
      "\n",
      "Matriz de confusao - SGDClassifier:\n",
      " [[100   1]\n",
      " [ 53   0]]\n",
      "\n",
      "Classification Report (SGD):\n",
      "               precision    recall  f1-score   support\n",
      "\n",
      "           0       0.65      0.99      0.79       101\n",
      "           1       0.00      0.00      0.00        53\n",
      "\n",
      "    accuracy                           0.65       154\n",
      "   macro avg       0.33      0.50      0.39       154\n",
      "weighted avg       0.43      0.65      0.52       154\n",
      "\n"
     ]
    }
   ],
   "source": [
    "# Treinando dados no modelo de classificacao\n",
    "treino_indians_LR  = regLog.fit(X_train_indians, y_train_indians)\n",
    "treino_indians_NB  = nb.fit(X_train_indians, y_train_indians)\n",
    "treino_indians_SGD = sgd.fit(X_train_indians, y_train_indians)\n",
    "\n",
    "# Calculando score do treino\n",
    "score_train_indians_LR  = treino_indians_LR.score(X_train_indians, y_train_indians)\n",
    "score_train_indians_NB  = treino_indians_NB.score(X_train_indians, y_train_indians)\n",
    "score_train_indians_SGD = treino_indians_SGD.score(X_train_indians, y_train_indians)\n",
    "\n",
    "# Predicao\n",
    "ypred_indians_LR  = treino_indians_LR.predict(X_test_indians)\n",
    "ypred_indians_NB  = treino_indians_NB.predict(X_test_indians)\n",
    "ypred_indians_SGD = treino_indians_SGD.predict(X_test_indians)\n",
    "\n",
    "# Matriz de Confusao\n",
    "confusionMtxLR_indians  = confusion_matrix(y_test_indians, ypred_indians_LR)\n",
    "confusionMtxNB_indians  = confusion_matrix(y_test_indians, ypred_indians_NB)\n",
    "confusionMtxSGD_indians = confusion_matrix(y_test_indians, ypred_indians_SGD)\n",
    "\n",
    "# Classification Reports\n",
    "clfReport_LR_indians  = classification_report(y_test_indians, ypred_indians_LR)\n",
    "clfReport_NB_indians  = classification_report(y_test_indians, ypred_indians_NB)\n",
    "clfReport_SGD_indians = classification_report(y_test_indians, ypred_indians_SGD)\n",
    "\n",
    "# Printando tudo\n",
    "print(\"Matriz de confusao - Logistic Regression:\\n\", confusionMtxLR_indians)\n",
    "print(\"\\nClassification Report (LR):\\n\", clfReport_LR_indians)\n",
    "print(\"\\n\\nMatriz de confusao - Naive Bayes:\\n\", confusionMtxNB_indians)\n",
    "print(\"\\nClassification Report (NB):\\n\", clfReport_NB_indians)\n",
    "print(\"\\n\\nMatriz de confusao - SGDClassifier:\\n\", confusionMtxSGD_indians)\n",
    "print(\"\\nClassification Report (SGD):\\n\", clfReport_SGD_indians)\n",
    "\n",
    "# Salvando reports em forma de dicionario apos o print, para posteriores comparacoes\n",
    "clfReport_LR_indians = classification_report(y_test_indians, ypred_indians_LR, output_dict=True)\n",
    "clfReport_NB_indians = classification_report(y_test_indians, ypred_indians_NB, output_dict=True)\n",
    "clfReport_SGD_indians = classification_report(y_test_indians, ypred_indians_SGD, output_dict=True)"
   ]
  },
  {
   "cell_type": "markdown",
   "metadata": {},
   "source": [
    "## Conclusão: pima-indians-diabetes.data.csv\n",
    "---\n",
    "**Matriz de Confusão:** analisando somente a matriz de confusão de cada um dos classificadores, o resultado com *Logistic Regression* possui menor erro nas predições (menos falsos positivos e menos falsos negativos);\n",
    "\n",
    "**Acurácia:** da mesma forma, a acurácia obtida no *Classification Report* aponta o classificador *Logistic Regression* como sendo o mais acurado dentre os três analisados;\n",
    "\n",
    "**Recall:** como a coluna a ser predita se trata de DIABETES (1-tem; 0-não tem), deseja-se evitar que pessoas que de fato têm diabetes deixem de ser diagnosticadas com a tal. Dessa forma, analisar o recall da classe 1 para *Class* traz essa noção de quantas pessoas com diabetes passaram despercebidas pelo modelo (em outras palavras, foram diagnosticadas como não-diabéticas). Assim como nos indicadores anteriores, o classificador *Logistic Regression* se saiu melhor, uma vez que o recall para o rótulo 1 da coluna *Class* está em 0.73.\n",
    "\n",
    "**De modo geral, o classificador *Logistic Regression* apresenta melhores resultados comparados aos demais.**"
   ]
  },
  {
   "cell_type": "code",
   "execution_count": null,
   "metadata": {},
   "outputs": [],
   "source": []
  }
 ],
 "metadata": {
  "kernelspec": {
   "display_name": "Python 3",
   "language": "python",
   "name": "python3"
  },
  "language_info": {
   "codemirror_mode": {
    "name": "ipython",
    "version": 3
   },
   "file_extension": ".py",
   "mimetype": "text/x-python",
   "name": "python",
   "nbconvert_exporter": "python",
   "pygments_lexer": "ipython3",
   "version": "3.7.4"
  }
 },
 "nbformat": 4,
 "nbformat_minor": 2
}
