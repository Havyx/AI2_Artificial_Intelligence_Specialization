{
 "cells": [
  {
   "cell_type": "markdown",
   "metadata": {},
   "source": [
    "## Regressão\n",
    "\n",
    "**Wana Batista**\n",
    "\n",
    "Introduzir e patricar conceitos de regressão. \n"
   ]
  },
  {
   "cell_type": "code",
   "execution_count": 1,
   "metadata": {},
   "outputs": [
    {
     "data": {
      "text/html": [
       "<div>\n",
       "<style scoped>\n",
       "    .dataframe tbody tr th:only-of-type {\n",
       "        vertical-align: middle;\n",
       "    }\n",
       "\n",
       "    .dataframe tbody tr th {\n",
       "        vertical-align: top;\n",
       "    }\n",
       "\n",
       "    .dataframe thead th {\n",
       "        text-align: right;\n",
       "    }\n",
       "</style>\n",
       "<table border=\"1\" class=\"dataframe\">\n",
       "  <thead>\n",
       "    <tr style=\"text-align: right;\">\n",
       "      <th></th>\n",
       "      <th>TV</th>\n",
       "      <th>radio</th>\n",
       "      <th>newspaper</th>\n",
       "      <th>sales</th>\n",
       "    </tr>\n",
       "  </thead>\n",
       "  <tbody>\n",
       "    <tr>\n",
       "      <th>1</th>\n",
       "      <td>230.1</td>\n",
       "      <td>37.8</td>\n",
       "      <td>69.2</td>\n",
       "      <td>22.1</td>\n",
       "    </tr>\n",
       "    <tr>\n",
       "      <th>2</th>\n",
       "      <td>44.5</td>\n",
       "      <td>39.3</td>\n",
       "      <td>45.1</td>\n",
       "      <td>10.4</td>\n",
       "    </tr>\n",
       "    <tr>\n",
       "      <th>3</th>\n",
       "      <td>17.2</td>\n",
       "      <td>45.9</td>\n",
       "      <td>69.3</td>\n",
       "      <td>9.3</td>\n",
       "    </tr>\n",
       "    <tr>\n",
       "      <th>4</th>\n",
       "      <td>151.5</td>\n",
       "      <td>41.3</td>\n",
       "      <td>58.5</td>\n",
       "      <td>18.5</td>\n",
       "    </tr>\n",
       "    <tr>\n",
       "      <th>5</th>\n",
       "      <td>180.8</td>\n",
       "      <td>10.8</td>\n",
       "      <td>58.4</td>\n",
       "      <td>12.9</td>\n",
       "    </tr>\n",
       "  </tbody>\n",
       "</table>\n",
       "</div>"
      ],
      "text/plain": [
       "      TV  radio  newspaper  sales\n",
       "1  230.1   37.8       69.2   22.1\n",
       "2   44.5   39.3       45.1   10.4\n",
       "3   17.2   45.9       69.3    9.3\n",
       "4  151.5   41.3       58.5   18.5\n",
       "5  180.8   10.8       58.4   12.9"
      ]
     },
     "execution_count": 1,
     "metadata": {},
     "output_type": "execute_result"
    }
   ],
   "source": [
    "import pandas as pd\n",
    "\n",
    "df_advertising = pd.read_csv('./dados/Advertising.csv', index_col=0)\n",
    "df_advertising.head()"
   ]
  },
  {
   "cell_type": "markdown",
   "metadata": {},
   "source": [
    "Advertising  eh um conjunto de dados relacionando o montante de vendas (sales) com o montante investido em marketing em diferentes medias(TV, newspaper, radio).\n",
    "\n",
    "Enquanto que o Portland_housePrices relaciona o preco de casas com seu tamanho e numero de quartos"
   ]
  },
  {
   "cell_type": "code",
   "execution_count": 2,
   "metadata": {},
   "outputs": [
    {
     "data": {
      "text/html": [
       "<div>\n",
       "<style scoped>\n",
       "    .dataframe tbody tr th:only-of-type {\n",
       "        vertical-align: middle;\n",
       "    }\n",
       "\n",
       "    .dataframe tbody tr th {\n",
       "        vertical-align: top;\n",
       "    }\n",
       "\n",
       "    .dataframe thead th {\n",
       "        text-align: right;\n",
       "    }\n",
       "</style>\n",
       "<table border=\"1\" class=\"dataframe\">\n",
       "  <thead>\n",
       "    <tr style=\"text-align: right;\">\n",
       "      <th></th>\n",
       "      <th>tamanho</th>\n",
       "      <th>quartos</th>\n",
       "      <th>preco</th>\n",
       "    </tr>\n",
       "  </thead>\n",
       "  <tbody>\n",
       "    <tr>\n",
       "      <th>0</th>\n",
       "      <td>2104</td>\n",
       "      <td>3</td>\n",
       "      <td>399900</td>\n",
       "    </tr>\n",
       "    <tr>\n",
       "      <th>1</th>\n",
       "      <td>1600</td>\n",
       "      <td>3</td>\n",
       "      <td>329900</td>\n",
       "    </tr>\n",
       "    <tr>\n",
       "      <th>2</th>\n",
       "      <td>2400</td>\n",
       "      <td>3</td>\n",
       "      <td>369000</td>\n",
       "    </tr>\n",
       "    <tr>\n",
       "      <th>3</th>\n",
       "      <td>1416</td>\n",
       "      <td>2</td>\n",
       "      <td>232000</td>\n",
       "    </tr>\n",
       "    <tr>\n",
       "      <th>4</th>\n",
       "      <td>3000</td>\n",
       "      <td>4</td>\n",
       "      <td>539900</td>\n",
       "    </tr>\n",
       "  </tbody>\n",
       "</table>\n",
       "</div>"
      ],
      "text/plain": [
       "   tamanho  quartos   preco\n",
       "0     2104        3  399900\n",
       "1     1600        3  329900\n",
       "2     2400        3  369000\n",
       "3     1416        2  232000\n",
       "4     3000        4  539900"
      ]
     },
     "execution_count": 2,
     "metadata": {},
     "output_type": "execute_result"
    }
   ],
   "source": [
    "dados_por = pd.read_csv('./dados/Portland_housePrices.csv', index_col= None)\n",
    "dados_por.head()"
   ]
  },
  {
   "cell_type": "markdown",
   "metadata": {},
   "source": [
    "## Como Treinar e usar modelos?\n",
    "Para virtualmente qualquer tipo de algoritmo de Regressao, exigira uma funcao **fit** para treinar o modelo.\n",
    "\n",
    "Por exemplo, para a regressao linear:\n",
    "    reg = LinearRegression().fit(X,y)\n",
    "    \n",
    "Onde X se refere aos atributos de treinamento e y à variável resposta \n"
   ]
  },
  {
   "cell_type": "code",
   "execution_count": 3,
   "metadata": {},
   "outputs": [
    {
     "data": {
      "text/plain": [
       "LinearRegression(copy_X=True, fit_intercept=True, n_jobs=None, normalize=False)"
      ]
     },
     "execution_count": 3,
     "metadata": {},
     "output_type": "execute_result"
    }
   ],
   "source": [
    "from sklearn.linear_model import LinearRegression\n",
    "X = dados_por.loc[:,['tamanho']] #feature\n",
    "y = dados_por.loc[:,['preco']] #label\n",
    "\n",
    "#aplicando regressao linear em uma feature\n",
    "reg = LinearRegression().fit(X,y)\n",
    "reg"
   ]
  },
  {
   "cell_type": "code",
   "execution_count": 4,
   "metadata": {},
   "outputs": [
    {
     "data": {
      "text/plain": [
       "array([[354311.69781212],\n",
       "       [286510.95280112],\n",
       "       [394131.18297731],\n",
       "       [261758.29986059]])"
      ]
     },
     "execution_count": 4,
     "metadata": {},
     "output_type": "execute_result"
    }
   ],
   "source": [
    "y_hat = reg.predict(X[0:4])\n",
    "y_hat"
   ]
  },
  {
   "cell_type": "markdown",
   "metadata": {},
   "source": [
    "# Regressao Linear  Univariada\n",
    "\n",
    "O Framework disponibiliza uma classe LinearRegression que implememta regressao linear com medio de mininmos quadrados:\n",
    "\n",
    "linear_model = LinearRegression()\n",
    "\n",
    "linear_model.fit(X,y)\n",
    "linear_model.predict(X)\n",
    "\n",
    "\n",
    "# Avaliando Modelos\n",
    "\n",
    "Existem algums formas de inspecionar ou avaliar o modelo aprendido. A primeira forma eh visualizar o modelo em um grafico.\n",
    "\n"
   ]
  },
  {
   "cell_type": "code",
   "execution_count": 5,
   "metadata": {},
   "outputs": [
    {
     "data": {
      "text/plain": [
       "Text(0, 0.5, 'preco')"
      ]
     },
     "execution_count": 5,
     "metadata": {},
     "output_type": "execute_result"
    },
    {
     "data": {
      "image/png": "[encoded data removed]",
      "text/plain": [
       "<Figure size 432x288 with 1 Axes>"
      ]
     },
     "metadata": {
      "needs_background": "light"
     },
     "output_type": "display_data"
    }
   ],
   "source": [
    "from matplotlib import pyplot as plt\n",
    "\n",
    "plt.scatter(X,y,color='b')\n",
    "plt.plot(X, reg.predict(X), color='r')\n",
    "plt.xlabel('Tamanho (pe2)')\n",
    "plt.ylabel('preco')"
   ]
  },
  {
   "cell_type": "markdown",
   "metadata": {},
   "source": [
    "Quando ha mais de um atributo preditor, visualizar o modelo torna-se dificil, mas ainda eh possivel avaliar o modelo por meio do **erro quadartico (RSS)** ou a metrica __R^2__"
   ]
  },
  {
   "cell_type": "code",
   "execution_count": 6,
   "metadata": {},
   "outputs": [],
   "source": [
    "from sklearn.metrics import r2_score\n",
    "\n",
    "def calc_rss(y, predicted):\n",
    "    return float(((predicted-y)**2).sum())\n",
    "\n",
    "def calc_r2(y, predicted):\n",
    "    return r2_score(y, predicted)"
   ]
  },
  {
   "cell_type": "code",
   "execution_count": 7,
   "metadata": {},
   "outputs": [
    {
     "name": "stdout",
     "output_type": "stream",
     "text": [
      "193464477600.7059\n",
      "0.7310037839755306\n"
     ]
    }
   ],
   "source": [
    "rss = calc_rss(y,reg.predict(X))\n",
    "r2 = calc_r2(y,reg.predict(X))\n",
    "print(rss)\n",
    "print(r2)"
   ]
  },
  {
   "cell_type": "code",
   "execution_count": 8,
   "metadata": {},
   "outputs": [],
   "source": [
    "def plotfigs(modelo, X, y):\n",
    "    \n",
    "    fig = plt.Figure(figsize=(22,9))\n",
    "    plt.scatter(X,y,color='b')\n",
    "    plt.plot(X, modelo.predict(X), color='r')\n",
    "\n",
    "    return fig\n",
    "    "
   ]
  },
  {
   "cell_type": "code",
   "execution_count": 9,
   "metadata": {},
   "outputs": [],
   "source": [
    "def xscale(X):\n",
    "    from sklearn.preprocessing import MinMaxScaler\n",
    "    scaler = MinMaxScaler()\n",
    "    scaler.fit(X)\n",
    "    X_scaled = scaler.transform(X)\n",
    "    return  X_scaled"
   ]
  },
  {
   "cell_type": "markdown",
   "metadata": {},
   "source": [
    "# Exercício 1\n",
    "\n",
    "Treine modelos lineares na base Portland_housePrices.csv utilizando apenas um dos atributos preditores.\n",
    "\n",
    "1) Observando visualmente o modelo, qual atributo parece mais razoável? o que foi aprendido com tamanho ou com número de quartos?\n",
    "\n",
    "2) O RSS e R^2 corroboram suas impressões observando o modelo?\n"
   ]
  },
  {
   "cell_type": "code",
   "execution_count": 10,
   "metadata": {},
   "outputs": [
    {
     "data": {
      "text/plain": [
       "LinearRegression(copy_X=True, fit_intercept=True, n_jobs=None, normalize=False)"
      ]
     },
     "execution_count": 10,
     "metadata": {},
     "output_type": "execute_result"
    }
   ],
   "source": [
    "\n",
    "X_quarto = dados_por.loc[:,['quartos']] #feature quantidade de quartos\n",
    "y = dados_por.loc[:,['preco']] #label\n",
    "\n",
    "#aplicando regressao linear em uma feature\n",
    "reg_quarto = LinearRegression().fit(X_quarto,y)\n",
    "reg_quarto"
   ]
  },
  {
   "cell_type": "code",
   "execution_count": 11,
   "metadata": {
    "scrolled": true
   },
   "outputs": [
    {
     "data": {
      "image/png": "[encoded data removed]",
      "text/plain": [
       "<Figure size 432x288 with 1 Axes>"
      ]
     },
     "metadata": {
      "needs_background": "light"
     },
     "output_type": "display_data"
    }
   ],
   "source": [
    "fig = plotfigs(reg_quarto, X_quarto, y)"
   ]
  },
  {
   "cell_type": "code",
   "execution_count": 12,
   "metadata": {},
   "outputs": [
    {
     "name": "stdout",
     "output_type": "stream",
     "text": [
      "4112470394446.1113\n",
      "-4.718046994145579\n"
     ]
    }
   ],
   "source": [
    "# O RSS e R^2\n",
    "rss_quarto = calc_rss(y,reg.predict(X_quarto))\n",
    "r2_quarto = calc_r2(y,reg.predict(X_quarto))\n",
    "print(rss_quarto)\n",
    "print(r2_quarto)"
   ]
  },
  {
   "cell_type": "code",
   "execution_count": 13,
   "metadata": {},
   "outputs": [
    {
     "data": {
      "image/png": "[encoded data removed]",
      "text/plain": [
       "<Figure size 432x288 with 1 Axes>"
      ]
     },
     "metadata": {
      "needs_background": "light"
     },
     "output_type": "display_data"
    }
   ],
   "source": [
    "x_scaled = xscale(X_quarto)\n",
    "#aplicando regressao linear em uma feature\n",
    "reg_quarto_scaled = LinearRegression().fit(x_scaled,y)\n",
    "reg_quarto_scaled\n",
    "\n",
    "fig = plotfigs(reg_quarto_scaled, x_scaled, y)"
   ]
  },
  {
   "cell_type": "markdown",
   "metadata": {},
   "source": [
    "# Exercício 2\n",
    "\n",
    "Treine modelos lineares na base Advertising.csv utilizando apenas um dos atributos preditores.\n",
    "\n",
    "1) Observando visualmente o modelo, qual atributo parece mais razoável? o que foi aprendido com TV, radio ou newspaper?\n",
    "\n",
    "2) Qual dos modelos é melhor? como você chegou a esta conclusão?\n"
   ]
  },
  {
   "cell_type": "code",
   "execution_count": 14,
   "metadata": {},
   "outputs": [],
   "source": [
    "#TV \tradio \tnewspaper \tsales\n",
    "\n",
    "X_radio = df_advertising.loc[:,['radio']] #feature quantidade de radio\n",
    "X_TV = df_advertising.loc[:,['TV']] #feature quantidade de TV\n",
    "X_newspaper = df_advertising.loc[:,['newspaper']] #feature quantidade de newspaper\n",
    "\n",
    "y = df_advertising.loc[:,['sales']] #label sales\n",
    "\n"
   ]
  },
  {
   "cell_type": "code",
   "execution_count": 18,
   "metadata": {},
   "outputs": [
    {
     "data": {
      "text/plain": [
       "LinearRegression(copy_X=True, fit_intercept=True, n_jobs=None, normalize=False)"
      ]
     },
     "execution_count": 18,
     "metadata": {},
     "output_type": "execute_result"
    }
   ],
   "source": [
    "#aplicando regressao linear em uma feature\n",
    "reg_radio = LinearRegression().fit(X_radio,y)\n",
    "reg_radio\n",
    "\n",
    "reg_TV = LinearRegression().fit(X_TV,y)\n",
    "reg_TV\n",
    "\n",
    "reg_newspaper = LinearRegression().fit(X_newspaper,y)\n",
    "reg_newspaper"
   ]
  },
  {
   "cell_type": "code",
   "execution_count": 16,
   "metadata": {},
   "outputs": [
    {
     "data": {
      "image/png": "[encoded data removed]",
      "text/plain": [
       "<Figure size 1080x504 with 3 Axes>"
      ]
     },
     "metadata": {
      "needs_background": "light"
     },
     "output_type": "display_data"
    }
   ],
   "source": [
    "\n",
    "fig, (ax1, ax2, ax3) = plt.subplots(1,3, figsize=(15,7))\n",
    "#radio\n",
    "ax1.scatter(X_radio,y,color='b')\n",
    "ax1.plot(X_radio, reg_radio.predict(X_radio), color='r')\n",
    "ax1.set_title('Radio')\n",
    "#TV\n",
    "ax2.scatter(X_TV,y,color='b')\n",
    "ax2.plot(X_TV, reg_TV.predict(X_TV), color='r')\n",
    "ax2.set_title('TV')\n",
    "#newspaper\n",
    "ax3.scatter(X_newspaper,y,color='b')\n",
    "ax3.plot(X_newspaper, reg_newspaper.predict(X_newspaper), color='r')\n",
    "ax3.set_title('Newspaper')\n",
    "fig.tight_layout()\n"
   ]
  },
  {
   "cell_type": "markdown",
   "metadata": {},
   "source": [
    "## Regressao Linear Multivariada\n",
    "\n",
    "A classe LinearRegression jah estah implementada de modo a funcionar com mutlipos atributos preditores.\n",
    "\n",
    "Tambem eh possivel utilizar o metodo descida de gradiente atraves da classe\n",
    "\n",
    "__SGDRegressor__"
   ]
  },
  {
   "cell_type": "code",
   "execution_count": 19,
   "metadata": {},
   "outputs": [
    {
     "data": {
      "text/plain": [
       "SGDRegressor(alpha=0, average=False, early_stopping=False, epsilon=0.1,\n",
       "             eta0=0.01, fit_intercept=True, l1_ratio=0.15,\n",
       "             learning_rate='invscaling', loss='squared_loss', max_iter=5000,\n",
       "             n_iter_no_change=5, penalty='l2', power_t=0.25, random_state=None,\n",
       "             shuffle=True, tol=0.001, validation_fraction=0.1, verbose=0,\n",
       "             warm_start=False)"
      ]
     },
     "execution_count": 19,
     "metadata": {},
     "output_type": "execute_result"
    }
   ],
   "source": [
    "from sklearn.linear_model import SGDRegressor\n",
    "\n",
    "Xsg = dados_por.loc[:,['tamanho']] #feature\n",
    "ysg = dados_por.loc[:,['preco']] #label\n",
    "reg_grad = SGDRegressor(max_iter=5000,alpha=0) #alpha = 0 significa que o modelo nao usa regularização \n",
    "reg_grad.fit(Xsg,ysg.values.ravel())\n",
    "\n"
   ]
  },
  {
   "cell_type": "code",
   "execution_count": 21,
   "metadata": {},
   "outputs": [
    {
     "data": {
      "text/plain": [
       "Text(0, 0.5, 'Preço')"
      ]
     },
     "execution_count": 21,
     "metadata": {},
     "output_type": "execute_result"
    },
    {
     "data": {
      "image/png": "[encoded data removed]",
      "text/plain": [
       "<Figure size 432x288 with 1 Axes>"
      ]
     },
     "metadata": {
      "needs_background": "light"
     },
     "output_type": "display_data"
    }
   ],
   "source": [
    "plt.scatter(Xsg, ysg,color='b')\n",
    "plt.plot(X, reg_grad.predict(Xsg),color='r')\n",
    "plt.xlabel('Tamanho (pe2)')\n",
    "plt.ylabel('Preço')"
   ]
  },
  {
   "cell_type": "markdown",
   "metadata": {},
   "source": [
    "Entretanto... o algoritmo não aprende quando os dados são usados diretamente.\n",
    "\n",
    "Por quê?\n",
    "\n",
    "A escala dos dados atrapalha o algoritmo. Tente treinar o regressor linear com descida do gradiente depois de normalizar os dados de entrada.\n",
    "# Exercício 3\n",
    "\n",
    "Para cada um dos conjuntos de treinamento, utilize a função fit múltiplas vezes considerando apenas um atributo preditor.\n",
    "\n",
    "1) O modelo aprendido muda a cada vez que a função fit é utilizada?\n",
    "\n",
    "2) Os modelos finais aprendidos são os mesmos da outra implementação de regressão linear?\n"
   ]
  },
  {
   "cell_type": "code",
   "execution_count": 26,
   "metadata": {},
   "outputs": [],
   "source": [
    "#Tamanho \n",
    "reg_grad_X = SGDRegressor(max_iter=3,alpha=0,warm_start=True) \n",
    "x_tamanho_scaled = xscale(Xsg)"
   ]
  },
  {
   "cell_type": "code",
   "execution_count": 28,
   "metadata": {
    "scrolled": true
   },
   "outputs": [
    {
     "name": "stderr",
     "output_type": "stream",
     "text": [
      "/home/wanabb/miniconda3/lib/python3.7/site-packages/sklearn/linear_model/_stochastic_gradient.py:1187: ConvergenceWarning: Maximum number of iteration reached before convergence. Consider increasing max_iter to improve the fit.\n",
      "  ConvergenceWarning)\n"
     ]
    },
    {
     "data": {
      "text/plain": [
       "Text(0, 0.5, 'Preço')"
      ]
     },
     "execution_count": 28,
     "metadata": {},
     "output_type": "execute_result"
    },
    {
     "data": {
      "image/png": "[encoded data removed]",
      "text/plain": [
       "<Figure size 432x288 with 1 Axes>"
      ]
     },
     "metadata": {
      "needs_background": "light"
     },
     "output_type": "display_data"
    }
   ],
   "source": [
    "reg_grad_X.fit(x_tamanho_scaled,ysg.values.ravel())\n",
    "\n",
    "plt.scatter(x_tamanho_scaled, ysg,color='b')\n",
    "plt.plot(x_tamanho_scaled, reg_grad_X.predict(x_tamanho_scaled),color='r')\n",
    "plt.xlabel('Tamanho (pe2)')\n",
    "plt.ylabel('Preço')"
   ]
  },
  {
   "cell_type": "code",
   "execution_count": 30,
   "metadata": {},
   "outputs": [
    {
     "name": "stderr",
     "output_type": "stream",
     "text": [
      "/home/wanabb/miniconda3/lib/python3.7/site-packages/sklearn/linear_model/_stochastic_gradient.py:1187: ConvergenceWarning: Maximum number of iteration reached before convergence. Consider increasing max_iter to improve the fit.\n",
      "  ConvergenceWarning)\n",
      "/home/wanabb/miniconda3/lib/python3.7/site-packages/sklearn/linear_model/_stochastic_gradient.py:1187: ConvergenceWarning: Maximum number of iteration reached before convergence. Consider increasing max_iter to improve the fit.\n",
      "  ConvergenceWarning)\n",
      "/home/wanabb/miniconda3/lib/python3.7/site-packages/sklearn/linear_model/_stochastic_gradient.py:1187: ConvergenceWarning: Maximum number of iteration reached before convergence. Consider increasing max_iter to improve the fit.\n",
      "  ConvergenceWarning)\n",
      "/home/wanabb/miniconda3/lib/python3.7/site-packages/sklearn/linear_model/_stochastic_gradient.py:1187: ConvergenceWarning: Maximum number of iteration reached before convergence. Consider increasing max_iter to improve the fit.\n",
      "  ConvergenceWarning)\n",
      "/home/wanabb/miniconda3/lib/python3.7/site-packages/sklearn/linear_model/_stochastic_gradient.py:1187: ConvergenceWarning: Maximum number of iteration reached before convergence. Consider increasing max_iter to improve the fit.\n",
      "  ConvergenceWarning)\n",
      "/home/wanabb/miniconda3/lib/python3.7/site-packages/sklearn/linear_model/_stochastic_gradient.py:1187: ConvergenceWarning: Maximum number of iteration reached before convergence. Consider increasing max_iter to improve the fit.\n",
      "  ConvergenceWarning)\n",
      "/home/wanabb/miniconda3/lib/python3.7/site-packages/sklearn/linear_model/_stochastic_gradient.py:1187: ConvergenceWarning: Maximum number of iteration reached before convergence. Consider increasing max_iter to improve the fit.\n",
      "  ConvergenceWarning)\n",
      "/home/wanabb/miniconda3/lib/python3.7/site-packages/sklearn/linear_model/_stochastic_gradient.py:1187: ConvergenceWarning: Maximum number of iteration reached before convergence. Consider increasing max_iter to improve the fit.\n",
      "  ConvergenceWarning)\n",
      "/home/wanabb/miniconda3/lib/python3.7/site-packages/sklearn/linear_model/_stochastic_gradient.py:1187: ConvergenceWarning: Maximum number of iteration reached before convergence. Consider increasing max_iter to improve the fit.\n",
      "  ConvergenceWarning)\n",
      "/home/wanabb/miniconda3/lib/python3.7/site-packages/sklearn/linear_model/_stochastic_gradient.py:1187: ConvergenceWarning: Maximum number of iteration reached before convergence. Consider increasing max_iter to improve the fit.\n",
      "  ConvergenceWarning)\n"
     ]
    },
    {
     "data": {
      "text/plain": [
       "Text(0, 0.5, 'Preço')"
      ]
     },
     "execution_count": 30,
     "metadata": {},
     "output_type": "execute_result"
    },
    {
     "data": {
      "image/png": "[encoded data removed]",
      "text/plain": [
       "<Figure size 432x288 with 1 Axes>"
      ]
     },
     "metadata": {
      "needs_background": "light"
     },
     "output_type": "display_data"
    }
   ],
   "source": [
    "for i in range(10):\n",
    "    reg_grad_X.fit(x_tamanho_scaled,ysg.values.ravel())\n",
    "\n",
    "plt.scatter(Xsg, ysg,color='b')\n",
    "plt.plot(Xsg, reg_grad_X.predict(x_tamanho_scaled),color='r')\n",
    "plt.xlabel('Tamanho (pe2)')\n",
    "plt.ylabel('Preço')"
   ]
  },
  {
   "cell_type": "markdown",
   "metadata": {},
   "source": [
    "# Exercício 4\n",
    "\n",
    "Aprenda modelos utilizando todos os atributos de entrada.\n",
    "\n",
    "1) Baseado no RSS e no R^2, é possível obter um modelo melhor utilizando todos os dados?\n",
    "\n",
    "2) Existem atributos que poderiam ser desconsiderados sem que fosse afetada a precisão?\n",
    "\n",
    "3) Qual implementação treina mais rápido? A com método dos mínimos quadrados ou a com descida de gradiente?\n"
   ]
  },
  {
   "cell_type": "code",
   "execution_count": 31,
   "metadata": {},
   "outputs": [
    {
     "name": "stdout",
     "output_type": "stream",
     "text": [
      "R^2 de acordo com os atributos\n",
      "TV:         0.611875050850071\n",
      "Radio:      0.33203245544529525\n",
      "Newspaper:  0.05212044544430516\n",
      "TV + Rad:   0.8971942610828957\n",
      "TV + News:  0.6458354938293271\n",
      "Rad + News: 0.33270518395032256\n",
      "Todos:      0.8972106381789522\n"
     ]
    }
   ],
   "source": [
    "# LINear Regression\n",
    "X_tv = df_advertising.loc[:,['TV']]\n",
    "X_radio = df_advertising.loc[:,['radio']]\n",
    "X_newspaper = df_advertising.loc[:,['newspaper']]\n",
    "X_tv_radio = df_advertising.loc[:,['TV','radio']]\n",
    "X_tv_newspaper = df_advertising.loc[:,['TV','newspaper']]\n",
    "X_radio_newspaper = df_advertising.loc[:,['radio','newspaper']]\n",
    "X_todos = df_advertising.loc[:,['TV','radio','newspaper']]\n",
    "\n",
    "y_adv = df_advertising.loc[:,['sales']]\n",
    "\n",
    "lin_reg = LinearRegression().fit(X_tv,y_adv)\n",
    "r2_tv = calc_r2(y_adv,lin_reg.predict(X_tv))\n",
    "\n",
    "lin_reg = LinearRegression().fit(X_radio,y_adv)\n",
    "r2_ra = calc_r2(y_adv,lin_reg.predict(X_radio))\n",
    "\n",
    "lin_reg = LinearRegression().fit(X_newspaper,y_adv)\n",
    "r2_ne = calc_r2(y_adv,lin_reg.predict(X_newspaper))\n",
    "\n",
    "lin_reg = LinearRegression().fit(X_tv_radio,y_adv)\n",
    "r2_tv_ra = calc_r2(y_adv,lin_reg.predict(X_tv_radio))\n",
    "\n",
    "lin_reg = LinearRegression().fit(X_tv_newspaper,y_adv)\n",
    "r2_tv_ne = calc_r2(y_adv,lin_reg.predict(X_tv_newspaper))\n",
    "\n",
    "lin_reg = LinearRegression().fit(X_radio_newspaper,y_adv)\n",
    "r2_ra_ne = calc_r2(y_adv,lin_reg.predict(X_radio_newspaper))\n",
    "\n",
    "lin_reg = LinearRegression().fit(X_todos,y_adv)\n",
    "r2_all = calc_r2(y_adv,lin_reg.predict(X_todos))\n",
    "\n",
    "print(\"R^2 de acordo com os atributos\")\n",
    "print(\"TV:         \" + str(r2_tv))\n",
    "print(\"Radio:      \" + str(r2_ra))\n",
    "print(\"Newspaper:  \" + str(r2_ne))\n",
    "print(\"TV + Rad:   \" + str(r2_tv_ra))\n",
    "print(\"TV + News:  \" + str(r2_tv_ne))\n",
    "print(\"Rad + News: \" + str(r2_ra_ne))\n",
    "print(\"Todos:      \" + str(r2_all))\n"
   ]
  },
  {
   "cell_type": "code",
   "execution_count": 32,
   "metadata": {},
   "outputs": [
    {
     "name": "stdout",
     "output_type": "stream",
     "text": [
      "Tempo método mínimos quadrados: 4.605489492416382\n",
      "Tempo descida do gradiente:  17.174680709838867\n"
     ]
    }
   ],
   "source": [
    "import time\n",
    "start_time = time.time()\n",
    "X_todos_scaled = xscale(X_todos)\n",
    "for i in range(5000):\n",
    "    lin_reg = LinearRegression().fit(X_todos,y_adv)\n",
    "print('Tempo método mínimos quadrados:', str(time.time() - start_time))\n",
    "\n",
    "y_rgd = y_adv.values.ravel()\n",
    "start_time2 = time.time()\n",
    "for i in range(5000):\n",
    "    lin_reg = SGDRegressor(alpha=0).fit(X_todos_scaled,y_rgd)\n",
    "\n",
    "print('Tempo descida do gradiente: ', str(time.time() - start_time2))\n",
    "\n"
   ]
  },
  {
   "cell_type": "code",
   "execution_count": null,
   "metadata": {},
   "outputs": [],
   "source": []
  }
 ],
 "metadata": {
  "kernelspec": {
   "display_name": "Python 3",
   "language": "python",
   "name": "python3"
  },
  "language_info": {
   "codemirror_mode": {
    "name": "ipython",
    "version": 3
   },
   "file_extension": ".py",
   "mimetype": "text/x-python",
   "name": "python",
   "nbconvert_exporter": "python",
   "pygments_lexer": "ipython3",
   "version": "3.7.3"
  }
 },
 "nbformat": 4,
 "nbformat_minor": 4
}
