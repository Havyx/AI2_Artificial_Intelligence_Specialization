{
 "cells": [
  {
   "cell_type": "markdown",
   "metadata": {},
   "source": [
    "# Classificação\n",
    "\n",
    "**Wana Batista**"
   ]
  },
  {
   "cell_type": "markdown",
   "metadata": {},
   "source": [
    "### Aprendizagem-estatistica-classificao\n",
    "\n",
    "**Exercício:**\n",
    "\n",
    "Utilize a base SAheart.data\n",
    "\n",
    "A retrospective sample of males in a heart-disease high-risk region of the Western Cape, South Africa. There are roughly two controls per case of CHD. Many of the CHD positive men have undergone blood pressure reduction treatment and other programs to reduce their risk factors after their CHD event. In some cases the measurements were made after these treatments. These data are taken from a larger dataset, described in Rousseauw et al, 1983, South African Medical Journal.\n",
    "\n",
    "    sbp systolic blood pressure\n",
    "    tobacco cumulative tobacco (kg)\n",
    "    ldl low densiity lipoprotein cholesterol\n",
    "    adiposity\n",
    "    famhist family history of heart disease (Present, Absent)\n",
    "    typea type-A behavior\n",
    "    obesity\n",
    "    alcohol current alcohol consumption\n",
    "    age age at onset\n",
    "    chd response, coronary heart disease\n",
    "\n",
    "Implemente um classificador binário (SGD) para identificar a qual grupo (chd) pertence 0 ou 1 Mostre a acurácia , a matriz de confusão de cada classificador, precisão, recall e f1 score"
   ]
  },
  {
   "cell_type": "code",
   "execution_count": 2,
   "metadata": {},
   "outputs": [],
   "source": [
    "\n",
    "import numpy as np \n",
    "import pandas as pd \n",
    "\n",
    "from sklearn import model_selection\n",
    "from sklearn.datasets import load_iris \n",
    "from sklearn.linear_model import SGDClassifier\n",
    "from sklearn.neighbors import KNeighborsClassifier as KNN\n",
    "from sklearn import preprocessing\n",
    "from sklearn.metrics import classification_report\n",
    "from sklearn.metrics import confusion_matrix\n",
    "\n",
    "import pickle \n",
    "import joblib\n",
    "\n",
    "#Exemplo com Knn usando para o dataset iris"
   ]
  },
  {
   "cell_type": "markdown",
   "metadata": {},
   "source": [
    "> O pickle serializa o objeto antes de gravá-lo no arquivo. Eh uma maneira de converter um objeto python (lista, ditado etc.) em um fluxo de caracteres. A idéia é que esse fluxo de caracteres contenha todas as informações necessárias para reconstruir o objeto em outro script python.\n",
    "\n"
   ]
  },
  {
   "cell_type": "code",
   "execution_count": 3,
   "metadata": {},
   "outputs": [
    {
     "name": "stdout",
     "output_type": "stream",
     "text": [
      "[0 0 0 0 0 0 0 0 0 0 0 0 0 0 0 0 0 0 0 0 0 0 0 0 0 0 0 0 0 0 0 0 0 0 0 0 0\n",
      " 0 0 0 0 0 0 0 0 0 0 0 0 0 1 1 1 1 1 1 1 1 1 1 1 1 1 1 1 1 1 1 1 1 1 1 1 1\n",
      " 1 1 1 1 1 1 1 1 1 1 1 1 1 1 1 1 1 1 1 1 1 1 1 1 1 1 2 2 2 2 2 2 2 2 2 2 2\n",
      " 2 2 2 2 2 2 2 2 2 2 2 2 2 2 2 2 2 2 2 2 2 2 2 2 2 2 2 2 2 2 2 2 2 2 2 2 2\n",
      " 2 2]\n"
     ]
    }
   ],
   "source": [
    "#utilizando o dataset iris para terinar um modelo utilizando o KNN,\n",
    "#salvar em um arquivo .pkl recuperar e testar predocao no dataset test\n",
    "iris = load_iris() \n",
    "  \n",
    "X = iris.data \n",
    "y = iris.target \n",
    "print(y)"
   ]
  },
  {
   "cell_type": "code",
   "execution_count": 7,
   "metadata": {},
   "outputs": [
    {
     "name": "stdout",
     "output_type": "stream",
     "text": [
      "[2 1 0 1 1 0 1 1 0 1 2 1 0 2 0 1 2 2 0 0 1 2 1 1 2 2 1 1 2 2 2 1 0 2 1 0 0\n",
      " 0 0 2 2 1 2 2 1]\n",
      "KNeighborsClassifier(algorithm='auto', leaf_size=30, metric='minkowski',\n",
      "                     metric_params=None, n_jobs=None, n_neighbors=3, p=2,\n",
      "                     weights='uniform')\n"
     ]
    }
   ],
   "source": [
    "\n",
    "#Separando o dataset entre treino e teste\n",
    "X_train, X_test, y_train, y_test = model_selection.train_test_split(X, y, test_size = 0.3, \n",
    "                      random_state = 7) \n",
    "\n",
    "#definindo o numero de vizinhos\n",
    "knn = KNN(n_neighbors = 3) \n",
    "\n",
    "# Treinando modelo\n",
    "knn_trained = knn.fit(X_train, y_train) \n",
    "\n",
    "  \n",
    "# convertendo o modelo para uma pickle string. \n",
    "saved_model = pickle.dumps(knn_trained) \n",
    "  \n",
    "\n",
    "#Lendo o modelo convertido em pickle string\n",
    "knn_from_pickle = pickle.loads(saved_model) \n",
    "  \n",
    "# Utilizando o modelo treinado para realizar a predicao\n",
    "print(knn_from_pickle.predict(X_test))\n",
    " \n",
    "# Salvando o modelo em um arquivo pickle(.pkl) \n",
    "joblib.dump(knn_trained, 'filename.pkl') \n",
    "  \n",
    "print(knn_from_pickle)"
   ]
  },
  {
   "cell_type": "code",
   "execution_count": 8,
   "metadata": {},
   "outputs": [
    {
     "name": "stdout",
     "output_type": "stream",
     "text": [
      "accuracy da predicao:\n",
      "\n",
      "0.9333333333333333 \n",
      "\n",
      "labels:\n",
      "[2 1 0 1 1 0 1 1 0 1 2 1 0 2 0 1 2 2 0 0 1 2 1 1 2 2 1 1 2 2 2 1 0 2 1 0 0\n",
      " 0 0 2 2 1 2 2 1]\n"
     ]
    }
   ],
   "source": [
    "# Lendo o modelo treinado a partier do arquivo salvo\n",
    "knn_from_joblib = joblib.load('filename.pkl') \n",
    "\n",
    "# Aplicando a predicao com o modelo lido aa prtir do arquivo\n",
    "knn_from_joblib.predict(X_test) \n",
    "\n",
    "result = knn_from_joblib.score(X_test, y_test)\n",
    "print('accuracy da predicao:\\n')\n",
    "print(result,'\\n')\n",
    "print('labels:')\n",
    "print(knn_from_joblib.predict(X_test))"
   ]
  },
  {
   "cell_type": "code",
   "execution_count": 21,
   "metadata": {},
   "outputs": [
    {
     "data": {
      "text/html": [
       "<div>\n",
       "<style scoped>\n",
       "    .dataframe tbody tr th:only-of-type {\n",
       "        vertical-align: middle;\n",
       "    }\n",
       "\n",
       "    .dataframe tbody tr th {\n",
       "        vertical-align: top;\n",
       "    }\n",
       "\n",
       "    .dataframe thead th {\n",
       "        text-align: right;\n",
       "    }\n",
       "</style>\n",
       "<table border=\"1\" class=\"dataframe\">\n",
       "  <thead>\n",
       "    <tr style=\"text-align: right;\">\n",
       "      <th></th>\n",
       "      <th>sbp</th>\n",
       "      <th>tobacco</th>\n",
       "      <th>ldl</th>\n",
       "      <th>adiposity</th>\n",
       "      <th>famhist</th>\n",
       "      <th>typea</th>\n",
       "      <th>obesity</th>\n",
       "      <th>alcohol</th>\n",
       "      <th>age</th>\n",
       "      <th>chd</th>\n",
       "    </tr>\n",
       "  </thead>\n",
       "  <tbody>\n",
       "    <tr>\n",
       "      <th>1</th>\n",
       "      <td>160</td>\n",
       "      <td>12.00</td>\n",
       "      <td>5.73</td>\n",
       "      <td>23.11</td>\n",
       "      <td>Present</td>\n",
       "      <td>49</td>\n",
       "      <td>25.30</td>\n",
       "      <td>97.20</td>\n",
       "      <td>52</td>\n",
       "      <td>1</td>\n",
       "    </tr>\n",
       "    <tr>\n",
       "      <th>2</th>\n",
       "      <td>144</td>\n",
       "      <td>0.01</td>\n",
       "      <td>4.41</td>\n",
       "      <td>28.61</td>\n",
       "      <td>Absent</td>\n",
       "      <td>55</td>\n",
       "      <td>28.87</td>\n",
       "      <td>2.06</td>\n",
       "      <td>63</td>\n",
       "      <td>1</td>\n",
       "    </tr>\n",
       "    <tr>\n",
       "      <th>3</th>\n",
       "      <td>118</td>\n",
       "      <td>0.08</td>\n",
       "      <td>3.48</td>\n",
       "      <td>32.28</td>\n",
       "      <td>Present</td>\n",
       "      <td>52</td>\n",
       "      <td>29.14</td>\n",
       "      <td>3.81</td>\n",
       "      <td>46</td>\n",
       "      <td>0</td>\n",
       "    </tr>\n",
       "    <tr>\n",
       "      <th>4</th>\n",
       "      <td>170</td>\n",
       "      <td>7.50</td>\n",
       "      <td>6.41</td>\n",
       "      <td>38.03</td>\n",
       "      <td>Present</td>\n",
       "      <td>51</td>\n",
       "      <td>31.99</td>\n",
       "      <td>24.26</td>\n",
       "      <td>58</td>\n",
       "      <td>1</td>\n",
       "    </tr>\n",
       "    <tr>\n",
       "      <th>5</th>\n",
       "      <td>134</td>\n",
       "      <td>13.60</td>\n",
       "      <td>3.50</td>\n",
       "      <td>27.78</td>\n",
       "      <td>Present</td>\n",
       "      <td>60</td>\n",
       "      <td>25.99</td>\n",
       "      <td>57.34</td>\n",
       "      <td>49</td>\n",
       "      <td>1</td>\n",
       "    </tr>\n",
       "  </tbody>\n",
       "</table>\n",
       "</div>"
      ],
      "text/plain": [
       "   sbp  tobacco   ldl  adiposity  famhist  typea  obesity  alcohol  age  chd\n",
       "1  160    12.00  5.73      23.11  Present     49    25.30    97.20   52    1\n",
       "2  144     0.01  4.41      28.61   Absent     55    28.87     2.06   63    1\n",
       "3  118     0.08  3.48      32.28  Present     52    29.14     3.81   46    0\n",
       "4  170     7.50  6.41      38.03  Present     51    31.99    24.26   58    1\n",
       "5  134    13.60  3.50      27.78  Present     60    25.99    57.34   49    1"
      ]
     },
     "metadata": {},
     "output_type": "display_data"
    }
   ],
   "source": [
    "df = pd.read_csv('./dados/dados.csv', sep=',')\n",
    "display(df.head())"
   ]
  },
  {
   "cell_type": "code",
   "execution_count": 22,
   "metadata": {},
   "outputs": [],
   "source": [
    "Xdf = df.drop(['chd'], axis=1)\n",
    "\n",
    "ydf = df['chd']\n",
    "\n",
    "lables_famhist = preprocessing.LabelEncoder()\n",
    "Xdf['famhist'] = lables_famhist.fit_transform(Xdf['famhist'])\n",
    "\n",
    "X_traindf, X_testdf, y_traindf, y_testdf = model_selection.train_test_split(Xdf,ydf, test_size=0.33)"
   ]
  },
  {
   "cell_type": "code",
   "execution_count": 23,
   "metadata": {},
   "outputs": [
    {
     "data": {
      "text/html": [
       "<div>\n",
       "<style scoped>\n",
       "    .dataframe tbody tr th:only-of-type {\n",
       "        vertical-align: middle;\n",
       "    }\n",
       "\n",
       "    .dataframe tbody tr th {\n",
       "        vertical-align: top;\n",
       "    }\n",
       "\n",
       "    .dataframe thead th {\n",
       "        text-align: right;\n",
       "    }\n",
       "</style>\n",
       "<table border=\"1\" class=\"dataframe\">\n",
       "  <thead>\n",
       "    <tr style=\"text-align: right;\">\n",
       "      <th></th>\n",
       "      <th>sbp</th>\n",
       "      <th>tobacco</th>\n",
       "      <th>ldl</th>\n",
       "      <th>adiposity</th>\n",
       "      <th>famhist</th>\n",
       "      <th>typea</th>\n",
       "      <th>obesity</th>\n",
       "      <th>alcohol</th>\n",
       "      <th>age</th>\n",
       "    </tr>\n",
       "  </thead>\n",
       "  <tbody>\n",
       "    <tr>\n",
       "      <th>1</th>\n",
       "      <td>160</td>\n",
       "      <td>12.00</td>\n",
       "      <td>5.73</td>\n",
       "      <td>23.11</td>\n",
       "      <td>1</td>\n",
       "      <td>49</td>\n",
       "      <td>25.30</td>\n",
       "      <td>97.20</td>\n",
       "      <td>52</td>\n",
       "    </tr>\n",
       "    <tr>\n",
       "      <th>2</th>\n",
       "      <td>144</td>\n",
       "      <td>0.01</td>\n",
       "      <td>4.41</td>\n",
       "      <td>28.61</td>\n",
       "      <td>0</td>\n",
       "      <td>55</td>\n",
       "      <td>28.87</td>\n",
       "      <td>2.06</td>\n",
       "      <td>63</td>\n",
       "    </tr>\n",
       "    <tr>\n",
       "      <th>3</th>\n",
       "      <td>118</td>\n",
       "      <td>0.08</td>\n",
       "      <td>3.48</td>\n",
       "      <td>32.28</td>\n",
       "      <td>1</td>\n",
       "      <td>52</td>\n",
       "      <td>29.14</td>\n",
       "      <td>3.81</td>\n",
       "      <td>46</td>\n",
       "    </tr>\n",
       "    <tr>\n",
       "      <th>4</th>\n",
       "      <td>170</td>\n",
       "      <td>7.50</td>\n",
       "      <td>6.41</td>\n",
       "      <td>38.03</td>\n",
       "      <td>1</td>\n",
       "      <td>51</td>\n",
       "      <td>31.99</td>\n",
       "      <td>24.26</td>\n",
       "      <td>58</td>\n",
       "    </tr>\n",
       "    <tr>\n",
       "      <th>5</th>\n",
       "      <td>134</td>\n",
       "      <td>13.60</td>\n",
       "      <td>3.50</td>\n",
       "      <td>27.78</td>\n",
       "      <td>1</td>\n",
       "      <td>60</td>\n",
       "      <td>25.99</td>\n",
       "      <td>57.34</td>\n",
       "      <td>49</td>\n",
       "    </tr>\n",
       "    <tr>\n",
       "      <th>...</th>\n",
       "      <td>...</td>\n",
       "      <td>...</td>\n",
       "      <td>...</td>\n",
       "      <td>...</td>\n",
       "      <td>...</td>\n",
       "      <td>...</td>\n",
       "      <td>...</td>\n",
       "      <td>...</td>\n",
       "      <td>...</td>\n",
       "    </tr>\n",
       "    <tr>\n",
       "      <th>459</th>\n",
       "      <td>214</td>\n",
       "      <td>0.40</td>\n",
       "      <td>5.98</td>\n",
       "      <td>31.72</td>\n",
       "      <td>0</td>\n",
       "      <td>64</td>\n",
       "      <td>28.45</td>\n",
       "      <td>0.00</td>\n",
       "      <td>58</td>\n",
       "    </tr>\n",
       "    <tr>\n",
       "      <th>460</th>\n",
       "      <td>182</td>\n",
       "      <td>4.20</td>\n",
       "      <td>4.41</td>\n",
       "      <td>32.10</td>\n",
       "      <td>0</td>\n",
       "      <td>52</td>\n",
       "      <td>28.61</td>\n",
       "      <td>18.72</td>\n",
       "      <td>52</td>\n",
       "    </tr>\n",
       "    <tr>\n",
       "      <th>461</th>\n",
       "      <td>108</td>\n",
       "      <td>3.00</td>\n",
       "      <td>1.59</td>\n",
       "      <td>15.23</td>\n",
       "      <td>0</td>\n",
       "      <td>40</td>\n",
       "      <td>20.09</td>\n",
       "      <td>26.64</td>\n",
       "      <td>55</td>\n",
       "    </tr>\n",
       "    <tr>\n",
       "      <th>462</th>\n",
       "      <td>118</td>\n",
       "      <td>5.40</td>\n",
       "      <td>11.61</td>\n",
       "      <td>30.79</td>\n",
       "      <td>0</td>\n",
       "      <td>64</td>\n",
       "      <td>27.35</td>\n",
       "      <td>23.97</td>\n",
       "      <td>40</td>\n",
       "    </tr>\n",
       "    <tr>\n",
       "      <th>463</th>\n",
       "      <td>132</td>\n",
       "      <td>0.00</td>\n",
       "      <td>4.82</td>\n",
       "      <td>33.41</td>\n",
       "      <td>1</td>\n",
       "      <td>62</td>\n",
       "      <td>14.70</td>\n",
       "      <td>0.00</td>\n",
       "      <td>46</td>\n",
       "    </tr>\n",
       "  </tbody>\n",
       "</table>\n",
       "<p>462 rows × 9 columns</p>\n",
       "</div>"
      ],
      "text/plain": [
       "     sbp  tobacco    ldl  adiposity  famhist  typea  obesity  alcohol  age\n",
       "1    160    12.00   5.73      23.11        1     49    25.30    97.20   52\n",
       "2    144     0.01   4.41      28.61        0     55    28.87     2.06   63\n",
       "3    118     0.08   3.48      32.28        1     52    29.14     3.81   46\n",
       "4    170     7.50   6.41      38.03        1     51    31.99    24.26   58\n",
       "5    134    13.60   3.50      27.78        1     60    25.99    57.34   49\n",
       "..   ...      ...    ...        ...      ...    ...      ...      ...  ...\n",
       "459  214     0.40   5.98      31.72        0     64    28.45     0.00   58\n",
       "460  182     4.20   4.41      32.10        0     52    28.61    18.72   52\n",
       "461  108     3.00   1.59      15.23        0     40    20.09    26.64   55\n",
       "462  118     5.40  11.61      30.79        0     64    27.35    23.97   40\n",
       "463  132     0.00   4.82      33.41        1     62    14.70     0.00   46\n",
       "\n",
       "[462 rows x 9 columns]"
      ]
     },
     "execution_count": 23,
     "metadata": {},
     "output_type": "execute_result"
    }
   ],
   "source": [
    "Xdf"
   ]
  },
  {
   "cell_type": "code",
   "execution_count": 24,
   "metadata": {},
   "outputs": [
    {
     "data": {
      "text/plain": [
       "317    0\n",
       "384    1\n",
       "48     1\n",
       "381    1\n",
       "100    0\n",
       "      ..\n",
       "276    1\n",
       "49     0\n",
       "105    0\n",
       "160    1\n",
       "294    0\n",
       "Name: chd, Length: 309, dtype: int64"
      ]
     },
     "execution_count": 24,
     "metadata": {},
     "output_type": "execute_result"
    }
   ],
   "source": [
    "y_traindf"
   ]
  },
  {
   "cell_type": "code",
   "execution_count": 25,
   "metadata": {
    "scrolled": true
   },
   "outputs": [
    {
     "data": {
      "text/plain": [
       "SGDClassifier(alpha=0.0001, average=False, class_weight=None,\n",
       "              early_stopping=False, epsilon=0.1, eta0=0.0, fit_intercept=True,\n",
       "              l1_ratio=0.15, learning_rate='optimal', loss='hinge',\n",
       "              max_iter=1000, n_iter_no_change=5, n_jobs=None, penalty='l2',\n",
       "              power_t=0.5, random_state=42, shuffle=True, tol=0.001,\n",
       "              validation_fraction=0.1, verbose=0, warm_start=False)"
      ]
     },
     "execution_count": 25,
     "metadata": {},
     "output_type": "execute_result"
    }
   ],
   "source": [
    "#Treinando modelo\n",
    "sgd_clf = SGDClassifier(random_state=42)\n",
    "sgd_clf.fit(X_traindf, y_traindf)"
   ]
  },
  {
   "cell_type": "markdown",
   "metadata": {},
   "source": [
    "![Matriz Confusao](img/matrix_conf.png)"
   ]
  },
  {
   "cell_type": "code",
   "execution_count": 26,
   "metadata": {},
   "outputs": [
    {
     "name": "stdout",
     "output_type": "stream",
     "text": [
      "[[62 30]\n",
      " [14 47]]\n"
     ]
    }
   ],
   "source": [
    "#fazendo predicao\n",
    "y_preddf = sgd_clf.predict(X_testdf)\n",
    "\n",
    "#matriz confusao\n",
    "matriz_conf = confusion_matrix(y_testdf, y_preddf)\n",
    "\n",
    "print(matriz_conf)"
   ]
  },
  {
   "cell_type": "code",
   "execution_count": 27,
   "metadata": {},
   "outputs": [
    {
     "name": "stdout",
     "output_type": "stream",
     "text": [
      "              precision    recall  f1-score   support\n",
      "\n",
      "           0       0.82      0.67      0.74        92\n",
      "           1       0.61      0.77      0.68        61\n",
      "\n",
      "    accuracy                           0.71       153\n",
      "   macro avg       0.71      0.72      0.71       153\n",
      "weighted avg       0.73      0.71      0.72       153\n",
      "\n"
     ]
    }
   ],
   "source": [
    "print(classification_report(y_testdf, y_preddf))"
   ]
  },
  {
   "cell_type": "code",
   "execution_count": 28,
   "metadata": {},
   "outputs": [
    {
     "name": "stdout",
     "output_type": "stream",
     "text": [
      "0.6811594202898551\n"
     ]
    }
   ],
   "source": [
    "from sklearn.metrics import f1_score\n",
    "\n",
    "print(f1_score(y_testdf, y_preddf))"
   ]
  },
  {
   "cell_type": "code",
   "execution_count": 37,
   "metadata": {},
   "outputs": [
    {
     "name": "stdout",
     "output_type": "stream",
     "text": [
      "[0 1 1 0 0 1 1 0 0 0 1 0 1 0 0 0 1 1 0 0 0 0 0 0 1 0 0 0 0 0 0 0 0 1 0 1 1\n",
      " 0 0 0 0 0 1 1 0 0 0 0 0 0 0 0 0 0 0 0 0 0 1 0 0 0 0 1 0 1 0 0 0 1 0 1 1 0\n",
      " 1 1 0 0 0 1 0 0 0 1 0 0 0 1 0 0 0 1 1 0 0 0 1 0 0 1 0 0 0 0 0 0 1 0 0 0 0\n",
      " 0 1 0 0 0 0 1 0 0 0 0 0 0 0 0 0 0 0 0 0 1 1 0 1 1 0 0 0 1 0 0 0 0 0 1 0 0\n",
      " 0 0 0 1 0]\n",
      "KNeighborsClassifier(algorithm='auto', leaf_size=30, metric='minkowski',\n",
      "                     metric_params=None, n_jobs=None, n_neighbors=3, p=2,\n",
      "                     weights='uniform')\n"
     ]
    }
   ],
   "source": [
    "#Separando o dataset entre treino e teste Para o KNN dataset: dados\n",
    "\n",
    "X_trainknn, X_testknn, y_trainknn, y_testknn = model_selection.train_test_split(Xdf, ydf, test_size = 0.33, \n",
    "                      random_state = 7) \n",
    "\n",
    "#definindo o numero de vizinhos\n",
    "knndf = KNN(n_neighbors = 3) \n",
    "\n",
    "# Treinando modelonsg\n",
    "knn_traineddf = knn.fit(X_trainknn, y_trainknn) \n",
    "\n",
    "  \n",
    "# convertendo o modelo para uma pickle string. \n",
    "saved_modelknn = pickle.dumps(knn_traineddf) \n",
    "  \n",
    "\n",
    "#Lendo o modelo convertido em pickle string\n",
    "knn_from_pickleknn = pickle.loads(saved_modelknn) \n",
    "  \n",
    "# Utilizando o modelo treinado para realizar a predicao\n",
    "print(knn_from_pickleknn.predict(X_testknn))\n",
    " \n",
    "# Salvando o modelo em um arquivo pickle(.pkl) \n",
    "joblib.dump(knn_traineddf, 'filename_dados_knn.pkl') \n",
    "  \n",
    "print(knn_from_pickleknn)"
   ]
  },
  {
   "cell_type": "code",
   "execution_count": 38,
   "metadata": {},
   "outputs": [
    {
     "name": "stdout",
     "output_type": "stream",
     "text": [
      "accuracy da predicao:\n",
      "\n",
      "0.5947712418300654 \n",
      "\n",
      "labels:\n",
      "[0 1 1 0 0 1 1 0 0 0 1 0 1 0 0 0 1 1 0 0 0 0 0 0 1 0 0 0 0 0 0 0 0 1 0 1 1\n",
      " 0 0 0 0 0 1 1 0 0 0 0 0 0 0 0 0 0 0 0 0 0 1 0 0 0 0 1 0 1 0 0 0 1 0 1 1 0\n",
      " 1 1 0 0 0 1 0 0 0 1 0 0 0 1 0 0 0 1 1 0 0 0 1 0 0 1 0 0 0 0 0 0 1 0 0 0 0\n",
      " 0 1 0 0 0 0 1 0 0 0 0 0 0 0 0 0 0 0 0 0 1 1 0 1 1 0 0 0 1 0 0 0 0 0 1 0 0\n",
      " 0 0 0 1 0]\n"
     ]
    }
   ],
   "source": [
    "# Lendo o modelo treinado a partier do arquivo salvo\n",
    "knn_from_joblibdf = joblib.load('filename_dados_knn.pkl') \n",
    "\n",
    "# Aplicando a predicao com o modelo lido aa prtir do arquivo\n",
    "knn_from_joblibdf.predict(X_testknn) \n",
    "\n",
    "result = knn_from_joblibdf.score(X_testknn, y_testknn)\n",
    "print('accuracy da predicao:\\n')\n",
    "print(result,'\\n')\n",
    "print('labels:')\n",
    "print(knn_from_joblibdf.predict(X_testknn))"
   ]
  },
  {
   "cell_type": "code",
   "execution_count": 42,
   "metadata": {},
   "outputs": [
    {
     "name": "stdout",
     "output_type": "stream",
     "text": [
      "[0 1 1 1 1 1 1 1 1 1 1 1 1 1 1 1 1 1 1 1 0 1 0 1 1 1 0 1 1 1 1 1 1 1 1 1 1\n",
      " 0 0 1 1 1 1 1 0 1 1 1 1 1 1 1 0 1 1 1 1 1 1 1 1 0 1 1 1 1 1 1 1 1 1 1 1 1\n",
      " 1 1 1 1 1 1 0 1 1 1 1 1 1 1 1 1 1 1 1 1 1 1 1 1 1 1 1 1 1 1 1 0 1 1 1 1 1\n",
      " 1 1 0 1 1 1 1 1 0 1 1 0 1 0 1 1 1 1 1 1 1 1 0 1 1 1 1 1 1 1 1 1 1 1 1 1 1\n",
      " 1 1 1 1 1]\n",
      "SGDClassifier(alpha=0.0001, average=False, class_weight=None,\n",
      "              early_stopping=False, epsilon=0.1, eta0=0.0, fit_intercept=True,\n",
      "              l1_ratio=0.15, learning_rate='optimal', loss='hinge',\n",
      "              max_iter=1000, n_iter_no_change=5, n_jobs=None, penalty='l2',\n",
      "              power_t=0.5, random_state=42, shuffle=True, tol=0.001,\n",
      "              validation_fraction=0.1, verbose=0, warm_start=False)\n"
     ]
    }
   ],
   "source": [
    "#Separando o dataset entre treino e teste Para o KNN dataset: dados\n",
    "\n",
    "X_trainSG, X_testSG, y_trainSG, y_testSG = model_selection.train_test_split(Xdf, ydf, test_size = 0.33, \n",
    "                      random_state = 7) \n",
    "\n",
    "\n",
    "\n",
    "#Treinando modelo\n",
    "sgd_df = SGDClassifier(random_state=42)\n",
    "SG_trained = sgd_df.fit(X_trainSG, y_trainSG)\n",
    "\n",
    "\n",
    "  \n",
    "# convertendo o modelo para uma pickle string. \n",
    "saved_modelSG = pickle.dumps(SG_trained) \n",
    "  \n",
    "\n",
    "#Lendo o modelo convertido em pickle string\n",
    "SG_from_pickle = pickle.loads(saved_modelSG) \n",
    "  \n",
    "# Utilizando o modelo treinado para realizar a predicao\n",
    "print(SG_from_pickle.predict(X_testSG))\n",
    " \n",
    "# Salvando o modelo em um arquivo pickle(.pkl) \n",
    "joblib.dump(SG_trained, 'filename_dados_SG.pkl') \n",
    "  \n",
    "print(SG_from_pickle)"
   ]
  },
  {
   "cell_type": "code",
   "execution_count": 43,
   "metadata": {},
   "outputs": [
    {
     "name": "stdout",
     "output_type": "stream",
     "text": [
      "accuracy da predicao:\n",
      "\n",
      "0.43790849673202614 \n",
      "\n",
      "labels:\n",
      "[0 1 1 1 1 1 1 1 1 1 1 1 1 1 1 1 1 1 1 1 0 1 0 1 1 1 0 1 1 1 1 1 1 1 1 1 1\n",
      " 0 0 1 1 1 1 1 0 1 1 1 1 1 1 1 0 1 1 1 1 1 1 1 1 0 1 1 1 1 1 1 1 1 1 1 1 1\n",
      " 1 1 1 1 1 1 0 1 1 1 1 1 1 1 1 1 1 1 1 1 1 1 1 1 1 1 1 1 1 1 1 0 1 1 1 1 1\n",
      " 1 1 0 1 1 1 1 1 0 1 1 0 1 0 1 1 1 1 1 1 1 1 0 1 1 1 1 1 1 1 1 1 1 1 1 1 1\n",
      " 1 1 1 1 1]\n"
     ]
    }
   ],
   "source": [
    "# Lendo o modelo treinado a partier do arquivo salvo\n",
    "SG_from_joblibdf = joblib.load('filename_dados_SG.pkl') \n",
    "\n",
    "# Aplicando a predicao com o modelo lido aa prtir do arquivo\n",
    "SG_from_joblibdf.predict(X_testSG) \n",
    "\n",
    "result = SG_from_joblibdf.score(X_testSG, y_testSG)\n",
    "print('accuracy da predicao:\\n')\n",
    "print(result,'\\n')\n",
    "print('labels:')\n",
    "print(SG_from_joblibdf.predict(X_testSG))"
   ]
  },
  {
   "cell_type": "code",
   "execution_count": null,
   "metadata": {},
   "outputs": [],
   "source": []
  }
 ],
 "metadata": {
  "kernelspec": {
   "display_name": "Python 3",
   "language": "python",
   "name": "python3"
  },
  "language_info": {
   "codemirror_mode": {
    "name": "ipython",
    "version": 3
   },
   "file_extension": ".py",
   "mimetype": "text/x-python",
   "name": "python",
   "nbconvert_exporter": "python",
   "pygments_lexer": "ipython3",
   "version": "3.7.3"
  }
 },
 "nbformat": 4,
 "nbformat_minor": 4
}
