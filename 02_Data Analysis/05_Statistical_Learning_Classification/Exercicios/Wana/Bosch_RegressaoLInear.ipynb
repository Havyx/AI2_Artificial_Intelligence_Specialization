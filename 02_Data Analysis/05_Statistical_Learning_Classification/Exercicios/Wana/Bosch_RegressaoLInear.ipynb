{
 "cells": [
  {
   "cell_type": "markdown",
   "metadata": {},
   "source": [
    "# Regressão Linear\n",
    "\n",
    "**Wana Batista**\n",
    "\n",
    "Aplicada aos dados da bosch\n"
   ]
  },
  {
   "cell_type": "code",
   "execution_count": 2,
   "metadata": {},
   "outputs": [],
   "source": [
    "import pandas as pd\n",
    "from sklearn.linear_model import LinearRegression\n",
    "from matplotlib import pyplot as plt\n",
    "from sklearn.preprocessing import MinMaxScaler"
   ]
  },
  {
   "cell_type": "code",
   "execution_count": 3,
   "metadata": {
    "scrolled": true
   },
   "outputs": [
    {
     "data": {
      "text/html": [
       "<div>\n",
       "<style scoped>\n",
       "    .dataframe tbody tr th:only-of-type {\n",
       "        vertical-align: middle;\n",
       "    }\n",
       "\n",
       "    .dataframe tbody tr th {\n",
       "        vertical-align: top;\n",
       "    }\n",
       "\n",
       "    .dataframe thead th {\n",
       "        text-align: right;\n",
       "    }\n",
       "</style>\n",
       "<table border=\"1\" class=\"dataframe\">\n",
       "  <thead>\n",
       "    <tr style=\"text-align: right;\">\n",
       "      <th></th>\n",
       "      <th>PartNumber</th>\n",
       "      <th>nQuebras</th>\n",
       "      <th>Family</th>\n",
       "      <th>Supplier</th>\n",
       "      <th>LargerDiameter</th>\n",
       "      <th>StemDiameter</th>\n",
       "      <th>TotalLength</th>\n",
       "      <th>ChannelLength</th>\n",
       "      <th>MaterialClass</th>\n",
       "      <th>PropellerAngle</th>\n",
       "      <th>Refrigeration</th>\n",
       "    </tr>\n",
       "  </thead>\n",
       "  <tbody>\n",
       "    <tr>\n",
       "      <th>0</th>\n",
       "      <td>4721700050</td>\n",
       "      <td>5</td>\n",
       "      <td>217-RH</td>\n",
       "      <td>3M TECHNICAL CERAMICS ZWEIGNIEDERLA</td>\n",
       "      <td>3.0</td>\n",
       "      <td>3.0</td>\n",
       "      <td>38.0</td>\n",
       "      <td>2.5</td>\n",
       "      <td>Desconhecido</td>\n",
       "      <td>0.0</td>\n",
       "      <td>0</td>\n",
       "    </tr>\n",
       "    <tr>\n",
       "      <th>1</th>\n",
       "      <td>4700101394</td>\n",
       "      <td>26</td>\n",
       "      <td>001-BA</td>\n",
       "      <td>ALLIANCE CNC</td>\n",
       "      <td>10.7</td>\n",
       "      <td>12.0</td>\n",
       "      <td>92.0</td>\n",
       "      <td>50.0</td>\n",
       "      <td>K30/40-UF</td>\n",
       "      <td>30.0</td>\n",
       "      <td>1</td>\n",
       "    </tr>\n",
       "    <tr>\n",
       "      <th>2</th>\n",
       "      <td>4700101395</td>\n",
       "      <td>28</td>\n",
       "      <td>001-BA</td>\n",
       "      <td>ALLIANCE CNC</td>\n",
       "      <td>9.7</td>\n",
       "      <td>10.0</td>\n",
       "      <td>92.0</td>\n",
       "      <td>50.0</td>\n",
       "      <td>K30/40-UF</td>\n",
       "      <td>30.0</td>\n",
       "      <td>1</td>\n",
       "    </tr>\n",
       "    <tr>\n",
       "      <th>3</th>\n",
       "      <td>4700500778</td>\n",
       "      <td>5</td>\n",
       "      <td>005-BG</td>\n",
       "      <td>ALLIANCE CNC</td>\n",
       "      <td>4.0</td>\n",
       "      <td>6.0</td>\n",
       "      <td>58.0</td>\n",
       "      <td>17.0</td>\n",
       "      <td>K30/40-UF</td>\n",
       "      <td>27.0</td>\n",
       "      <td>0</td>\n",
       "    </tr>\n",
       "    <tr>\n",
       "      <th>4</th>\n",
       "      <td>4700700155</td>\n",
       "      <td>9</td>\n",
       "      <td>007-BK</td>\n",
       "      <td>BLICKLE WERKZEUGE GMBH &amp; CO KG</td>\n",
       "      <td>6.0</td>\n",
       "      <td>6.0</td>\n",
       "      <td>66.0</td>\n",
       "      <td>25.0</td>\n",
       "      <td>K30/40-UF</td>\n",
       "      <td>15.0</td>\n",
       "      <td>1</td>\n",
       "    </tr>\n",
       "  </tbody>\n",
       "</table>\n",
       "</div>"
      ],
      "text/plain": [
       "   PartNumber  nQuebras  Family                             Supplier  \\\n",
       "0  4721700050         5  217-RH  3M TECHNICAL CERAMICS ZWEIGNIEDERLA   \n",
       "1  4700101394        26  001-BA                         ALLIANCE CNC   \n",
       "2  4700101395        28  001-BA                         ALLIANCE CNC   \n",
       "3  4700500778         5  005-BG                         ALLIANCE CNC   \n",
       "4  4700700155         9  007-BK       BLICKLE WERKZEUGE GMBH & CO KG   \n",
       "\n",
       "   LargerDiameter  StemDiameter  TotalLength  ChannelLength MaterialClass  \\\n",
       "0             3.0           3.0         38.0            2.5  Desconhecido   \n",
       "1            10.7          12.0         92.0           50.0     K30/40-UF   \n",
       "2             9.7          10.0         92.0           50.0     K30/40-UF   \n",
       "3             4.0           6.0         58.0           17.0     K30/40-UF   \n",
       "4             6.0           6.0         66.0           25.0     K30/40-UF   \n",
       "\n",
       "   PropellerAngle  Refrigeration  \n",
       "0             0.0              0  \n",
       "1            30.0              1  \n",
       "2            30.0              1  \n",
       "3            27.0              0  \n",
       "4            15.0              1  "
      ]
     },
     "execution_count": 3,
     "metadata": {},
     "output_type": "execute_result"
    }
   ],
   "source": [
    "dados_bosch = pd.read_csv('./dados/ToolDataSheetVsNQuebras.csv', sep=';')\n",
    "dados_bosch = dados_bosch[dados_bosch.PropellerAngle <= 360] #remove os demais dados incorretos\n",
    "dados_bosch.head()"
   ]
  },
  {
   "cell_type": "code",
   "execution_count": 4,
   "metadata": {},
   "outputs": [
    {
     "name": "stdout",
     "output_type": "stream",
     "text": [
      "['Desconhecido' 'K30/40-UF' 'S20' 'K15' 'Na' 'HSS' 'K20-F' 'K05-UF'\n",
      " 'K10-F' 'K30/K40-UF' nan 'K30-40/UF' 'K30-40UF' 'HSS-Co' 'k30/40-UF'\n",
      " 'K05/15-UF' 'HSS-E' 'K30/40' 'S20/B' 'K15/K20']\n"
     ]
    },
    {
     "data": {
      "text/plain": [
       "count           218\n",
       "unique           19\n",
       "top       K30/40-UF\n",
       "freq            131\n",
       "Name: MaterialClass, dtype: object"
      ]
     },
     "execution_count": 4,
     "metadata": {},
     "output_type": "execute_result"
    }
   ],
   "source": [
    "dun = dados_bosch['MaterialClass'].unique()\n",
    "print(dun)\n",
    "dados_bosch.loc[dados_bosch['MaterialClass']=='Desconhecido'].count()\n",
    "dados_bosch['MaterialClass'].describe()"
   ]
  },
  {
   "cell_type": "code",
   "execution_count": 5,
   "metadata": {
    "scrolled": true
   },
   "outputs": [
    {
     "data": {
      "text/html": [
       "<div>\n",
       "<style scoped>\n",
       "    .dataframe tbody tr th:only-of-type {\n",
       "        vertical-align: middle;\n",
       "    }\n",
       "\n",
       "    .dataframe tbody tr th {\n",
       "        vertical-align: top;\n",
       "    }\n",
       "\n",
       "    .dataframe thead th {\n",
       "        text-align: right;\n",
       "    }\n",
       "</style>\n",
       "<table border=\"1\" class=\"dataframe\">\n",
       "  <thead>\n",
       "    <tr style=\"text-align: right;\">\n",
       "      <th></th>\n",
       "      <th>PartNumber</th>\n",
       "      <th>nQuebras</th>\n",
       "      <th>Family</th>\n",
       "      <th>Supplier</th>\n",
       "      <th>LargerDiameter</th>\n",
       "      <th>StemDiameter</th>\n",
       "      <th>TotalLength</th>\n",
       "      <th>ChannelLength</th>\n",
       "      <th>MaterialClass</th>\n",
       "      <th>PropellerAngle</th>\n",
       "      <th>Refrigeration</th>\n",
       "    </tr>\n",
       "  </thead>\n",
       "  <tbody>\n",
       "    <tr>\n",
       "      <th>0</th>\n",
       "      <td>4721700050</td>\n",
       "      <td>5</td>\n",
       "      <td>217-RH</td>\n",
       "      <td>3M TECHNICAL CERAMICS ZWEIGNIEDERLA</td>\n",
       "      <td>3.0</td>\n",
       "      <td>3.0</td>\n",
       "      <td>38.0</td>\n",
       "      <td>2.5</td>\n",
       "      <td>0</td>\n",
       "      <td>0.0</td>\n",
       "      <td>0</td>\n",
       "    </tr>\n",
       "    <tr>\n",
       "      <th>1</th>\n",
       "      <td>4700101394</td>\n",
       "      <td>26</td>\n",
       "      <td>001-BA</td>\n",
       "      <td>ALLIANCE CNC</td>\n",
       "      <td>10.7</td>\n",
       "      <td>12.0</td>\n",
       "      <td>92.0</td>\n",
       "      <td>50.0</td>\n",
       "      <td>1</td>\n",
       "      <td>30.0</td>\n",
       "      <td>1</td>\n",
       "    </tr>\n",
       "    <tr>\n",
       "      <th>2</th>\n",
       "      <td>4700101395</td>\n",
       "      <td>28</td>\n",
       "      <td>001-BA</td>\n",
       "      <td>ALLIANCE CNC</td>\n",
       "      <td>9.7</td>\n",
       "      <td>10.0</td>\n",
       "      <td>92.0</td>\n",
       "      <td>50.0</td>\n",
       "      <td>1</td>\n",
       "      <td>30.0</td>\n",
       "      <td>1</td>\n",
       "    </tr>\n",
       "    <tr>\n",
       "      <th>3</th>\n",
       "      <td>4700500778</td>\n",
       "      <td>5</td>\n",
       "      <td>005-BG</td>\n",
       "      <td>ALLIANCE CNC</td>\n",
       "      <td>4.0</td>\n",
       "      <td>6.0</td>\n",
       "      <td>58.0</td>\n",
       "      <td>17.0</td>\n",
       "      <td>1</td>\n",
       "      <td>27.0</td>\n",
       "      <td>0</td>\n",
       "    </tr>\n",
       "    <tr>\n",
       "      <th>4</th>\n",
       "      <td>4700700155</td>\n",
       "      <td>9</td>\n",
       "      <td>007-BK</td>\n",
       "      <td>BLICKLE WERKZEUGE GMBH &amp; CO KG</td>\n",
       "      <td>6.0</td>\n",
       "      <td>6.0</td>\n",
       "      <td>66.0</td>\n",
       "      <td>25.0</td>\n",
       "      <td>1</td>\n",
       "      <td>15.0</td>\n",
       "      <td>1</td>\n",
       "    </tr>\n",
       "  </tbody>\n",
       "</table>\n",
       "</div>"
      ],
      "text/plain": [
       "   PartNumber  nQuebras  Family                             Supplier  \\\n",
       "0  4721700050         5  217-RH  3M TECHNICAL CERAMICS ZWEIGNIEDERLA   \n",
       "1  4700101394        26  001-BA                         ALLIANCE CNC   \n",
       "2  4700101395        28  001-BA                         ALLIANCE CNC   \n",
       "3  4700500778         5  005-BG                         ALLIANCE CNC   \n",
       "4  4700700155         9  007-BK       BLICKLE WERKZEUGE GMBH & CO KG   \n",
       "\n",
       "   LargerDiameter  StemDiameter  TotalLength  ChannelLength  MaterialClass  \\\n",
       "0             3.0           3.0         38.0            2.5              0   \n",
       "1            10.7          12.0         92.0           50.0              1   \n",
       "2             9.7          10.0         92.0           50.0              1   \n",
       "3             4.0           6.0         58.0           17.0              1   \n",
       "4             6.0           6.0         66.0           25.0              1   \n",
       "\n",
       "   PropellerAngle  Refrigeration  \n",
       "0             0.0              0  \n",
       "1            30.0              1  \n",
       "2            30.0              1  \n",
       "3            27.0              0  \n",
       "4            15.0              1  "
      ]
     },
     "execution_count": 5,
     "metadata": {},
     "output_type": "execute_result"
    }
   ],
   "source": [
    "dados_bosch['MaterialClass']=pd.factorize(dados_bosch['MaterialClass'])[0]#df.columns.astype('category').cat.codes\n",
    "dados_bosch.head()"
   ]
  },
  {
   "cell_type": "code",
   "execution_count": 6,
   "metadata": {},
   "outputs": [
    {
     "name": "stdout",
     "output_type": "stream",
     "text": [
      "219 219\n"
     ]
    },
    {
     "data": {
      "text/plain": [
       "Text(0, 0.5, 'nQuebras')"
      ]
     },
     "execution_count": 6,
     "metadata": {},
     "output_type": "execute_result"
    },
    {
     "data": {
      "image/png": "[encoded data removed]",
      "text/plain": [
       "<Figure size 432x288 with 1 Axes>"
      ]
     },
     "metadata": {
      "needs_background": "light"
     },
     "output_type": "display_data"
    }
   ],
   "source": [
    "X = dados_bosch.loc[:, ['MaterialClass']]\n",
    "y = dados_bosch.loc[:, ['nQuebras']]\n",
    "print(len(X), len(y))\n",
    "regmodel = LinearRegression().fit(X,y)\n",
    "regmodel\n",
    "\n",
    "#plotting result\n",
    "\n",
    "plt.scatter(X,y, color='b')\n",
    "plt.plot(X, regmodel.predict(X), color='r')\n",
    "plt.xlabel('MaterialClass')\n",
    "plt.ylabel('nQuebras')"
   ]
  },
  {
   "cell_type": "code",
   "execution_count": 7,
   "metadata": {},
   "outputs": [
    {
     "data": {
      "text/plain": [
       "Text(0, 0.5, 'nQuebras')"
      ]
     },
     "execution_count": 7,
     "metadata": {},
     "output_type": "execute_result"
    },
    {
     "data": {
      "image/png": "[encoded data removed]",
      "text/plain": [
       "<Figure size 432x288 with 1 Axes>"
      ]
     },
     "metadata": {
      "needs_background": "light"
     },
     "output_type": "display_data"
    }
   ],
   "source": [
    "X0 = dados_bosch.loc[:, ['LargerDiameter']]\n",
    "\n",
    "\n",
    "regmodel0 = LinearRegression().fit(X0,y)\n",
    "\n",
    "#plotting result\n",
    "plt.scatter(X0,y, color='b')\n",
    "plt.plot(X0, regmodel0.predict(X0), color='r')\n",
    "plt.xlabel('LargerDiameter')\n",
    "plt.ylabel('nQuebras')"
   ]
  },
  {
   "cell_type": "code",
   "execution_count": 8,
   "metadata": {},
   "outputs": [
    {
     "data": {
      "text/plain": [
       "Text(0, 0.5, 'nQuebras')"
      ]
     },
     "execution_count": 8,
     "metadata": {},
     "output_type": "execute_result"
    },
    {
     "data": {
      "image/png": "[encoded data removed]",
      "text/plain": [
       "<Figure size 432x288 with 1 Axes>"
      ]
     },
     "metadata": {
      "needs_background": "light"
     },
     "output_type": "display_data"
    }
   ],
   "source": [
    "X1 = dados_bosch.loc[:, ['StemDiameter']]\n",
    "\n",
    "regmodel1 = LinearRegression().fit(X1,y)\n",
    "\n",
    "#plotting result\n",
    "\n",
    "plt.scatter(X1,y, color='b')\n",
    "plt.plot(X1, regmodel1.predict(X1), color='r')\n",
    "plt.xlabel('StemDiameter')\n",
    "plt.ylabel('nQuebras')"
   ]
  },
  {
   "cell_type": "code",
   "execution_count": 9,
   "metadata": {},
   "outputs": [
    {
     "data": {
      "text/plain": [
       "Text(0, 0.5, 'nQuebras')"
      ]
     },
     "execution_count": 9,
     "metadata": {},
     "output_type": "execute_result"
    },
    {
     "data": {
      "image/png": "[encoded data removed]",
      "text/plain": [
       "<Figure size 432x288 with 1 Axes>"
      ]
     },
     "metadata": {
      "needs_background": "light"
     },
     "output_type": "display_data"
    }
   ],
   "source": [
    "X2 = dados_bosch.loc[:, ['TotalLength']]\n",
    "\n",
    "regmodel2 = LinearRegression().fit(X2,y)\n",
    "\n",
    "#plotting result\n",
    "\n",
    "plt.scatter(X2,y, color='b')\n",
    "plt.plot(X2, regmodel2.predict(X2), color='r')\n",
    "plt.xlabel('TotalLength')\n",
    "plt.ylabel('nQuebras')"
   ]
  },
  {
   "cell_type": "code",
   "execution_count": 10,
   "metadata": {},
   "outputs": [],
   "source": [
    "def xscale(X):\n",
    "    scaler = MinMaxScaler()\n",
    "    scaler.fit(X)\n",
    "    X_scaled = scaler.transform(X)\n",
    "    return  X_scaled"
   ]
  },
  {
   "cell_type": "code",
   "execution_count": 11,
   "metadata": {},
   "outputs": [
    {
     "data": {
      "text/plain": [
       "LinearRegression(copy_X=True, fit_intercept=True, n_jobs=None, normalize=False)"
      ]
     },
     "execution_count": 11,
     "metadata": {},
     "output_type": "execute_result"
    }
   ],
   "source": [
    "#Nomarlizando os dados\n",
    "X_scaled = xscale(X)\n",
    "regmodel = LinearRegression().fit(X_scaled,y)\n",
    "regmodel"
   ]
  },
  {
   "cell_type": "code",
   "execution_count": 12,
   "metadata": {},
   "outputs": [
    {
     "data": {
      "text/plain": [
       "Text(0, 0.5, 'nQuebras')"
      ]
     },
     "execution_count": 12,
     "metadata": {},
     "output_type": "execute_result"
    },
    {
     "data": {
      "image/png": "[encoded data removed]",
      "text/plain": [
       "<Figure size 432x288 with 1 Axes>"
      ]
     },
     "metadata": {
      "needs_background": "light"
     },
     "output_type": "display_data"
    }
   ],
   "source": [
    "#plotting result\n",
    "plt.scatter(X,y, color='b')\n",
    "plt.plot(X, regmodel.predict(X_scaled), color='r')\n",
    "plt.xlabel('MaterialClass')\n",
    "plt.ylabel('nQuebras')"
   ]
  },
  {
   "cell_type": "code",
   "execution_count": 13,
   "metadata": {},
   "outputs": [
    {
     "data": {
      "text/plain": [
       "array([[ 54.77887846],\n",
       "       [ 22.0562324 ],\n",
       "       [ 22.0562324 ],\n",
       "       [ 22.0562324 ],\n",
       "       [ 22.0562324 ],\n",
       "       [ 54.77887846],\n",
       "       [-10.66641366],\n",
       "       [-10.66641366],\n",
       "       [-10.66641366],\n",
       "       [-10.66641366]])"
      ]
     },
     "execution_count": 13,
     "metadata": {},
     "output_type": "execute_result"
    }
   ],
   "source": [
    "test = regmodel.predict(X[0:10])\n",
    "test"
   ]
  },
  {
   "cell_type": "code",
   "execution_count": 14,
   "metadata": {},
   "outputs": [],
   "source": [
    "from sklearn.metrics import r2_score\n",
    "\n",
    "def calc_rss(y, predicted):\n",
    "    return float(((predicted-y)**2).sum())\n",
    "\n",
    "def calc_r2(y, predicted):\n",
    "    return r2_score(y, predicted)"
   ]
  },
  {
   "cell_type": "code",
   "execution_count": 15,
   "metadata": {},
   "outputs": [],
   "source": [
    "X_LeE = dados_bosch.loc[:,['LargerDiameter', 'StemDiameter']]\n",
    "X_LEeTl = dados_bosch.loc[:,['LargerDiameter', 'StemDiameter','TotalLength' ]]"
   ]
  },
  {
   "cell_type": "code",
   "execution_count": 16,
   "metadata": {},
   "outputs": [
    {
     "name": "stdout",
     "output_type": "stream",
     "text": [
      "R^2 de acordo com os atributos -- NOT:\n",
      "Not scaled-LargerDiameter + StemDiameter:  0.001602729600898689\n",
      "Not scaled-LargerDiameter + StemDiameter:  0.059766287228487425\n"
     ]
    }
   ],
   "source": [
    "#not scaled\n",
    "\n",
    "lin_reg_not = LinearRegression().fit(X_LeE,y)\n",
    "r2_X_LeE_not = calc_r2(y,lin_reg_not.predict(X_LeE))\n",
    "\n",
    "\n",
    "lin_reg_not2 = LinearRegression().fit(X_LEeTl,y)\n",
    "r2_X_LEeTl_not = calc_r2(y,lin_reg_not2.predict(X_LEeTl))\n",
    "\n",
    "\n",
    "print(\"R^2 de acordo com os atributos -- NOT:\")\n",
    "print(\"Not scaled-LargerDiameter + StemDiameter:  \" + str(r2_X_LeE_not))\n",
    "print(\"Not scaled-LargerDiameter + StemDiameter:  \" + str(r2_X_LEeTl_not))"
   ]
  },
  {
   "cell_type": "code",
   "execution_count": null,
   "metadata": {},
   "outputs": [],
   "source": []
  }
 ],
 "metadata": {
  "kernelspec": {
   "display_name": "Python 3",
   "language": "python",
   "name": "python3"
  },
  "language_info": {
   "codemirror_mode": {
    "name": "ipython",
    "version": 3
   },
   "file_extension": ".py",
   "mimetype": "text/x-python",
   "name": "python",
   "nbconvert_exporter": "python",
   "pygments_lexer": "ipython3",
   "version": "3.7.3"
  }
 },
 "nbformat": 4,
 "nbformat_minor": 4
}
