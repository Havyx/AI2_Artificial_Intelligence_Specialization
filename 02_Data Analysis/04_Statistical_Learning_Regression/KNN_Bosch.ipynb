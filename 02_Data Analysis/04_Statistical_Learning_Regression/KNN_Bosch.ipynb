{
 "cells": [
  {
   "cell_type": "code",
   "execution_count": 42,
   "metadata": {},
   "outputs": [
    {
     "data": {
      "text/html": [
       "<div>\n",
       "<style scoped>\n",
       "    .dataframe tbody tr th:only-of-type {\n",
       "        vertical-align: middle;\n",
       "    }\n",
       "\n",
       "    .dataframe tbody tr th {\n",
       "        vertical-align: top;\n",
       "    }\n",
       "\n",
       "    .dataframe thead th {\n",
       "        text-align: right;\n",
       "    }\n",
       "</style>\n",
       "<table border=\"1\" class=\"dataframe\">\n",
       "  <thead>\n",
       "    <tr style=\"text-align: right;\">\n",
       "      <th></th>\n",
       "      <th>PartNumber</th>\n",
       "      <th>nQuebras</th>\n",
       "      <th>Family</th>\n",
       "      <th>Supplier</th>\n",
       "      <th>LargerDiameter</th>\n",
       "      <th>StemDiameter</th>\n",
       "      <th>TotalLength</th>\n",
       "      <th>ChannelLength</th>\n",
       "      <th>MaterialClass</th>\n",
       "      <th>PropellerAngle</th>\n",
       "      <th>Refrigeration</th>\n",
       "    </tr>\n",
       "  </thead>\n",
       "  <tbody>\n",
       "    <tr>\n",
       "      <th>0</th>\n",
       "      <td>4721700050</td>\n",
       "      <td>5</td>\n",
       "      <td>217-RH</td>\n",
       "      <td>3M TECHNICAL CERAMICS ZWEIGNIEDERLA</td>\n",
       "      <td>3.0</td>\n",
       "      <td>3.0</td>\n",
       "      <td>38.0</td>\n",
       "      <td>2.5</td>\n",
       "      <td>Desconhecido</td>\n",
       "      <td>0.0</td>\n",
       "      <td>0</td>\n",
       "    </tr>\n",
       "    <tr>\n",
       "      <th>1</th>\n",
       "      <td>4700101394</td>\n",
       "      <td>26</td>\n",
       "      <td>001-BA</td>\n",
       "      <td>ALLIANCE CNC</td>\n",
       "      <td>10.7</td>\n",
       "      <td>12.0</td>\n",
       "      <td>92.0</td>\n",
       "      <td>50.0</td>\n",
       "      <td>K30/40-UF</td>\n",
       "      <td>30.0</td>\n",
       "      <td>1</td>\n",
       "    </tr>\n",
       "    <tr>\n",
       "      <th>2</th>\n",
       "      <td>4700101395</td>\n",
       "      <td>28</td>\n",
       "      <td>001-BA</td>\n",
       "      <td>ALLIANCE CNC</td>\n",
       "      <td>9.7</td>\n",
       "      <td>10.0</td>\n",
       "      <td>92.0</td>\n",
       "      <td>50.0</td>\n",
       "      <td>K30/40-UF</td>\n",
       "      <td>30.0</td>\n",
       "      <td>1</td>\n",
       "    </tr>\n",
       "    <tr>\n",
       "      <th>3</th>\n",
       "      <td>4700500778</td>\n",
       "      <td>5</td>\n",
       "      <td>005-BG</td>\n",
       "      <td>ALLIANCE CNC</td>\n",
       "      <td>4.0</td>\n",
       "      <td>6.0</td>\n",
       "      <td>58.0</td>\n",
       "      <td>17.0</td>\n",
       "      <td>K30/40-UF</td>\n",
       "      <td>27.0</td>\n",
       "      <td>0</td>\n",
       "    </tr>\n",
       "    <tr>\n",
       "      <th>4</th>\n",
       "      <td>4700700155</td>\n",
       "      <td>9</td>\n",
       "      <td>007-BK</td>\n",
       "      <td>BLICKLE WERKZEUGE GMBH &amp; CO KG</td>\n",
       "      <td>6.0</td>\n",
       "      <td>6.0</td>\n",
       "      <td>66.0</td>\n",
       "      <td>25.0</td>\n",
       "      <td>K30/40-UF</td>\n",
       "      <td>15.0</td>\n",
       "      <td>1</td>\n",
       "    </tr>\n",
       "  </tbody>\n",
       "</table>\n",
       "</div>"
      ],
      "text/plain": [
       "   PartNumber  nQuebras  Family                             Supplier  \\\n",
       "0  4721700050         5  217-RH  3M TECHNICAL CERAMICS ZWEIGNIEDERLA   \n",
       "1  4700101394        26  001-BA                         ALLIANCE CNC   \n",
       "2  4700101395        28  001-BA                         ALLIANCE CNC   \n",
       "3  4700500778         5  005-BG                         ALLIANCE CNC   \n",
       "4  4700700155         9  007-BK       BLICKLE WERKZEUGE GMBH & CO KG   \n",
       "\n",
       "   LargerDiameter  StemDiameter  TotalLength  ChannelLength MaterialClass  \\\n",
       "0             3.0           3.0         38.0            2.5  Desconhecido   \n",
       "1            10.7          12.0         92.0           50.0     K30/40-UF   \n",
       "2             9.7          10.0         92.0           50.0     K30/40-UF   \n",
       "3             4.0           6.0         58.0           17.0     K30/40-UF   \n",
       "4             6.0           6.0         66.0           25.0     K30/40-UF   \n",
       "\n",
       "   PropellerAngle  Refrigeration  \n",
       "0             0.0              0  \n",
       "1            30.0              1  \n",
       "2            30.0              1  \n",
       "3            27.0              0  \n",
       "4            15.0              1  "
      ]
     },
     "execution_count": 42,
     "metadata": {},
     "output_type": "execute_result"
    }
   ],
   "source": [
    "import pandas as pd\n",
    "import numpy as np\n",
    "df_bosch = pd.read_csv('ToolDataSheetVsNQuebras.csv', sep=\";\")\n",
    "df_bosch.head()"
   ]
  },
  {
   "cell_type": "code",
   "execution_count": 56,
   "metadata": {},
   "outputs": [
    {
     "data": {
      "text/plain": [
       "array([  5,  26,  28,   9,   4,  21,  92, 142, 253,  18, 124,  40,  25,\n",
       "        10, 106,   8,  23,  16,  68,   2,  34,   6,  69,   1,   3,  56,\n",
       "        83,  14, 121,  22, 173,  60,  51,  20,  98, 189,  27,  54,  52,\n",
       "        15,  48,  42,   7,  17, 139,  43,  47,  32,  29,  55,  39,  44,\n",
       "        67,  30,  35,  11,  94,  70,  87,  59,  12,  13,  37,  31, 267,\n",
       "        38, 167, 108, 457, 146,  71, 394, 277, 574, 144, 256, 315,  91,\n",
       "        41, 419, 497, 161, 177, 202], dtype=int64)"
      ]
     },
     "execution_count": 56,
     "metadata": {},
     "output_type": "execute_result"
    }
   ],
   "source": [
    "df_bosch.nQuebras.unique()"
   ]
  },
  {
   "cell_type": "code",
   "execution_count": 43,
   "metadata": {},
   "outputs": [
    {
     "data": {
      "text/plain": [
       "(220, 11)"
      ]
     },
     "execution_count": 43,
     "metadata": {},
     "output_type": "execute_result"
    }
   ],
   "source": [
    "df_bosch.shape"
   ]
  },
  {
   "cell_type": "code",
   "execution_count": 51,
   "metadata": {},
   "outputs": [
    {
     "data": {
      "text/plain": [
       "Index(['PartNumber', 'nQuebras', 'LargerDiameter', 'StemDiameter',\n",
       "       'TotalLength', 'ChannelLength', 'PropellerAngle', 'Refrigeration',\n",
       "       'Supplier__3M TECHNICAL CERAMICS ZWEIGNIEDERLA',\n",
       "       'Supplier__ALLIANCE CNC', 'Supplier__BLICKLE WERKZEUGE GMBH & CO KG',\n",
       "       'Supplier__BOTEK-PRAEZISIONS-BOHRTECHNIK',\n",
       "       'Supplier__FERRAMENTAS GERAIS COMERCIO E',\n",
       "       'Supplier__FERRAMENTAS NIPOTEC IND.E', 'Supplier__FORM TOOL TECHNOLOGY',\n",
       "       'Supplier__FORM TOOL TECHNOLOGY, INC.',\n",
       "       'Supplier__FULLERTON TOOL COMPANY INC.',\n",
       "       'Supplier__GUHRING BRASIL FERR.LTDA', 'Supplier__GUHRING OHG',\n",
       "       'Supplier__HARTMETALLWERKZEUGFABRIK ANDREAS',\n",
       "       'Supplier__ISCAR DO BRASIL COMERCIAL LTDA',\n",
       "       'Supplier__KOMET GROUP GMBH',\n",
       "       'Supplier__LMT TOOLS BRASIL FERRAMENTAS LTDA.',\n",
       "       'Supplier__MIKRON CORP. MONROE', 'Supplier__NÃO ATRIBUÍDO',\n",
       "       'Supplier__OSBORN INTERNATIONAL GMBH ZN DER JA',\n",
       "       'Supplier__OSTREM TOOL COMPANY',\n",
       "       'Supplier__ROBERT BOSCH - TOOLING CENTER',\n",
       "       'Supplier__SANDVIK DO BRASIL S/A',\n",
       "       'Supplier__STARTEC INDUSTRIA E COMERCIO LTDA E',\n",
       "       'Supplier__SUMITOMO ELECTRIC HARDMETAL DO BRAS',\n",
       "       'Supplier__SUMITOMO ELECTR¡C HARTMETALL GMBH',\n",
       "       'Supplier__SUMITOMO ELETRIC HARTMETTAL GMBH',\n",
       "       'Supplier__TBT.TIEFBOHRTECHNIK GMBH',\n",
       "       'Supplier__TECNAL FERRAMENTARIA LTDA',\n",
       "       'Supplier__WALTER DO BRASIL LTDA.', 'Supplier__WEISSKOPF WEKZEUGE GMBH',\n",
       "       'Supplier__WERKZEUGFABRIK MANFRED SCHWEGLER',\n",
       "       'Supplier__WOLF WERKZEUGTECHNOLOGIE GMBH', 'family_000-AM',\n",
       "       'family_001-BA', 'family_004-BF', 'family_005-BG', 'family_007-BK',\n",
       "       'family_008-BN', 'family_009-BP', 'family_011-BR', 'family_012-BS',\n",
       "       'family_018-BY', 'family_061-FC', 'family_063-FG', 'family_080-GC',\n",
       "       'family_088-GL', 'family_092-GP', 'family_198-PG', 'family_210-RA',\n",
       "       'family_212-RC', 'family_217-RH', 'family_219-RK', 'Desconhecido',\n",
       "       'HSS', 'HSS-Co', 'HSS-E', 'K05-UF', 'K05/15-UF', 'K10-F', 'K15',\n",
       "       'K15/K20', 'K20-F', 'K30-40/UF', 'K30-40UF', 'K30/40', 'K30/40-UF',\n",
       "       'K30/K40-UF', 'Na', 'S20', 'S20/B', 'k30/40-UF', 'label2'],\n",
       "      dtype='object')"
      ]
     },
     "execution_count": 51,
     "metadata": {},
     "output_type": "execute_result"
    }
   ],
   "source": [
    "df_tratado = pd.concat([df_bosch, pd.get_dummies(df_bosch.Supplier, prefix='Supplier_')], axis=1)\n",
    "df_tratado.drop('Supplier', axis=1, inplace=True)\n",
    "df_tratado = pd.concat([df_tratado, pd.get_dummies(df_tratado.Family, prefix='family')], axis=1)\n",
    "df_tratado.drop('Family', axis=1, inplace=True)\n",
    "df_tratado = pd.concat([df_tratado, pd.get_dummies(df_tratado.MaterialClass)], axis=1)\n",
    "df_tratado.drop('MaterialClass', axis=1, inplace=True)\n",
    "nQuebras15 = 15\n",
    "nQuebras45 = 45\n",
    "df_tratado['label1'] = np.where(df_tratado['nQuebras'] <= nQuebras45, 1, 0 )\n",
    "df_tratado['label2'] = df_tratado['label1']\n",
    "df_tratado.loc[df_tratado['nQuebras'] <= nQuebras15, 'label2'] = 2\n",
    "df_tratado.drop('label1', inplace=True, axis=1)\n",
    "df_tratado.rename(columns={'label2':'faixa_de_quebras'}, inplace=True)\n",
    "df_tratado.columns"
   ]
  },
  {
   "cell_type": "code",
   "execution_count": 52,
   "metadata": {},
   "outputs": [],
   "source": [
    "def scale(df):\n",
    "    return (df - df.min())/(df.max()-df.min())\n",
    "\n",
    "for col in df_tratado.columns:\n",
    "    if col == 'LargerDiameter':\n",
    "        df_tratado[col] = scale(df_tratado[col])\n",
    "    if col == 'StemDiameter':\n",
    "        df_tratado[col] = scale(df_tratado[col])\n",
    "    if col == 'TotalLength':\n",
    "        df_tratado[col] = scale(df_tratado[col])\n",
    "    if col == 'ChannelLength':\n",
    "        df_tratado[col] = scale(df_tratado[col])\n",
    "    if col == 'PropellerAngle':\n",
    "        df_tratado[col] = scale(df_tratado[col])\n",
    "    if col == 'LargerDiameter':\n",
    "        df_tratado[col] = scale(df_tratado[col])"
   ]
  },
  {
   "cell_type": "code",
   "execution_count": 58,
   "metadata": {},
   "outputs": [
    {
     "data": {
      "text/html": [
       "<div>\n",
       "<style scoped>\n",
       "    .dataframe tbody tr th:only-of-type {\n",
       "        vertical-align: middle;\n",
       "    }\n",
       "\n",
       "    .dataframe tbody tr th {\n",
       "        vertical-align: top;\n",
       "    }\n",
       "\n",
       "    .dataframe thead th {\n",
       "        text-align: right;\n",
       "    }\n",
       "</style>\n",
       "<table border=\"1\" class=\"dataframe\">\n",
       "  <thead>\n",
       "    <tr style=\"text-align: right;\">\n",
       "      <th></th>\n",
       "      <th>PartNumber</th>\n",
       "      <th>nQuebras</th>\n",
       "      <th>LargerDiameter</th>\n",
       "      <th>StemDiameter</th>\n",
       "      <th>TotalLength</th>\n",
       "      <th>ChannelLength</th>\n",
       "      <th>PropellerAngle</th>\n",
       "      <th>Refrigeration</th>\n",
       "      <th>Supplier__3M TECHNICAL CERAMICS ZWEIGNIEDERLA</th>\n",
       "      <th>Supplier__ALLIANCE CNC</th>\n",
       "      <th>...</th>\n",
       "      <th>K30-40/UF</th>\n",
       "      <th>K30-40UF</th>\n",
       "      <th>K30/40</th>\n",
       "      <th>K30/40-UF</th>\n",
       "      <th>K30/K40-UF</th>\n",
       "      <th>Na</th>\n",
       "      <th>S20</th>\n",
       "      <th>S20/B</th>\n",
       "      <th>k30/40-UF</th>\n",
       "      <th>faixa_de_quebras</th>\n",
       "    </tr>\n",
       "  </thead>\n",
       "  <tbody>\n",
       "    <tr>\n",
       "      <th>0</th>\n",
       "      <td>4721700050</td>\n",
       "      <td>5</td>\n",
       "      <td>0.014254</td>\n",
       "      <td>0.026549</td>\n",
       "      <td>0.017143</td>\n",
       "      <td>0.010791</td>\n",
       "      <td>0.0000</td>\n",
       "      <td>0</td>\n",
       "      <td>1</td>\n",
       "      <td>0</td>\n",
       "      <td>...</td>\n",
       "      <td>0</td>\n",
       "      <td>0</td>\n",
       "      <td>0</td>\n",
       "      <td>0</td>\n",
       "      <td>0</td>\n",
       "      <td>0</td>\n",
       "      <td>0</td>\n",
       "      <td>0</td>\n",
       "      <td>0</td>\n",
       "      <td>2</td>\n",
       "    </tr>\n",
       "    <tr>\n",
       "      <th>1</th>\n",
       "      <td>4700101394</td>\n",
       "      <td>26</td>\n",
       "      <td>0.068860</td>\n",
       "      <td>0.424779</td>\n",
       "      <td>0.325714</td>\n",
       "      <td>0.352518</td>\n",
       "      <td>0.0030</td>\n",
       "      <td>1</td>\n",
       "      <td>0</td>\n",
       "      <td>1</td>\n",
       "      <td>...</td>\n",
       "      <td>0</td>\n",
       "      <td>0</td>\n",
       "      <td>0</td>\n",
       "      <td>1</td>\n",
       "      <td>0</td>\n",
       "      <td>0</td>\n",
       "      <td>0</td>\n",
       "      <td>0</td>\n",
       "      <td>0</td>\n",
       "      <td>1</td>\n",
       "    </tr>\n",
       "    <tr>\n",
       "      <th>2</th>\n",
       "      <td>4700101395</td>\n",
       "      <td>28</td>\n",
       "      <td>0.061769</td>\n",
       "      <td>0.336283</td>\n",
       "      <td>0.325714</td>\n",
       "      <td>0.352518</td>\n",
       "      <td>0.0030</td>\n",
       "      <td>1</td>\n",
       "      <td>0</td>\n",
       "      <td>1</td>\n",
       "      <td>...</td>\n",
       "      <td>0</td>\n",
       "      <td>0</td>\n",
       "      <td>0</td>\n",
       "      <td>1</td>\n",
       "      <td>0</td>\n",
       "      <td>0</td>\n",
       "      <td>0</td>\n",
       "      <td>0</td>\n",
       "      <td>0</td>\n",
       "      <td>1</td>\n",
       "    </tr>\n",
       "    <tr>\n",
       "      <th>3</th>\n",
       "      <td>4700500778</td>\n",
       "      <td>5</td>\n",
       "      <td>0.021346</td>\n",
       "      <td>0.159292</td>\n",
       "      <td>0.131429</td>\n",
       "      <td>0.115108</td>\n",
       "      <td>0.0027</td>\n",
       "      <td>0</td>\n",
       "      <td>0</td>\n",
       "      <td>1</td>\n",
       "      <td>...</td>\n",
       "      <td>0</td>\n",
       "      <td>0</td>\n",
       "      <td>0</td>\n",
       "      <td>1</td>\n",
       "      <td>0</td>\n",
       "      <td>0</td>\n",
       "      <td>0</td>\n",
       "      <td>0</td>\n",
       "      <td>0</td>\n",
       "      <td>2</td>\n",
       "    </tr>\n",
       "    <tr>\n",
       "      <th>4</th>\n",
       "      <td>4700700155</td>\n",
       "      <td>9</td>\n",
       "      <td>0.035529</td>\n",
       "      <td>0.159292</td>\n",
       "      <td>0.177143</td>\n",
       "      <td>0.172662</td>\n",
       "      <td>0.0015</td>\n",
       "      <td>1</td>\n",
       "      <td>0</td>\n",
       "      <td>0</td>\n",
       "      <td>...</td>\n",
       "      <td>0</td>\n",
       "      <td>0</td>\n",
       "      <td>0</td>\n",
       "      <td>1</td>\n",
       "      <td>0</td>\n",
       "      <td>0</td>\n",
       "      <td>0</td>\n",
       "      <td>0</td>\n",
       "      <td>0</td>\n",
       "      <td>2</td>\n",
       "    </tr>\n",
       "  </tbody>\n",
       "</table>\n",
       "<p>5 rows × 79 columns</p>\n",
       "</div>"
      ],
      "text/plain": [
       "   PartNumber  nQuebras  LargerDiameter  StemDiameter  TotalLength  \\\n",
       "0  4721700050         5        0.014254      0.026549     0.017143   \n",
       "1  4700101394        26        0.068860      0.424779     0.325714   \n",
       "2  4700101395        28        0.061769      0.336283     0.325714   \n",
       "3  4700500778         5        0.021346      0.159292     0.131429   \n",
       "4  4700700155         9        0.035529      0.159292     0.177143   \n",
       "\n",
       "   ChannelLength  PropellerAngle  Refrigeration  \\\n",
       "0       0.010791          0.0000              0   \n",
       "1       0.352518          0.0030              1   \n",
       "2       0.352518          0.0030              1   \n",
       "3       0.115108          0.0027              0   \n",
       "4       0.172662          0.0015              1   \n",
       "\n",
       "   Supplier__3M TECHNICAL CERAMICS ZWEIGNIEDERLA  Supplier__ALLIANCE CNC  ...  \\\n",
       "0                                              1                       0  ...   \n",
       "1                                              0                       1  ...   \n",
       "2                                              0                       1  ...   \n",
       "3                                              0                       1  ...   \n",
       "4                                              0                       0  ...   \n",
       "\n",
       "   K30-40/UF  K30-40UF  K30/40  K30/40-UF  K30/K40-UF  Na  S20  S20/B  \\\n",
       "0          0         0       0          0           0   0    0      0   \n",
       "1          0         0       0          1           0   0    0      0   \n",
       "2          0         0       0          1           0   0    0      0   \n",
       "3          0         0       0          1           0   0    0      0   \n",
       "4          0         0       0          1           0   0    0      0   \n",
       "\n",
       "   k30/40-UF  faixa_de_quebras  \n",
       "0          0                 2  \n",
       "1          0                 1  \n",
       "2          0                 1  \n",
       "3          0                 2  \n",
       "4          0                 2  \n",
       "\n",
       "[5 rows x 79 columns]"
      ]
     },
     "execution_count": 58,
     "metadata": {},
     "output_type": "execute_result"
    }
   ],
   "source": [
    "df_tratado.head()"
   ]
  },
  {
   "cell_type": "code",
   "execution_count": 77,
   "metadata": {},
   "outputs": [],
   "source": [
    "df_tratado.to_csv('df_tratado_bosch.csv')"
   ]
  },
  {
   "cell_type": "code",
   "execution_count": 59,
   "metadata": {},
   "outputs": [],
   "source": [
    "from sklearn.model_selection import train_test_split\n",
    "X = df_tratado.drop(['PartNumber', 'nQuebras', 'faixa_de_quebras'], axis=1)\n",
    "y = df_tratado.faixa_de_quebras"
   ]
  },
  {
   "cell_type": "code",
   "execution_count": 60,
   "metadata": {},
   "outputs": [],
   "source": [
    "X_train, X_test, y_train, y_test = train_test_split(X, y, test_size=0.33, random_state=42)"
   ]
  },
  {
   "cell_type": "code",
   "execution_count": 66,
   "metadata": {},
   "outputs": [
    {
     "name": "stdout",
     "output_type": "stream",
     "text": [
      "[0.589041095890411, 0.5753424657534246, 0.5342465753424658, 0.5616438356164384, 0.5068493150684932, 0.4794520547945205, 0.4931506849315068, 0.4657534246575342, 0.4794520547945205, 0.4657534246575342, 0.4657534246575342, 0.4931506849315068, 0.4657534246575342, 0.5205479452054794, 0.5616438356164384, 0.5616438356164384, 0.6164383561643836, 0.6164383561643836, 0.589041095890411, 0.5753424657534246, 0.5753424657534246, 0.6164383561643836, 0.6027397260273972, 0.589041095890411, 0.6027397260273972, 0.5753424657534246, 0.589041095890411, 0.5753424657534246, 0.5616438356164384]\n"
     ]
    }
   ],
   "source": [
    "from sklearn.neighbors import KNeighborsClassifier\n",
    "taxa_de_erro = []\n",
    "#encontrando k\n",
    "for i in range(1,30):\n",
    "    knn = KNeighborsClassifier(n_neighbors=i)\n",
    "    knn.fit(X_train,y_train)\n",
    "    predicao = knn.predict(X_test)\n",
    "    taxa_de_erro.append(np.mean(predicao != y_test))\n",
    "print(taxa_de_erro)"
   ]
  },
  {
   "cell_type": "code",
   "execution_count": 70,
   "metadata": {},
   "outputs": [
    {
     "data": {
      "text/plain": [
       "Text(0, 0.5, 'Error Rate')"
      ]
     },
     "execution_count": 70,
     "metadata": {},
     "output_type": "execute_result"
    },
    {
     "data": {
      "image/png": "[encoded data removed]",
      "text/plain": [
       "<Figure size 720x432 with 1 Axes>"
      ]
     },
     "metadata": {
      "needs_background": "light"
     },
     "output_type": "display_data"
    }
   ],
   "source": [
    "import matplotlib.pyplot as plt\n",
    "plt.figure(figsize=(10,6))\n",
    "plt.plot(range(1,30),taxa_de_erro,color='blue', linestyle='dashed', marker='o',\n",
    "         markerfacecolor='red', markersize=10)\n",
    "plt.title('Error Rate vs. K Value')\n",
    "plt.xlabel('K')\n",
    "plt.ylabel('Error Rate')"
   ]
  },
  {
   "cell_type": "code",
   "execution_count": 76,
   "metadata": {},
   "outputs": [
    {
     "name": "stdout",
     "output_type": "stream",
     "text": [
      "              precision    recall  f1-score   support\n",
      "\n",
      "           0       0.39      0.50      0.44        18\n",
      "           1       0.44      0.30      0.36        23\n",
      "           2       0.62      0.66      0.64        32\n",
      "\n",
      "    accuracy                           0.51        73\n",
      "   macro avg       0.48      0.49      0.48        73\n",
      "weighted avg       0.51      0.51      0.50        73\n",
      "\n"
     ]
    }
   ],
   "source": [
    "from sklearn.neighbors import KNeighborsClassifier\n",
    "knn_bosch = KNeighborsClassifier(n_neighbors=7)\n",
    "knn_bosch.fit(X_train, y_train)\n",
    "predictions = knn_bosch.predict(X_test)\n",
    "from sklearn.metrics import classification_report\n",
    "print(classification_report(y_test, predictions))"
   ]
  },
  {
   "cell_type": "code",
   "execution_count": null,
   "metadata": {},
   "outputs": [],
   "source": []
  }
 ],
 "metadata": {
  "kernelspec": {
   "display_name": "env01",
   "language": "python",
   "name": "env01"
  },
  "language_info": {
   "codemirror_mode": {
    "name": "ipython",
    "version": 3
   },
   "file_extension": ".py",
   "mimetype": "text/x-python",
   "name": "python",
   "nbconvert_exporter": "python",
   "pygments_lexer": "ipython3",
   "version": "3.6.7"
  }
 },
 "nbformat": 4,
 "nbformat_minor": 2
}
