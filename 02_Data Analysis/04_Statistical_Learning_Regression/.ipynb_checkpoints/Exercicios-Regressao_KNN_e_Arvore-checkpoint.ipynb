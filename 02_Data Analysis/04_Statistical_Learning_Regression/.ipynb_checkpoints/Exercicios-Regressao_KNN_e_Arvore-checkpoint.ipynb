{
 "cells": [
  {
   "cell_type": "markdown",
   "metadata": {},
   "source": [
    "## KNN e Árvore de Regressão\n",
    "\n",
    "O objetivo deste exercício é se aprofundar nos conceitos de regressão e implementar os algoritmos de K-vizinhos mais próximos (KNN) e Árvore de Regressão.\n",
    "\n",
    "Utilizaremos as mesmas bases de dados do exercício anterior:"
   ]
  },
  {
   "cell_type": "code",
   "execution_count": 3,
   "metadata": {},
   "outputs": [],
   "source": [
    "import pandas as pd\n",
    "\n",
    "dados_adv = pd.read_csv('Advertising.csv', index_col=0)\n",
    "\n",
    "dados_por = pd.read_csv('Portland_housePrices.csv', index_col=None)\n",
    "\n",
    "X = dados_por.loc[:,['tamanho']]\n",
    "y = dados_por.loc[:,['preco']]"
   ]
  },
  {
   "cell_type": "markdown",
   "metadata": {},
   "source": [
    "O algoritmo KNN é implementado pela classe <a href=\"https://scikit-learn.org/stable/modules/generated/sklearn.neighbors.KNeighborsRegressor.html\">KNeighborsRegressor</a>:"
   ]
  },
  {
   "cell_type": "code",
   "execution_count": 4,
   "metadata": {},
   "outputs": [
    {
     "data": {
      "text/plain": [
       "KNeighborsRegressor(algorithm='auto', leaf_size=30, metric='minkowski',\n",
       "                    metric_params=None, n_jobs=None, n_neighbors=2, p=2,\n",
       "                    weights='uniform')"
      ]
     },
     "execution_count": 4,
     "metadata": {},
     "output_type": "execute_result"
    }
   ],
   "source": [
    "from sklearn.neighbors import KNeighborsRegressor\n",
    "neigh = KNeighborsRegressor(n_neighbors=2,weights='uniform')\n",
    "neigh.fit(X,y)"
   ]
  },
  {
   "cell_type": "markdown",
   "metadata": {},
   "source": [
    "Aqui, o algoritmo é configurado com K = 2 e o peso de cada instância é definido uniformemente.\n",
    "\n",
    "O \"formato\" do modelo aprendido pelo KNN é bem diferente do aprendido pela regressão linear:"
   ]
  },
  {
   "cell_type": "code",
   "execution_count": 5,
   "metadata": {},
   "outputs": [
    {
     "data": {
      "text/plain": [
       "Text(0, 0.5, 'Preço')"
      ]
     },
     "execution_count": 5,
     "metadata": {},
     "output_type": "execute_result"
    }
   ],
   "source": [
    "from sklearn.linear_model import LinearRegression\n",
    "from matplotlib import pyplot as plt\n",
    "import numpy as np\n",
    "\n",
    "\n",
    "linear = LinearRegression().fit(X,y)\n",
    "\n",
    "T = np.linspace(min(X.values.ravel()),max(X.values.ravel()), 500 )[:, np.newaxis]\n",
    "y_ = neigh.predict(T)\n",
    "\n",
    "\n",
    "plt.scatter(X, y,color='g')\n",
    "plt.plot(T, y_,color='b')\n",
    "plt.plot(X, linear.predict(X),color='r')\n",
    "\n",
    "plt.xlabel('Tamanho (pe2)')\n",
    "plt.ylabel('Preço')"
   ]
  },
  {
   "cell_type": "markdown",
   "metadata": {},
   "source": [
    "A parametrização K e o peso das instâncias podem ser alteradas no momento da instanciação do objeto, por exemplo:\n",
    "    \n",
    "```python\n",
    "    neigh = KNeighborsRegressor(n_neighbors=3,weights='uniform') # K = 3, peso uniforme\n",
    "    neigh = KNeighborsRegressor(n_neighbors=2,weights='distance') # K = 2, peso baseado na distância\n",
    "```    \n",
    "\n",
    "## Exercício 1\n",
    "\n",
    "Para as duas bases de treinamento de regressão (<i>Advertising</i> e <i>Portland_housePrices</i>), avalie quais são as melhores parametrizações (use inspeção visual e RSS/R^2).\n",
    "    \n",
    "    "
   ]
  },
  {
   "cell_type": "code",
   "execution_count": 7,
   "metadata": {},
   "outputs": [],
   "source": [
    "from sklearn.model_selection import train_test_split"
   ]
  },
  {
   "cell_type": "code",
   "execution_count": 9,
   "metadata": {},
   "outputs": [
    {
     "data": {
      "text/plain": [
       "Index(['Unnamed: 0', 'TV', 'radio', 'newspaper', 'sales'], dtype='object')"
      ]
     },
     "execution_count": 9,
     "metadata": {},
     "output_type": "execute_result"
    }
   ],
   "source": [
    "dataset.columns"
   ]
  },
  {
   "cell_type": "code",
   "execution_count": 21,
   "metadata": {},
   "outputs": [
    {
     "data": {
      "text/html": [
       "<div>\n",
       "<style scoped>\n",
       "    .dataframe tbody tr th:only-of-type {\n",
       "        vertical-align: middle;\n",
       "    }\n",
       "\n",
       "    .dataframe tbody tr th {\n",
       "        vertical-align: top;\n",
       "    }\n",
       "\n",
       "    .dataframe thead th {\n",
       "        text-align: right;\n",
       "    }\n",
       "</style>\n",
       "<table border=\"1\" class=\"dataframe\">\n",
       "  <thead>\n",
       "    <tr style=\"text-align: right;\">\n",
       "      <th></th>\n",
       "      <th>42</th>\n",
       "      <th>189</th>\n",
       "      <th>90</th>\n",
       "      <th>136</th>\n",
       "      <th>51</th>\n",
       "    </tr>\n",
       "  </thead>\n",
       "  <tbody>\n",
       "    <tr>\n",
       "      <th>sales</th>\n",
       "      <td>20.7</td>\n",
       "      <td>6.7</td>\n",
       "      <td>11.2</td>\n",
       "      <td>9.5</td>\n",
       "      <td>10.7</td>\n",
       "    </tr>\n",
       "  </tbody>\n",
       "</table>\n",
       "</div>"
      ],
      "text/plain": [
       "        42   189   90   136   51 \n",
       "sales  20.7  6.7  11.2  9.5  10.7"
      ]
     },
     "execution_count": 21,
     "metadata": {},
     "output_type": "execute_result"
    }
   ],
   "source": [
    "X = dataset.drop(['sales','Unnamed: 0'], axis=1)\n",
    "y = pd.DataFrame(dataset['sales'])\n",
    "X_train, X_test, y_train, y_test = train_test_split(X, y, test_size=0.33, random_state=42)\n",
    "y_train.head().T\n"
   ]
  },
  {
   "cell_type": "code",
   "execution_count": 29,
   "metadata": {},
   "outputs": [
    {
     "name": "stdout",
     "output_type": "stream",
     "text": [
      "   Unnamed: 0     TV  radio  newspaper  sales\n",
      "0           1  230.1   37.8       69.2   22.1\n",
      "1           2   44.5   39.3       45.1   10.4\n",
      "2           3   17.2   45.9       69.3    9.3\n",
      "3           4  151.5   41.3       58.5   18.5\n",
      "4           5  180.8   10.8       58.4   12.9\n",
      "1\n"
     ]
    }
   ],
   "source": [
    "import pandas as pd\n",
    "import numpy as np\n",
    "import operator\n",
    "\n",
    "# loading data file into the program. give the location of your csv file\n",
    "dataset = pd.read_csv(\"Advertising.csv\")\n",
    "print(dataset.head()) # prints first five tuples of your data.\n",
    "\n",
    "X = dataset.drop(['sales','Unnamed: 0'], axis=1)\n",
    "y = pd.DataFrame(dataset['sales'])\n",
    "X_train, X_test, y_train, y_test = train_test_split(X, y, test_size=0.33, random_state=42)\n",
    "\n",
    "# making function for calculating euclidean distance\n",
    "def E_Distance(x1, x2, length):\n",
    "    distance = 0\n",
    "    for x in range(length):\n",
    "        distance += np.square(x1[x] - x2[x])\n",
    "    return np.sqrt(distance)\n",
    "\n",
    "# making function for defining K-NN model\n",
    "\n",
    "def knn(trainingSet, testInstance, k):\n",
    "    distances = {}\n",
    "    length = testInstance.shape[0]\n",
    "    print(length)\n",
    "#     for x in range(len(trainingSet)):\n",
    "#         dist = E_Distance(testInstance, trainingSet.iloc[x], length)\n",
    "#         distances[x] = dist[0]\n",
    "#     sortdist = sorted(distances.items(), key=operator.itemgetter(1))\n",
    "#     neighbors = []\n",
    "#     for x in range(k):\n",
    "#         neighbors.append(sortdist[x][0])\n",
    "#     Count = {}  # to get most frequent class of rows\n",
    "#     for x in range(len(neighbors)):\n",
    "#         response = trainingSet.iloc[neighbors[x]][-1]\n",
    "#         if response in Count:\n",
    "#             Count[response] += 1\n",
    "#         else:\n",
    "#             Count[response] = 1\n",
    "#     sortcount = sorted(Count.items(), key=operator.itemgetter(1), reverse=True)\n",
    "#     return (sortcount[0][0], neighbors)\n",
    "\n",
    "# making test data set\n",
    "#X_test\n",
    "\n",
    "# assigning different values to k\n",
    "k = 1\n",
    "#k1 = 3\n",
    "#k2 = 11\n",
    "knn(X_train, y_train, k)\n",
    "# supplying test data to the model\n",
    "#result, neigh = knn(X_train, y_train, k)\n",
    "#result1, neigh1 = knn(dataset, test, k1)\n",
    "#result2, neigh2 = knn(dataset, test, k2)\n",
    "\n",
    "# printing output prediction\n",
    "\n",
    "# print(result)\n",
    "# print(neigh)\n",
    "#print(result1)\n",
    "#print(neigh1)\n",
    "#print(result2)\n",
    "#print(neigh2)"
   ]
  },
  {
   "cell_type": "markdown",
   "metadata": {},
   "source": [
    "## Árvore de Regressão\n",
    "\n",
    "A árvore de decisão é implementada através da classe <a href=\"https://scikit-learn.org/stable/modules/generated/sklearn.tree.DecisionTreeRegressor.html\">DecisionTreeRegressor</a>.\n"
   ]
  },
  {
   "cell_type": "code",
   "execution_count": 21,
   "metadata": {},
   "outputs": [
    {
     "data": {
      "text/plain": [
       "DecisionTreeRegressor(ccp_alpha=0.0, criterion='mse', max_depth=None,\n",
       "                      max_features=None, max_leaf_nodes=None,\n",
       "                      min_impurity_decrease=0.0, min_impurity_split=None,\n",
       "                      min_samples_leaf=1, min_samples_split=2,\n",
       "                      min_weight_fraction_leaf=0.0, presort='deprecated',\n",
       "                      random_state=None, splitter='best')"
      ]
     },
     "execution_count": 21,
     "metadata": {},
     "output_type": "execute_result"
    }
   ],
   "source": [
    "from sklearn.tree import DecisionTreeRegressor  \n",
    "#Regression tree\n",
    "# create a regressor object \n",
    "tree = DecisionTreeRegressor()  \n",
    "  \n",
    "    \n",
    "\n",
    "# fit the regressor with X and Y data \n",
    "tree.fit(X, y) "
   ]
  },
  {
   "cell_type": "code",
   "execution_count": 23,
   "metadata": {},
   "outputs": [
    {
     "data": {
      "text/plain": [
       "Text(0, 0.5, 'Preço')"
      ]
     },
     "execution_count": 23,
     "metadata": {},
     "output_type": "execute_result"
    },
    {
     "data": {
      "image/png": "[encoded data removed]",
      "text/plain": [
       "<Figure size 432x288 with 1 Axes>"
      ]
     },
     "metadata": {
      "needs_background": "light"
     },
     "output_type": "display_data"
    }
   ],
   "source": [
    "plt.scatter(X, y,color='g')\n",
    "y_t = tree.predict(T)\n",
    "plt.plot(T, y_t,color='b')\n",
    "\n",
    "plt.xlabel('Tamanho (pe2)')\n",
    "plt.ylabel('Preço')"
   ]
  },
  {
   "cell_type": "markdown",
   "metadata": {},
   "source": [
    "É possível também gerar a árvore resultante para visualização:"
   ]
  },
  {
   "cell_type": "code",
   "execution_count": 24,
   "metadata": {},
   "outputs": [],
   "source": [
    "from sklearn.tree import export_graphviz  \n",
    " \n",
    "\n",
    "export_graphviz(regressor, out_file ='tree.dot', \n",
    "               feature_names =['Tamanho'])"
   ]
  },
  {
   "cell_type": "markdown",
   "metadata": {},
   "source": [
    "Este código irá gerar um arquivo <b>tree.dot</b>.\n",
    "\n",
    "Esse arquivo pode ser visualizado no site <a href='http://www.webgraphviz.com/'>http://www.webgraphviz.com</a>"
   ]
  },
  {
   "cell_type": "markdown",
   "metadata": {},
   "source": [
    "## Exercício 2\n",
    "\n",
    "Qual seria o melhor método para montar um modelo em cada uma das bases com Árvore de Decisão?\n",
    "\n",
    "Utilizar apenas um atributo? multiplos? quais seriam?"
   ]
  },
  {
   "cell_type": "code",
   "execution_count": null,
   "metadata": {},
   "outputs": [],
   "source": []
  },
  {
   "cell_type": "markdown",
   "metadata": {},
   "source": [
    "## Comparação entre modelos\n",
    "\n",
    "Agora já sabemos como implementar um modelo linear multivariado:\n",
    "\n",
    "```python\n",
    "from sklearn.linear_model import LinearRegression\n",
    "linear = LinearRegression().fit(X,y)\n",
    "```\n",
    "\n",
    "como implementar o regressor KNN:\n",
    "\n",
    "```python\n",
    "from sklearn.neighbors import KNeighborsRegressor\n",
    "neigh = KNeighborsRegressor().fit(X,y)\n",
    "```\n",
    "\n",
    "e como implementar uma árvore de regressão:\n",
    "\n",
    "```python\n",
    "from sklearn.tree import DecisionTreeRegressor  \n",
    "tree = DecisionTreeRegressor().fit(X,y)\n",
    "```\n",
    "\n",
    "Conhecemos todos os algoritmos e seus parâmetros, agora como decidir <b>qual</b> deles usar efetivamente? Olhar o <i>fitting</i> em sua base de dados e tomar isso como verdade absoluta pode ser completamente enganoso.\n",
    "\n",
    "Podemos tentar <i>aliviar</i> esse problema fazendo uma comparação mais inteligente\n",
    "\n",
    "## Exercício 3\n",
    "\n",
    "1) Separe as bases <i>Portland_housePrices</i> e <i>Advertising</i> em conjuntos de <i>treinamento</i> e <i>teste</i> (30% das instâncias para teste e 70% para treinamento).\n",
    "\n",
    "2) Utilize as bases de treinamento para treinar os modelos a serem avaliados, e as bases de teste para avaliar o desempenho regressor dos modelos.\n",
    "\n",
    "3) Qual é o melhor modelo para cada problema? Por que você fez essa recomendação? (mostre métricas, gráficos, ou as evidências que julgar necessárias)."
   ]
  },
  {
   "cell_type": "code",
   "execution_count": null,
   "metadata": {},
   "outputs": [],
   "source": []
  }
 ],
 "metadata": {
  "kernelspec": {
   "display_name": "Python 3",
   "language": "python",
   "name": "python3"
  },
  "language_info": {
   "codemirror_mode": {
    "name": "ipython",
    "version": 3
   },
   "file_extension": ".py",
   "mimetype": "text/x-python",
   "name": "python",
   "nbconvert_exporter": "python",
   "pygments_lexer": "ipython3",
   "version": "3.6.7"
  }
 },
 "nbformat": 4,
 "nbformat_minor": 2
}
